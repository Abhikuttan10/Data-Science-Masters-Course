{
 "cells": [
  {
   "cell_type": "code",
   "execution_count": 7,
   "id": "b01300c6-967a-4e5b-ac27-a5a4a795af6d",
   "metadata": {},
   "outputs": [
    {
     "name": "stdin",
     "output_type": "stream",
     "text": [
      "Enter Percentage: 60\n"
     ]
    },
    {
     "name": "stdout",
     "output_type": "stream",
     "text": [
      "Grade is C\n"
     ]
    }
   ],
   "source": [
    "#1]\n",
    "a=int(input(\"Enter Percentage:\"))\n",
    "if a>90:\n",
    "    print(\"Grade is A\")\n",
    "elif a>80:\n",
    "    print(\"Grade is B\")\n",
    "elif a>=60:\n",
    "    print(\"Grade is C\")\n",
    "else:\n",
    "    print(\"Grade is D\")\n",
    "\n",
    "\n"
   ]
  },
  {
   "cell_type": "code",
   "execution_count": 12,
   "id": "bae58938-2347-4698-8306-3aff7628c177",
   "metadata": {},
   "outputs": [
    {
     "name": "stdin",
     "output_type": "stream",
     "text": [
      "Enter Cost Price of Bike: 40000\n"
     ]
    },
    {
     "name": "stdout",
     "output_type": "stream",
     "text": [
      "Tax to be paid is 2000.0\n"
     ]
    }
   ],
   "source": [
    "#2]\n",
    "a=int(input(\"Enter Cost Price of Bike:\"))\n",
    "if a>100000:\n",
    "    tax=a*0.15\n",
    "    print(\"Tax to be paid is {}\".format(tax))\n",
    "elif a>50000:\n",
    "    tax=a*0.1\n",
    "    print(\"Tax to be paid is {}\".format(tax))\n",
    "else:\n",
    "    tax=a*0.05\n",
    "    print(\"Tax to be paid is {}\".format(tax))\n",
    "\n",
    "\n",
    "\n"
   ]
  },
  {
   "cell_type": "code",
   "execution_count": 13,
   "id": "b7ea7ea8-df57-4322-b68d-82471e776182",
   "metadata": {},
   "outputs": [
    {
     "name": "stdout",
     "output_type": "stream",
     "text": [
      "Monuments of Cities:\n",
      "Delhi\n",
      "Agra\n",
      "Jaipur\n"
     ]
    },
    {
     "name": "stdin",
     "output_type": "stream",
     "text": [
      "Enter City Name from above shown list: Agra\n"
     ]
    },
    {
     "name": "stdout",
     "output_type": "stream",
     "text": [
      "Monument:Taj Mahal\n"
     ]
    }
   ],
   "source": [
    "#3]\n",
    "print(\"Monuments of Cities:\\nDelhi\\nAgra\\nJaipur\")\n",
    "a=input(\"Enter City Name from above shown list:\")\n",
    "if a==\"Delhi\":\n",
    "    print(\"Monument:Redfort\")\n",
    "elif a==\"Agra\":\n",
    "    print(\"Monument:Taj Mahal\")\n",
    "elif a==\"Jaipur\":\n",
    "    print(\"Monument:Jal Mahal\")"
   ]
  },
  {
   "cell_type": "code",
   "execution_count": 14,
   "id": "461aae56-c2cf-43a2-9fc2-b542815e9dfd",
   "metadata": {},
   "outputs": [
    {
     "name": "stdin",
     "output_type": "stream",
     "text": [
      "Enter Number: 99\n"
     ]
    },
    {
     "name": "stdout",
     "output_type": "stream",
     "text": [
      "33.0\n",
      "11.0\n",
      "3.6666666666666665\n"
     ]
    }
   ],
   "source": [
    "#4]\n",
    "a=int(input(\"Enter Number:\"))\n",
    "while a>10:\n",
    "    a=a/3\n",
    "    print(a)"
   ]
  },
  {
   "cell_type": "code",
   "execution_count": 15,
   "id": "cfa11ecb-6d98-4df5-bb7d-8fe317b6a911",
   "metadata": {},
   "outputs": [
    {
     "name": "stdout",
     "output_type": "stream",
     "text": [
      "1000\n",
      "900\n",
      "800\n",
      "700\n",
      "600\n",
      "500\n",
      "400\n",
      "300\n",
      "200\n",
      "100\n",
      "Put more money bank people\n"
     ]
    }
   ],
   "source": [
    "#5]\n",
    "'''While loop is used in python so that a particular set of codes is interpreted again and agaon till its condition is fulfilled'''\n",
    "total_amount=1000\n",
    "while total_amount!=0:\n",
    "    print(total_amount)\n",
    "    total_amount=total_amount-100\n",
    "else:\n",
    "    print(\"Put more money bank people\")\n",
    "    "
   ]
  },
  {
   "cell_type": "code",
   "execution_count": 22,
   "id": "1e6d2e11-cbdc-49ca-9037-5cca7664c1e6",
   "metadata": {},
   "outputs": [
    {
     "name": "stdin",
     "output_type": "stream",
     "text": [
      "Enter number of rows :  6\n"
     ]
    },
    {
     "name": "stdout",
     "output_type": "stream",
     "text": [
      "* \n",
      "* * \n",
      "* * * \n",
      "* * * * \n",
      "* * * * * \n",
      "* * * * * * \n"
     ]
    },
    {
     "name": "stdin",
     "output_type": "stream",
     "text": [
      "Enter number of rows :  7\n"
     ]
    },
    {
     "name": "stdout",
     "output_type": "stream",
     "text": [
      "* * * * * * * \n",
      "* * * * * * \n",
      "* * * * * \n",
      "* * * * \n",
      "* * * \n",
      "* * \n",
      "* \n"
     ]
    },
    {
     "name": "stdin",
     "output_type": "stream",
     "text": [
      "Enter number of rows :  8\n"
     ]
    },
    {
     "name": "stdout",
     "output_type": "stream",
     "text": [
      "  1 \n",
      "  2   3 \n",
      "  4   5   6 \n",
      "  7   8   9  10 \n",
      " 11  12  13  14  15 \n",
      " 16  17  18  19  20  21 \n",
      " 22  23  24  25  26  27  28 \n",
      " 29  30  31  32  33  34  35  36 \n"
     ]
    }
   ],
   "source": [
    "#6]\n",
    "#a]\n",
    "n = int(input('Enter number of rows : '))\n",
    "\n",
    "i = 1\n",
    "while i <= n :\n",
    "    j = 1\n",
    "    while j <= i:\n",
    "        print(\"*\", end = \" \")\n",
    "        j += 1\n",
    "    print()\n",
    "    i += 1\n",
    "#b]\n",
    "n = int(input('Enter number of rows : '))\n",
    " \n",
    "i = 1\n",
    "while i <= n :\n",
    "    j = n\n",
    "    while j >= i:\n",
    "        print(\"*\", end = \" \")\n",
    "        j -= 1\n",
    "    print()\n",
    "    i += 1\n",
    "#c]\n",
    "n = int(input('Enter number of rows : '))\n",
    " \n",
    "k = 1\n",
    "i = 1\n",
    "while i <= n :\n",
    "    j = 1\n",
    "    while j <= i:\n",
    "        print(\"{:3d}\".format(k), end = \" \")\n",
    "        j += 1\n",
    "        k += 1\n",
    "    print()\n",
    "    i += 1"
   ]
  },
  {
   "cell_type": "code",
   "execution_count": 20,
   "id": "901b959f-45a7-4e72-9f75-6072f92b8300",
   "metadata": {},
   "outputs": [
    {
     "name": "stdout",
     "output_type": "stream",
     "text": [
      "10\n",
      "9\n",
      "8\n",
      "7\n",
      "6\n",
      "5\n",
      "4\n",
      "3\n",
      "2\n",
      "1\n"
     ]
    }
   ],
   "source": [
    "#7]\n",
    "a=10\n",
    "while a>=1:\n",
    "    print(a)\n",
    "    a=a-1"
   ]
  },
  {
   "cell_type": "code",
   "execution_count": 21,
   "id": "48bdadb3-657c-473f-95c7-48b6b0a75e23",
   "metadata": {},
   "outputs": [
    {
     "name": "stdout",
     "output_type": "stream",
     "text": [
      "10\n",
      "9\n",
      "8\n",
      "7\n",
      "6\n",
      "5\n",
      "4\n",
      "3\n",
      "2\n",
      "1\n"
     ]
    }
   ],
   "source": [
    "#8]\n",
    "#7]\n",
    "a=10\n",
    "while a>=1:\n",
    "    print(a)\n",
    "    a=a-1\n"
   ]
  },
  {
   "cell_type": "code",
   "execution_count": null,
   "id": "27ca26b8-4366-47a5-8dac-4a702e870956",
   "metadata": {},
   "outputs": [],
   "source": []
  }
 ],
 "metadata": {
  "kernelspec": {
   "display_name": "Python 3 (ipykernel)",
   "language": "python",
   "name": "python3"
  },
  "language_info": {
   "codemirror_mode": {
    "name": "ipython",
    "version": 3
   },
   "file_extension": ".py",
   "mimetype": "text/x-python",
   "name": "python",
   "nbconvert_exporter": "python",
   "pygments_lexer": "ipython3",
   "version": "3.10.8"
  }
 },
 "nbformat": 4,
 "nbformat_minor": 5
}
