{
 "cells": [
  {
   "cell_type": "code",
   "execution_count": 8,
   "id": "154ae2b7",
   "metadata": {},
   "outputs": [],
   "source": [
    "# Q1"
   ]
  },
  {
   "cell_type": "code",
   "execution_count": 9,
   "id": "10eb98d7",
   "metadata": {},
   "outputs": [
    {
     "name": "stdout",
     "output_type": "stream",
     "text": [
      "Original Player runs:  [('Sachin Tendulkar', 34357), ('Ricky Ponting', 27483), ('Jack Kallis', 25534), ('Virat Kohli', 24936)]\n",
      "Sorted list:  [('Virat Kohli', 24936), ('Jack Kallis', 25534), ('Ricky Ponting', 27483), ('Sachin Tendulkar', 34357)]\n"
     ]
    }
   ],
   "source": [
    "Player_runs=[('Sachin Tendulkar', 34357), ('Ricky Ponting', 27483), ('Jack Kallis', 25534), ('Virat Kohli', 24936)]\n",
    "print(\"Original Player runs: \",Player_runs)\n",
    "Player_runs.sort(key=lambda x:x[1])\n",
    "print(\"Sorted list: \",Player_runs)"
   ]
  },
  {
   "cell_type": "code",
   "execution_count": 32,
   "id": "be8efdb2",
   "metadata": {},
   "outputs": [
    {
     "name": "stdout",
     "output_type": "stream",
     "text": [
      "[1, 4, 9, 16, 25, 36, 49, 64, 81, 100]\n",
      "[1, 4, 9, 16, 25, 36, 49, 64, 81, 100]\n"
     ]
    }
   ],
   "source": [
    "#Q2\n",
    "a=[1, 2, 3, 4, 5, 6, 7,8, 9, 10]\n",
    "i=0\n",
    "b=[]\n",
    "for x in a:\n",
    "    y=lambda x:x[i]*x[i]\n",
    "    b.append(y(a))\n",
    "    i=i+1\n",
    "print(b)\n",
    "\n",
    "#Using Map\n",
    "a=[1, 2, 3, 4, 5, 6, 7, 8, 9, 10]\n",
    "c=map(lambda y:y*y,a)\n",
    "print(list(c)\n"
   ]
  },
  {
   "cell_type": "code",
   "execution_count": 39,
   "id": "37cde412",
   "metadata": {
    "scrolled": true
   },
   "outputs": [
    {
     "name": "stdout",
     "output_type": "stream",
     "text": [
      "('1', '2', '3', '4', '5', '6', '7', '8', '9', '10')\n"
     ]
    }
   ],
   "source": [
    "#Q3\n",
    "lis1=[1, 2, 3, 4, 5, 6, 7, 8, 9, 10]\n",
    "tpl=tuple(map(lambda x:str(x),lis1))\n",
    "print(tpl)"
   ]
  },
  {
   "cell_type": "code",
   "execution_count": 18,
   "id": "c73b985e",
   "metadata": {},
   "outputs": [
    {
     "name": "stdout",
     "output_type": "stream",
     "text": [
      "[1, 2, 3, 4, 5, 6, 7, 8, 9, 10, 11, 12, 13, 14, 15, 16, 17, 18, 19, 20, 21, 22, 23, 24, 25]\n",
      "15511210043330985984000000\n"
     ]
    }
   ],
   "source": [
    "#Q4\n",
    "import functools\n",
    "lis1=[i for i in range(1,26)]\n",
    "print(lis1)\n",
    "print(functools.reduce(lambda x,y:x*y , lis1))\n"
   ]
  },
  {
   "cell_type": "code",
   "execution_count": 30,
   "id": "0475cd06",
   "metadata": {},
   "outputs": [
    {
     "name": "stdout",
     "output_type": "stream",
     "text": [
      "[6, 60, 90, 120]\n"
     ]
    }
   ],
   "source": [
    "#Q5\n",
    "numb1=[2, 3, 6, 9, 27, 60, 90, 120, 55, 46]\n",
    "def fun1(x):\n",
    "    if x%2==0 and x%3==0:\n",
    "        return True\n",
    "    else:\n",
    "        return False\n",
    "c=filter(fun1,numb1)\n",
    "print(list(c))"
   ]
  },
  {
   "cell_type": "code",
   "execution_count": 37,
   "id": "18d0dc6b",
   "metadata": {},
   "outputs": [
    {
     "name": "stdout",
     "output_type": "stream",
     "text": [
      "None\n",
      "php\n",
      "aba\n",
      "radar\n",
      "level\n"
     ]
    }
   ],
   "source": [
    "#Q6\n",
    "lis1=['python', 'php', 'aba', 'radar', 'level']\n",
    "x=lambda y: y if y==y[::-1] else None\n",
    "for a in lis1:\n",
    "    print(x(a))"
   ]
  },
  {
   "cell_type": "code",
   "execution_count": null,
   "id": "9ce2b215",
   "metadata": {},
   "outputs": [],
   "source": []
  }
 ],
 "metadata": {
  "kernelspec": {
   "display_name": "Python 3 (ipykernel)",
   "language": "python",
   "name": "python3"
  },
  "language_info": {
   "codemirror_mode": {
    "name": "ipython",
    "version": 3
   },
   "file_extension": ".py",
   "mimetype": "text/x-python",
   "name": "python",
   "nbconvert_exporter": "python",
   "pygments_lexer": "ipython3",
   "version": "3.9.13"
  }
 },
 "nbformat": 4,
 "nbformat_minor": 5
}
