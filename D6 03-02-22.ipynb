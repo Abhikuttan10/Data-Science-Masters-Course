{
 "cells": [
  {
   "cell_type": "code",
   "execution_count": 1,
   "id": "e25cfb77-f87a-4b29-85ac-fd7a9daaf94f",
   "metadata": {},
   "outputs": [],
   "source": [
    "def test():\n",
    "    pass"
   ]
  },
  {
   "cell_type": "code",
   "execution_count": 2,
   "id": "f3701794-c8a4-4f67-918f-75ee3fcb1f36",
   "metadata": {},
   "outputs": [
    {
     "ename": "SyntaxError",
     "evalue": "incomplete input (1729233676.py, line 1)",
     "output_type": "error",
     "traceback": [
      "\u001b[0;36m  Cell \u001b[0;32mIn[2], line 1\u001b[0;36m\u001b[0m\n\u001b[0;31m    def test1():\u001b[0m\n\u001b[0m                ^\u001b[0m\n\u001b[0;31mSyntaxError\u001b[0m\u001b[0;31m:\u001b[0m incomplete input\n"
     ]
    }
   ],
   "source": [
    "def test1():"
   ]
  },
  {
   "cell_type": "code",
   "execution_count": 3,
   "id": "813ff812-4f94-4d36-8e28-edaa3f813093",
   "metadata": {},
   "outputs": [],
   "source": [
    "def test1():\n",
    "    print(\"Fist Program\")"
   ]
  },
  {
   "cell_type": "code",
   "execution_count": 5,
   "id": "f47206a3-9be2-4389-a893-7dbffb3641df",
   "metadata": {},
   "outputs": [
    {
     "name": "stdout",
     "output_type": "stream",
     "text": [
      "Fist Program\n"
     ]
    }
   ],
   "source": [
    "test1()"
   ]
  },
  {
   "cell_type": "code",
   "execution_count": 6,
   "id": "c99f7e7a-9b49-4adb-a12a-fc9af202fcbc",
   "metadata": {},
   "outputs": [
    {
     "name": "stdout",
     "output_type": "stream",
     "text": [
      "Fist Program\n"
     ]
    },
    {
     "ename": "TypeError",
     "evalue": "unsupported operand type(s) for +: 'NoneType' and 'str'",
     "output_type": "error",
     "traceback": [
      "\u001b[0;31m---------------------------------------------------------------------------\u001b[0m",
      "\u001b[0;31mTypeError\u001b[0m                                 Traceback (most recent call last)",
      "Cell \u001b[0;32mIn[6], line 1\u001b[0m\n\u001b[0;32m----> 1\u001b[0m \u001b[43mtest1\u001b[49m\u001b[43m(\u001b[49m\u001b[43m)\u001b[49m\u001b[38;5;241;43m+\u001b[39;49m\u001b[38;5;124;43m\"\u001b[39;49m\u001b[38;5;124;43msad\u001b[39;49m\u001b[38;5;124;43m\"\u001b[39;49m\n",
      "\u001b[0;31mTypeError\u001b[0m: unsupported operand type(s) for +: 'NoneType' and 'str'"
     ]
    }
   ],
   "source": [
    "test1()+\"sad\""
   ]
  },
  {
   "cell_type": "code",
   "execution_count": 7,
   "id": "387b50ff-e204-4101-bed8-434e644bec87",
   "metadata": {},
   "outputs": [],
   "source": [
    "def test2():\n",
    "   return \"Fist Program\" "
   ]
  },
  {
   "cell_type": "code",
   "execution_count": 8,
   "id": "2852853f-00bf-4d64-ad6c-7d51cce24be4",
   "metadata": {},
   "outputs": [
    {
     "data": {
      "text/plain": [
       "'Fist Program'"
      ]
     },
     "execution_count": 8,
     "metadata": {},
     "output_type": "execute_result"
    }
   ],
   "source": [
    "test2()"
   ]
  },
  {
   "cell_type": "code",
   "execution_count": 9,
   "id": "cbeed230-8c7a-4649-a98b-fcd31ce70b0b",
   "metadata": {},
   "outputs": [
    {
     "data": {
      "text/plain": [
       "'Fist Programsad'"
      ]
     },
     "execution_count": 9,
     "metadata": {},
     "output_type": "execute_result"
    }
   ],
   "source": [
    "test2()+\"sad\""
   ]
  },
  {
   "cell_type": "code",
   "execution_count": 10,
   "id": "d8c2b44f-e36c-46f2-9188-91eca21dc647",
   "metadata": {},
   "outputs": [],
   "source": [
    "def test3():\n",
    "    return 1,2,2.65,\"dw\""
   ]
  },
  {
   "cell_type": "code",
   "execution_count": 13,
   "id": "a77b4321-eb05-434f-bad0-0d7b0a6a2309",
   "metadata": {},
   "outputs": [
    {
     "data": {
      "text/plain": [
       "(1, 2, 2.65, 'dw')"
      ]
     },
     "execution_count": 13,
     "metadata": {},
     "output_type": "execute_result"
    }
   ],
   "source": [
    "test3()"
   ]
  },
  {
   "cell_type": "code",
   "execution_count": 14,
   "id": "0d050ed7-6a38-4464-9dc8-ca2b334d1682",
   "metadata": {},
   "outputs": [
    {
     "data": {
      "text/plain": [
       "2.65"
      ]
     },
     "execution_count": 14,
     "metadata": {},
     "output_type": "execute_result"
    }
   ],
   "source": [
    "test3()[2]"
   ]
  },
  {
   "cell_type": "code",
   "execution_count": 17,
   "id": "a5138778-14f4-45ea-a895-7ce2548a9160",
   "metadata": {},
   "outputs": [
    {
     "data": {
      "text/plain": [
       "float"
      ]
     },
     "execution_count": 17,
     "metadata": {},
     "output_type": "execute_result"
    }
   ],
   "source": [
    "type(test3()[2])"
   ]
  },
  {
   "cell_type": "code",
   "execution_count": 18,
   "id": "e9f74fb6-84d3-4412-8b3a-20ddee1a1fb0",
   "metadata": {},
   "outputs": [],
   "source": [
    "def test4():\n",
    "    a=3*4+5\n",
    "    return a"
   ]
  },
  {
   "cell_type": "code",
   "execution_count": 19,
   "id": "dde362fe-6016-458d-8c60-22153b35384a",
   "metadata": {},
   "outputs": [
    {
     "data": {
      "text/plain": [
       "17"
      ]
     },
     "execution_count": 19,
     "metadata": {},
     "output_type": "execute_result"
    }
   ],
   "source": [
    "test4()"
   ]
  },
  {
   "cell_type": "code",
   "execution_count": 20,
   "id": "7d0f272e-193f-4959-857a-eecb85c8ac7b",
   "metadata": {},
   "outputs": [],
   "source": [
    "def test5(a,b):\n",
    "    c=a+b\n",
    "    return c"
   ]
  },
  {
   "cell_type": "code",
   "execution_count": 21,
   "id": "c86e7ff9-14d5-498d-8153-5e70b40c6e5a",
   "metadata": {},
   "outputs": [
    {
     "ename": "TypeError",
     "evalue": "test5() missing 2 required positional arguments: 'a' and 'b'",
     "output_type": "error",
     "traceback": [
      "\u001b[0;31m---------------------------------------------------------------------------\u001b[0m",
      "\u001b[0;31mTypeError\u001b[0m                                 Traceback (most recent call last)",
      "Cell \u001b[0;32mIn[21], line 1\u001b[0m\n\u001b[0;32m----> 1\u001b[0m \u001b[43mtest5\u001b[49m\u001b[43m(\u001b[49m\u001b[43m)\u001b[49m\n",
      "\u001b[0;31mTypeError\u001b[0m: test5() missing 2 required positional arguments: 'a' and 'b'"
     ]
    }
   ],
   "source": [
    "test5()"
   ]
  },
  {
   "cell_type": "code",
   "execution_count": 22,
   "id": "71f905eb-6f2c-4c52-8873-5e632febc9a8",
   "metadata": {},
   "outputs": [
    {
     "data": {
      "text/plain": [
       "94"
      ]
     },
     "execution_count": 22,
     "metadata": {},
     "output_type": "execute_result"
    }
   ],
   "source": [
    "test5(25,69)"
   ]
  },
  {
   "cell_type": "code",
   "execution_count": 23,
   "id": "2fbee9a9-3484-4d0f-acb9-65178ff58438",
   "metadata": {},
   "outputs": [
    {
     "data": {
      "text/plain": [
       "'AbhiKuttan'"
      ]
     },
     "execution_count": 23,
     "metadata": {},
     "output_type": "execute_result"
    }
   ],
   "source": [
    "test5(\"Abhi\",\"Kuttan\")"
   ]
  },
  {
   "cell_type": "code",
   "execution_count": 26,
   "id": "9f8e122e-6e84-4641-bf3e-ad6c78b9b80e",
   "metadata": {},
   "outputs": [
    {
     "data": {
      "text/plain": [
       "'AbhiKuttan'"
      ]
     },
     "execution_count": 26,
     "metadata": {},
     "output_type": "execute_result"
    }
   ],
   "source": [
    "test5(b=\"Kuttan\",a=\"Abhi\")"
   ]
  },
  {
   "cell_type": "code",
   "execution_count": 25,
   "id": "c8de7f64-acf3-42d4-b131-58f9ce0c7cb5",
   "metadata": {},
   "outputs": [
    {
     "data": {
      "text/plain": [
       "(1, 2, 3, 6, 5, 6, 4)"
      ]
     },
     "execution_count": 25,
     "metadata": {},
     "output_type": "execute_result"
    }
   ],
   "source": [
    "test5((1,2,3,6),(5,6,4))"
   ]
  },
  {
   "cell_type": "code",
   "execution_count": 28,
   "id": "2a4d19cb-c137-4985-8117-e6e51692b9f0",
   "metadata": {},
   "outputs": [],
   "source": [
    "l=[1,3,94,67,\"Abhi\",\"Kuttan\",5164.1565,[68,1,5,]]"
   ]
  },
  {
   "cell_type": "code",
   "execution_count": 42,
   "id": "8a1b6ce9-dacb-4420-940e-37b3ceb9fdbe",
   "metadata": {},
   "outputs": [],
   "source": [
    "def numbe(k):\n",
    "    for i in k:\n",
    "        if i==int:\n",
    "            return(i)"
   ]
  },
  {
   "cell_type": "code",
   "execution_count": 43,
   "id": "d76ffded-c6fc-468a-b3b5-e79bb941731f",
   "metadata": {},
   "outputs": [],
   "source": [
    "numbe(l)"
   ]
  },
  {
   "cell_type": "code",
   "execution_count": 52,
   "id": "927b135f-1ee4-411c-8634-99e0543dafc3",
   "metadata": {},
   "outputs": [],
   "source": [
    "def test6(k):\n",
    "    n=[]\n",
    "    for i in k:\n",
    "        if type(i)==list:\n",
    "            for j in i:\n",
    "                if type(j)==int or type(j)==float:\n",
    "                    n.append(j)\n",
    "        else:\n",
    "            if type(i)== int or type(i)==float:\n",
    "                n.append(i)\n",
    "    return n"
   ]
  },
  {
   "cell_type": "code",
   "execution_count": 53,
   "id": "f9b2980c-1dce-4754-b2f1-81cc68757e4e",
   "metadata": {},
   "outputs": [
    {
     "data": {
      "text/plain": [
       "[1, 3, 94, 67, 5164.1565, 68, 1, 5]"
      ]
     },
     "execution_count": 53,
     "metadata": {},
     "output_type": "execute_result"
    }
   ],
   "source": [
    "test6(l)"
   ]
  },
  {
   "cell_type": "code",
   "execution_count": 55,
   "id": "58fa0826-950c-4901-a240-f20e504e7817",
   "metadata": {},
   "outputs": [],
   "source": [
    "def test7(a,b,c,d):\n",
    "    pass"
   ]
  },
  {
   "cell_type": "code",
   "execution_count": 56,
   "id": "564f0a64-7ea8-4984-97d3-bc0e37cb76a4",
   "metadata": {},
   "outputs": [
    {
     "ename": "TypeError",
     "evalue": "test7() takes 4 positional arguments but 6 were given",
     "output_type": "error",
     "traceback": [
      "\u001b[0;31m---------------------------------------------------------------------------\u001b[0m",
      "\u001b[0;31mTypeError\u001b[0m                                 Traceback (most recent call last)",
      "Cell \u001b[0;32mIn[56], line 1\u001b[0m\n\u001b[0;32m----> 1\u001b[0m \u001b[43mtest7\u001b[49m\u001b[43m(\u001b[49m\u001b[38;5;241;43m1\u001b[39;49m\u001b[43m,\u001b[49m\u001b[38;5;241;43m2\u001b[39;49m\u001b[43m,\u001b[49m\u001b[38;5;241;43m3\u001b[39;49m\u001b[43m,\u001b[49m\u001b[38;5;241;43m4\u001b[39;49m\u001b[43m,\u001b[49m\u001b[38;5;241;43m5\u001b[39;49m\u001b[43m,\u001b[49m\u001b[38;5;241;43m6\u001b[39;49m\u001b[43m)\u001b[49m\n",
      "\u001b[0;31mTypeError\u001b[0m: test7() takes 4 positional arguments but 6 were given"
     ]
    }
   ],
   "source": [
    "test7(1,2,3,4,5,6)"
   ]
  },
  {
   "cell_type": "code",
   "execution_count": 57,
   "id": "81cfd398-1121-4e3e-8f99-e42d479b4b85",
   "metadata": {},
   "outputs": [],
   "source": [
    "def test8(*args):\n",
    "    return args"
   ]
  },
  {
   "cell_type": "code",
   "execution_count": 58,
   "id": "318ba6b8-3009-4d82-b3cb-abfade9dc879",
   "metadata": {},
   "outputs": [
    {
     "data": {
      "text/plain": [
       "(1, 3, 4, 6, 85, 16, 48, 64, 52, 5, 'hskhdk', 'shhdska')"
      ]
     },
     "execution_count": 58,
     "metadata": {},
     "output_type": "execute_result"
    }
   ],
   "source": [
    "test8(1,3,4,6,85,16,48,64,52,5,\"hskhdk\",\"shhdska\")"
   ]
  },
  {
   "cell_type": "code",
   "execution_count": 59,
   "id": "50400e86-6218-4b8e-abaa-db20ccd57be6",
   "metadata": {},
   "outputs": [],
   "source": [
    "# Args abpve is not a keyword"
   ]
  },
  {
   "cell_type": "code",
   "execution_count": 60,
   "id": "a9fa2c05-e99e-4455-8cbf-ba40f8659501",
   "metadata": {},
   "outputs": [],
   "source": [
    "def test9(*kuttan):\n",
    "    return kuttan"
   ]
  },
  {
   "cell_type": "code",
   "execution_count": 61,
   "id": "90fdc65f-a652-496d-ac46-f57b1cee0202",
   "metadata": {},
   "outputs": [
    {
     "data": {
      "text/plain": [
       "(1, 2, 3, 4, 'ajdsh', 'jdiaj')"
      ]
     },
     "execution_count": 61,
     "metadata": {},
     "output_type": "execute_result"
    }
   ],
   "source": [
    "test9(1,2,3,4,\"ajdsh\",\"jdiaj\")"
   ]
  },
  {
   "cell_type": "code",
   "execution_count": 63,
   "id": "b1a1a0d1-28d7-4173-af87-bce4599e0e1e",
   "metadata": {},
   "outputs": [],
   "source": [
    "def test10(*a,b):\n",
    "    return a,b"
   ]
  },
  {
   "cell_type": "code",
   "execution_count": 64,
   "id": "39b12a20-86eb-47c0-897d-4426fb3f2c94",
   "metadata": {},
   "outputs": [
    {
     "data": {
      "text/plain": [
       "((1, 2, 3, 4, 6), 13)"
      ]
     },
     "execution_count": 64,
     "metadata": {},
     "output_type": "execute_result"
    }
   ],
   "source": [
    "test10(1,2,3,4,6,b=13)"
   ]
  },
  {
   "cell_type": "code",
   "execution_count": 65,
   "id": "6f8d1e74-287d-4cb3-a26c-01385b74638a",
   "metadata": {},
   "outputs": [],
   "source": [
    "def test11(*args):\n",
    "    l=[]\n",
    "    for i in args:\n",
    "        if type(i)==list:\n",
    "            l.append(i)\n",
    "    return l"
   ]
  },
  {
   "cell_type": "code",
   "execution_count": 67,
   "id": "6b00c93f-f352-4682-bfe4-d5bcffc36a8b",
   "metadata": {},
   "outputs": [
    {
     "data": {
      "text/plain": [
       "[[16, 3, 4, 848, 4]]"
      ]
     },
     "execution_count": 67,
     "metadata": {},
     "output_type": "execute_result"
    }
   ],
   "source": [
    "test11(1,2,3,4,6,[16,3,4,848,4])"
   ]
  },
  {
   "cell_type": "code",
   "execution_count": 68,
   "id": "617f4f82-aa60-4ff9-86ba-a6879564e5dd",
   "metadata": {},
   "outputs": [],
   "source": [
    "def test12(**ab):\n",
    "    return ab"
   ]
  },
  {
   "cell_type": "code",
   "execution_count": 69,
   "id": "61d1cd14-7459-4107-a356-da3b1c087028",
   "metadata": {},
   "outputs": [
    {
     "data": {
      "text/plain": [
       "{}"
      ]
     },
     "execution_count": 69,
     "metadata": {},
     "output_type": "execute_result"
    }
   ],
   "source": [
    "test12()"
   ]
  },
  {
   "cell_type": "code",
   "execution_count": 73,
   "id": "56804067-1782-4e50-affb-42d9b8cedfcd",
   "metadata": {},
   "outputs": [
    {
     "ename": "SyntaxError",
     "evalue": "expression cannot contain assignment, perhaps you meant \"==\"? (1247925174.py, line 1)",
     "output_type": "error",
     "traceback": [
      "\u001b[0;36m  Cell \u001b[0;32mIn[73], line 1\u001b[0;36m\u001b[0m\n\u001b[0;31m    test12(A=45,B=456,4566=\"SUAHK\")\u001b[0m\n\u001b[0m                      ^\u001b[0m\n\u001b[0;31mSyntaxError\u001b[0m\u001b[0;31m:\u001b[0m expression cannot contain assignment, perhaps you meant \"==\"?\n"
     ]
    }
   ],
   "source": [
    "test12(A=45,B=456,4566=\"SUAHK\")"
   ]
  },
  {
   "cell_type": "code",
   "execution_count": 82,
   "id": "4dda9e3c-a067-4501-9900-1f058902c30a",
   "metadata": {},
   "outputs": [],
   "source": [
    "def test13(**kwargs):\n",
    "    for i in kwargs.values():\n",
    "        if type(kwargs[i])==str:\n",
    "            return i"
   ]
  },
  {
   "cell_type": "code",
   "execution_count": 83,
   "id": "d890f388-e1d9-4f07-8335-0696725ced41",
   "metadata": {},
   "outputs": [
    {
     "ename": "KeyError",
     "evalue": "56",
     "output_type": "error",
     "traceback": [
      "\u001b[0;31m---------------------------------------------------------------------------\u001b[0m",
      "\u001b[0;31mKeyError\u001b[0m                                  Traceback (most recent call last)",
      "Cell \u001b[0;32mIn[83], line 1\u001b[0m\n\u001b[0;32m----> 1\u001b[0m \u001b[43mtest13\u001b[49m\u001b[43m(\u001b[49m\u001b[43ma\u001b[49m\u001b[38;5;241;43m=\u001b[39;49m\u001b[38;5;241;43m56\u001b[39;49m\u001b[43m,\u001b[49m\u001b[43mb\u001b[49m\u001b[38;5;241;43m=\u001b[39;49m\u001b[38;5;241;43m556\u001b[39;49m\u001b[43m,\u001b[49m\u001b[43mc\u001b[49m\u001b[38;5;241;43m=\u001b[39;49m\u001b[38;5;124;43m\"\u001b[39;49m\u001b[38;5;124;43mska\u001b[39;49m\u001b[38;5;124;43m\"\u001b[39;49m\u001b[43m)\u001b[49m\n",
      "Cell \u001b[0;32mIn[82], line 3\u001b[0m, in \u001b[0;36mtest13\u001b[0;34m(**kwargs)\u001b[0m\n\u001b[1;32m      1\u001b[0m \u001b[38;5;28;01mdef\u001b[39;00m \u001b[38;5;21mtest13\u001b[39m(\u001b[38;5;241m*\u001b[39m\u001b[38;5;241m*\u001b[39mkwargs):\n\u001b[1;32m      2\u001b[0m     \u001b[38;5;28;01mfor\u001b[39;00m i \u001b[38;5;129;01min\u001b[39;00m kwargs\u001b[38;5;241m.\u001b[39mvalues():\n\u001b[0;32m----> 3\u001b[0m         \u001b[38;5;28;01mif\u001b[39;00m \u001b[38;5;28mtype\u001b[39m(\u001b[43mkwargs\u001b[49m\u001b[43m[\u001b[49m\u001b[43mi\u001b[49m\u001b[43m]\u001b[49m)\u001b[38;5;241m==\u001b[39m\u001b[38;5;28mstr\u001b[39m:\n\u001b[1;32m      4\u001b[0m             \u001b[38;5;28;01mreturn\u001b[39;00m i\n",
      "\u001b[0;31mKeyError\u001b[0m: 56"
     ]
    }
   ],
   "source": [
    "test13(a=56,b=556,c=\"ska\")"
   ]
  },
  {
   "cell_type": "code",
   "execution_count": 84,
   "id": "0820832a-8557-4df9-a345-abbbd2bcf96a",
   "metadata": {},
   "outputs": [],
   "source": [
    "def test14(*a,**ab):\n",
    "    return a, ab\n",
    "    "
   ]
  },
  {
   "cell_type": "code",
   "execution_count": 85,
   "id": "bcfd19d6-e499-4072-a9ba-f5405c295157",
   "metadata": {},
   "outputs": [
    {
     "data": {
      "text/plain": [
       "((1, 6, 7, 43, 8), {'a': 'Abhi', 'b': 'Kuttan'})"
      ]
     },
     "execution_count": 85,
     "metadata": {},
     "output_type": "execute_result"
    }
   ],
   "source": [
    "test14(1,6,7,43,8,a=\"Abhi\",b=\"Kuttan\")"
   ]
  },
  {
   "cell_type": "code",
   "execution_count": 87,
   "id": "89f1b8dd-5aba-4c4c-93cd-75c55b2a3742",
   "metadata": {},
   "outputs": [
    {
     "name": "stdout",
     "output_type": "stream",
     "text": [
      "1\n",
      "2\n",
      "3\n",
      "4\n",
      "5\n",
      "6\n",
      "7\n",
      "8\n",
      "9\n"
     ]
    }
   ],
   "source": [
    "for i in range(1,10):\n",
    "    print(i)"
   ]
  },
  {
   "cell_type": "code",
   "execution_count": 88,
   "id": "da39746c-ac17-4d16-8982-56f1ac1b8795",
   "metadata": {},
   "outputs": [],
   "source": [
    "def test_fib(n):\n",
    "    a,b=0,1\n",
    "    for i in range(n):\n",
    "        yield a\n",
    "        a,b=b,a+b"
   ]
  },
  {
   "cell_type": "code",
   "execution_count": 89,
   "id": "02d3bf9b-4882-48d1-a06b-aaca58103b63",
   "metadata": {},
   "outputs": [
    {
     "data": {
      "text/plain": [
       "<generator object test_fib at 0x7f1113d58430>"
      ]
     },
     "execution_count": 89,
     "metadata": {},
     "output_type": "execute_result"
    }
   ],
   "source": [
    "test_fib(12)"
   ]
  },
  {
   "cell_type": "code",
   "execution_count": 90,
   "id": "bdd03124-16bd-4de0-9b68-9a1875abf634",
   "metadata": {},
   "outputs": [
    {
     "name": "stdout",
     "output_type": "stream",
     "text": [
      "0\n",
      "1\n",
      "1\n",
      "2\n",
      "3\n",
      "5\n",
      "8\n",
      "13\n",
      "21\n",
      "34\n",
      "55\n",
      "89\n"
     ]
    }
   ],
   "source": [
    "for i in test_fib(12):\n",
    "    print(i)"
   ]
  },
  {
   "cell_type": "code",
   "execution_count": null,
   "id": "fe4062b1-4bf2-4601-a2f2-aebcdfa80099",
   "metadata": {},
   "outputs": [],
   "source": []
  }
 ],
 "metadata": {
  "kernelspec": {
   "display_name": "Python 3 (ipykernel)",
   "language": "python",
   "name": "python3"
  },
  "language_info": {
   "codemirror_mode": {
    "name": "ipython",
    "version": 3
   },
   "file_extension": ".py",
   "mimetype": "text/x-python",
   "name": "python",
   "nbconvert_exporter": "python",
   "pygments_lexer": "ipython3",
   "version": "3.10.8"
  }
 },
 "nbformat": 4,
 "nbformat_minor": 5
}
