{
 "cells": [
  {
   "cell_type": "code",
   "execution_count": 1,
   "id": "5e964e16",
   "metadata": {},
   "outputs": [
    {
     "name": "stdout",
     "output_type": "stream",
     "text": [
      "[1, 2, 3, 4, 44, 55, 66, True, False, 34, 56, 78, 89, 34, 1, 2, 3, 1, 34, 'key2', 55, 67, 78, 89, 4, 45, 22, 61, 34, 56, 'data science', 'Machine Learning']\n",
      "[1, 2, 3, 4, 44, 55, 66, 34, 56, 78, 89, 34, 1, 2, 3, 1, 34, 55, 67, 78, 89, 4, 45, 22, 61, 34, 56]\n",
      "4134711838987085478833841242112000\n"
     ]
    }
   ],
   "source": [
    "#Q1\n",
    "def flat(lis):\n",
    "    flat_list=[]\n",
    "    for i in lis:\n",
    "        if isinstance(i,list):\n",
    "            flat_list.extend(flat(i))\n",
    "        elif isinstance(i,tuple):\n",
    "            flat_list.extend(flat(i))\n",
    "        elif isinstance(i,dict):\n",
    "            #flat_list.extend(flat(i.values()))\n",
    "            #flat_list.extend(flat(i.keys()))\n",
    "            flat_list.extend(flat(i.items()))\n",
    "            \n",
    "        elif isinstance(i,set):\n",
    "            flat_list.extend(flat(i))\n",
    "        \n",
    "        else:\n",
    "            flat_list.append(i)\n",
    "    return flat_list\n",
    "\n",
    "list1 = [1,2,3,4, [44,55,66, True], False, (34,56,78,89,34), {1,2,3,3,2,1}, {1:34, \"key2\": [55, 67, 78, 89], 4: (45,\n",
    "22, 61, 34)}, [56, 'data science'], 'Machine Learning']\n",
    "l1=flat(list1)\n",
    "print(l1)\n",
    "\n",
    "def f1(lis):\n",
    "    b=[]\n",
    "    for i in lis:\n",
    "        i=str(i)\n",
    "        if i.isnumeric():\n",
    "            i=int(i)\n",
    "            b.append(i)\n",
    "        else:\n",
    "            pass\n",
    "    return b   \n",
    "\n",
    "l2=f1(l1)\n",
    "print(l2)\n",
    "\n",
    "import functools\n",
    "print(functools.reduce(lambda x,y:x*y , l2))\n",
    "\n"
   ]
  },
  {
   "cell_type": "code",
   "execution_count": 3,
   "id": "0d978fce",
   "metadata": {},
   "outputs": [
    {
     "name": "stdout",
     "output_type": "stream",
     "text": [
      "i want to become a data scientist.\n"
     ]
    },
    {
     "data": {
      "text/plain": [
       "'r$dzmg$gl$yvxlnv$z$wzgz$hxrvmgrhg.'"
      ]
     },
     "execution_count": 3,
     "metadata": {},
     "output_type": "execute_result"
    }
   ],
   "source": [
    "#Q2\n",
    "def encode(msg):\n",
    "    encoded_msg=\"\"\n",
    "    for char in msg:\n",
    "        if char.isalpha():\n",
    "            encoded_msg+=chr(219-ord(char))\n",
    "        elif char==\" \":\n",
    "            encoded_msg+= \"$\"\n",
    "        else:\n",
    "            encoded_msg+= char\n",
    "    return encoded_msg\n",
    "\n",
    "str1=\"I want to become a Data Scientist.\"  \n",
    "str2=str1.lower()\n",
    "print(str2)\n",
    "encode(str2)"
   ]
  },
  {
   "cell_type": "code",
   "execution_count": null,
   "id": "fa3c212f",
   "metadata": {},
   "outputs": [],
   "source": []
  }
 ],
 "metadata": {
  "kernelspec": {
   "display_name": "Python 3 (ipykernel)",
   "language": "python",
   "name": "python3"
  },
  "language_info": {
   "codemirror_mode": {
    "name": "ipython",
    "version": 3
   },
   "file_extension": ".py",
   "mimetype": "text/x-python",
   "name": "python",
   "nbconvert_exporter": "python",
   "pygments_lexer": "ipython3",
   "version": "3.9.13"
  }
 },
 "nbformat": 4,
 "nbformat_minor": 5
}
