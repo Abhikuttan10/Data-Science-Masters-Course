{
 "cells": [
  {
   "cell_type": "code",
   "execution_count": 1,
   "id": "4130bf40-1c32-4955-bfad-8561d43a9dd3",
   "metadata": {},
   "outputs": [
    {
     "ename": "SyntaxError",
     "evalue": "incomplete input (3527747674.py, line 1)",
     "output_type": "error",
     "traceback": [
      "\u001b[0;36m  Cell \u001b[0;32mIn[1], line 1\u001b[0;36m\u001b[0m\n\u001b[0;31m    class test:\u001b[0m\n\u001b[0m               ^\u001b[0m\n\u001b[0;31mSyntaxError\u001b[0m\u001b[0;31m:\u001b[0m incomplete input\n"
     ]
    }
   ],
   "source": [
    "class test:"
   ]
  },
  {
   "cell_type": "code",
   "execution_count": 2,
   "id": "f4fa05ef-006a-4ae2-819e-dce9681c5ad4",
   "metadata": {},
   "outputs": [],
   "source": [
    "class test:\n",
    "    pass"
   ]
  },
  {
   "cell_type": "code",
   "execution_count": 3,
   "id": "ea0618ca-b5e0-46d7-978b-6f8be718e46d",
   "metadata": {},
   "outputs": [],
   "source": [
    "a= test()"
   ]
  },
  {
   "cell_type": "code",
   "execution_count": 4,
   "id": "49876c1b-f124-437c-8130-eb57c727bcdf",
   "metadata": {},
   "outputs": [
    {
     "name": "stdout",
     "output_type": "stream",
     "text": [
      "<class '__main__.test'>\n"
     ]
    }
   ],
   "source": [
    "print(type(a))"
   ]
  },
  {
   "cell_type": "code",
   "execution_count": 8,
   "id": "63783058-f893-4ef0-87bc-11c90c9db7a4",
   "metadata": {},
   "outputs": [],
   "source": [
    "class pwskills:\n",
    "    def welcome_msg(self):\n",
    "        print(\"Welcome to PWskills\")"
   ]
  },
  {
   "cell_type": "code",
   "execution_count": 10,
   "id": "0d224b6a-c57a-4705-ae55-7c0759bafadd",
   "metadata": {},
   "outputs": [],
   "source": [
    "abhinav=pwskills()"
   ]
  },
  {
   "cell_type": "code",
   "execution_count": 11,
   "id": "fb36cbf1-a288-41fa-8673-ec33d190b581",
   "metadata": {},
   "outputs": [
    {
     "name": "stdout",
     "output_type": "stream",
     "text": [
      "Welcome to PWskills\n"
     ]
    }
   ],
   "source": [
    "abhinav.welcome_msg()"
   ]
  },
  {
   "cell_type": "code",
   "execution_count": 27,
   "id": "dafd3b9e-03c8-4acd-b184-1a1748fd4a76",
   "metadata": {},
   "outputs": [],
   "source": [
    "class pwskills1:\n",
    "    def _init_(self, phone_number, email_id, student_id):\n",
    "        self.phone_number=phone_number\n",
    "        self.student_id=student_id\n",
    "        self.email_id=email_id\n",
    "        \n",
    "    def return_student_details(self):\n",
    "        return self.email_id,self.phone_number,self.student_id\n",
    "        "
   ]
  },
  {
   "cell_type": "code",
   "execution_count": 28,
   "id": "c6b8c4e5-a88e-4083-b84e-1792e203e189",
   "metadata": {},
   "outputs": [
    {
     "ename": "TypeError",
     "evalue": "pwskills1() takes no arguments",
     "output_type": "error",
     "traceback": [
      "\u001b[0;31m---------------------------------------------------------------------------\u001b[0m",
      "\u001b[0;31mTypeError\u001b[0m                                 Traceback (most recent call last)",
      "Cell \u001b[0;32mIn[28], line 1\u001b[0m\n\u001b[0;32m----> 1\u001b[0m rohan\u001b[38;5;241m=\u001b[39m\u001b[43mpwskills1\u001b[49m\u001b[43m(\u001b[49m\u001b[38;5;241;43m45\u001b[39;49m\u001b[43m)\u001b[49m\n",
      "\u001b[0;31mTypeError\u001b[0m: pwskills1() takes no arguments"
     ]
    }
   ],
   "source": [
    "rohan=pwskills1(45)"
   ]
  },
  {
   "cell_type": "code",
   "execution_count": 26,
   "id": "2ecd3952-72be-4930-a5c0-09c1964dcf08",
   "metadata": {},
   "outputs": [
    {
     "ename": "AttributeError",
     "evalue": "'abhi' object has no attribute 'phone_number'",
     "output_type": "error",
     "traceback": [
      "\u001b[0;31m---------------------------------------------------------------------------\u001b[0m",
      "\u001b[0;31mAttributeError\u001b[0m                            Traceback (most recent call last)",
      "Cell \u001b[0;32mIn[26], line 1\u001b[0m\n\u001b[0;32m----> 1\u001b[0m \u001b[43mrohan\u001b[49m\u001b[38;5;241;43m.\u001b[39;49m\u001b[43mphone_number\u001b[49m\n",
      "\u001b[0;31mAttributeError\u001b[0m: 'abhi' object has no attribute 'phone_number'"
     ]
    }
   ],
   "source": [
    "rohan.phone_number"
   ]
  },
  {
   "cell_type": "code",
   "execution_count": 33,
   "id": "e6d128c5-5f7f-4703-baca-23834c5569c6",
   "metadata": {},
   "outputs": [],
   "source": [
    "class pwskills1:\n",
    "    def __init__(self, phone_number, email_id, student_id):\n",
    "        self.phone_number=phone_number\n",
    "        self.student_id=student_id\n",
    "        self.email_id=email_id\n",
    "        \n",
    "    def return_student_details(self):\n",
    "        return self.email_id,self.phone_number,self.student_id\n",
    "        "
   ]
  },
  {
   "cell_type": "code",
   "execution_count": 35,
   "id": "6e7d54cc-81e1-4e65-8bb7-47b460661893",
   "metadata": {},
   "outputs": [],
   "source": [
    "rohan=pwskills1(12355,\"mady@gmail.com\",45)"
   ]
  },
  {
   "cell_type": "code",
   "execution_count": 40,
   "id": "31c0976a-1d92-419f-85b4-b26f387d7373",
   "metadata": {},
   "outputs": [
    {
     "data": {
      "text/plain": [
       "12355"
      ]
     },
     "execution_count": 40,
     "metadata": {},
     "output_type": "execute_result"
    }
   ],
   "source": [
    "rohan.phone_number"
   ]
  },
  {
   "cell_type": "code",
   "execution_count": 38,
   "id": "431c047a-9ce1-4a63-920f-d0e238332a5d",
   "metadata": {},
   "outputs": [
    {
     "data": {
      "text/plain": [
       "('mady@gmail.com', 12355, 45)"
      ]
     },
     "execution_count": 38,
     "metadata": {},
     "output_type": "execute_result"
    }
   ],
   "source": [
    "rohan.return_student_details()"
   ]
  },
  {
   "cell_type": "code",
   "execution_count": null,
   "id": "5a1f3525-a9d3-44c5-92ef-4bb847d81c9c",
   "metadata": {},
   "outputs": [],
   "source": []
  }
 ],
 "metadata": {
  "kernelspec": {
   "display_name": "Python 3 (ipykernel)",
   "language": "python",
   "name": "python3"
  },
  "language_info": {
   "codemirror_mode": {
    "name": "ipython",
    "version": 3
   },
   "file_extension": ".py",
   "mimetype": "text/x-python",
   "name": "python",
   "nbconvert_exporter": "python",
   "pygments_lexer": "ipython3",
   "version": "3.10.8"
  }
 },
 "nbformat": 4,
 "nbformat_minor": 5
}
