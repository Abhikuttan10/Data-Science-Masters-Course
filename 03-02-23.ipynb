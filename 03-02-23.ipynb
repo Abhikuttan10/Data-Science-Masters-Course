{
 "cells": [
  {
   "cell_type": "code",
   "execution_count": 37,
   "id": "9f028bcc-1017-4391-96ba-8da0e81289ef",
   "metadata": {},
   "outputs": [],
   "source": [
    "#1)\n",
    "'''def is the keyword used for creating a funciton'''\n",
    "def odd():\n",
    "    a=[]\n",
    "    for x in range(1,26):\n",
    "        if x%2!=0:\n",
    "            a.append(x)\n",
    "    return a"
   ]
  },
  {
   "cell_type": "code",
   "execution_count": 36,
   "id": "3d7c3f64-af5c-43ec-9663-8dde9f41acb2",
   "metadata": {},
   "outputs": [
    {
     "data": {
      "text/plain": [
       "[1, 3, 5, 7, 9, 11, 13, 15, 17, 19, 21, 23]"
      ]
     },
     "execution_count": 36,
     "metadata": {},
     "output_type": "execute_result"
    }
   ],
   "source": [
    "odd()"
   ]
  },
  {
   "cell_type": "code",
   "execution_count": 53,
   "id": "47960f82-bfd0-42b8-be65-bc7eeb1cb0d5",
   "metadata": {},
   "outputs": [
    {
     "name": "stdout",
     "output_type": "stream",
     "text": [
      "Stewie\n",
      "Lois\n",
      "Quagmire\n",
      "His last name is Sharma\n"
     ]
    }
   ],
   "source": [
    "#2)\n",
    "''' *args is used when we do not know the number of arguments/inputs that will be given &\n",
    "    *kwargs is used when we do not know the number of keyword arguments that will be given'''\n",
    "def children(*args):\n",
    "    for i in args:\n",
    "        print(i)\n",
    "\n",
    "children(\"Stewie\",\"Lois\",\"Quagmire\")\n",
    "\n",
    "def my_function(**kid):\n",
    "  print(\"His last name is \" + kid[\"lname\"])\n",
    "\n",
    "my_function(fname = \"Ved\", lname = \"Sharma\")"
   ]
  },
  {
   "cell_type": "code",
   "execution_count": 58,
   "id": "cccbc1d6-613a-4d2d-b0ef-8625cfa7d91e",
   "metadata": {},
   "outputs": [
    {
     "name": "stdout",
     "output_type": "stream",
     "text": [
      "2\n",
      "4\n",
      "6\n",
      "8\n",
      "10\n"
     ]
    }
   ],
   "source": [
    "#3)\n",
    "'''An iterator is an object that contains a countable number of values.\n",
    "An iterator is an object that can be iterated upon, meaning that you can traverse through all the values'''\n",
    "\n",
    "'''consist of the methods __iter__() and __next__()'''\n",
    "\n",
    "a=[2, 4, 6, 8, 10, 12, 14, 16,18, 20]\n",
    "b=iter(a)\n",
    "print(next(b))\n",
    "print(next(b))\n",
    "print(next(b))\n",
    "print(next(b))\n",
    "print(next(b))"
   ]
  },
  {
   "cell_type": "code",
   "execution_count": 63,
   "id": "6897cd83-fc97-4d77-bd58-9360f4f639b7",
   "metadata": {},
   "outputs": [
    {
     "name": "stdout",
     "output_type": "stream",
     "text": [
      "0\n",
      "1\n",
      "1\n",
      "2\n",
      "3\n",
      "5\n",
      "8\n",
      "13\n",
      "21\n",
      "34\n"
     ]
    }
   ],
   "source": [
    "#4)\n",
    "'''A generator-function is defined like a normal function, but whenever it needs to generate a value, \n",
    "it does so with the yield keyword rather than return.\n",
    "If the body of a def contains yield, the function automatically becomes a generator function. '''\n",
    "def fib(n):\n",
    "    a,b=0,1\n",
    "    for x in range(n):\n",
    "        yield a\n",
    "        a,b=b,a+b\n",
    "        \n",
    "for i in fib(10):\n",
    "    print(i)"
   ]
  },
  {
   "cell_type": "code",
   "execution_count": 70,
   "id": "829e2199-674e-4c91-bb09-e865813ff023",
   "metadata": {},
   "outputs": [],
   "source": [
    "#5)\n",
    "def prime(n):\n",
    "    for num in n:\n",
    "        for i in (2,num):\n",
    "            if num%i==1:\n",
    "                flag=True\n",
    "            else:\n",
    "                flag=False\n",
    "    if flag==True:\n",
    "        print(\"Not a Prime\")\n",
    "    else:\n",
    "        print(\"Prime\")"
   ]
  },
  {
   "cell_type": "code",
   "execution_count": 71,
   "id": "015a5ec9-8cf6-4339-833e-3cff379d76e3",
   "metadata": {},
   "outputs": [
    {
     "ename": "TypeError",
     "evalue": "'int' object is not iterable",
     "output_type": "error",
     "traceback": [
      "\u001b[0;31m---------------------------------------------------------------------------\u001b[0m",
      "\u001b[0;31mTypeError\u001b[0m                                 Traceback (most recent call last)",
      "Cell \u001b[0;32mIn[71], line 1\u001b[0m\n\u001b[0;32m----> 1\u001b[0m \u001b[43mprime\u001b[49m\u001b[43m(\u001b[49m\u001b[38;5;241;43m10\u001b[39;49m\u001b[43m)\u001b[49m\n",
      "Cell \u001b[0;32mIn[70], line 3\u001b[0m, in \u001b[0;36mprime\u001b[0;34m(n)\u001b[0m\n\u001b[1;32m      2\u001b[0m \u001b[38;5;28;01mdef\u001b[39;00m \u001b[38;5;21mprime\u001b[39m(n):\n\u001b[0;32m----> 3\u001b[0m     \u001b[38;5;28;01mfor\u001b[39;00m num \u001b[38;5;129;01min\u001b[39;00m n:\n\u001b[1;32m      4\u001b[0m         \u001b[38;5;28;01mfor\u001b[39;00m i \u001b[38;5;129;01min\u001b[39;00m (\u001b[38;5;241m2\u001b[39m,num):\n\u001b[1;32m      5\u001b[0m             \u001b[38;5;28;01mif\u001b[39;00m num\u001b[38;5;241m%\u001b[39mi\u001b[38;5;241m==\u001b[39m\u001b[38;5;241m1\u001b[39m:\n",
      "\u001b[0;31mTypeError\u001b[0m: 'int' object is not iterable"
     ]
    }
   ],
   "source": [
    "prime(10)"
   ]
  },
  {
   "cell_type": "code",
   "execution_count": null,
   "id": "eadcb14d-6723-4641-b737-8e13b00feb96",
   "metadata": {},
   "outputs": [],
   "source": []
  }
 ],
 "metadata": {
  "kernelspec": {
   "display_name": "Python 3 (ipykernel)",
   "language": "python",
   "name": "python3"
  },
  "language_info": {
   "codemirror_mode": {
    "name": "ipython",
    "version": 3
   },
   "file_extension": ".py",
   "mimetype": "text/x-python",
   "name": "python",
   "nbconvert_exporter": "python",
   "pygments_lexer": "ipython3",
   "version": "3.10.8"
  }
 },
 "nbformat": 4,
 "nbformat_minor": 5
}
