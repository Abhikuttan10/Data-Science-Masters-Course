{
 "cells": [
  {
   "cell_type": "markdown",
   "id": "08c637c8-a47d-403b-89d1-4aba99d77073",
   "metadata": {},
   "source": [
    "### Logical operators\n",
    "#### 1. AND 2. OR 3. NOT"
   ]
  },
  {
   "cell_type": "code",
   "execution_count": 1,
   "id": "adf194b2-b036-45dd-a8c2-bdfb6381cd0b",
   "metadata": {},
   "outputs": [
    {
     "data": {
      "text/plain": [
       "False"
      ]
     },
     "execution_count": 1,
     "metadata": {},
     "output_type": "execute_result"
    }
   ],
   "source": [
    "not -1"
   ]
  },
  {
   "cell_type": "code",
   "execution_count": 2,
   "id": "bee57d7b-97e5-48b6-a303-b53b6195c42f",
   "metadata": {},
   "outputs": [
    {
     "data": {
      "text/plain": [
       "True"
      ]
     },
     "execution_count": 2,
     "metadata": {},
     "output_type": "execute_result"
    }
   ],
   "source": [
    "bool(-1)"
   ]
  },
  {
   "cell_type": "code",
   "execution_count": 5,
   "id": "81ad395e-5ca0-4133-8c9b-95a4cb27d335",
   "metadata": {},
   "outputs": [
    {
     "data": {
      "text/plain": [
       "True"
      ]
     },
     "execution_count": 5,
     "metadata": {},
     "output_type": "execute_result"
    }
   ],
   "source": [
    "not(False)*False"
   ]
  },
  {
   "cell_type": "code",
   "execution_count": 4,
   "id": "75ca8bbe-4d9a-4e28-a019-cb5806389611",
   "metadata": {},
   "outputs": [
    {
     "data": {
      "text/plain": [
       "0"
      ]
     },
     "execution_count": 4,
     "metadata": {},
     "output_type": "execute_result"
    }
   ],
   "source": [
    "(not(False))*False"
   ]
  },
  {
   "cell_type": "code",
   "execution_count": 7,
   "id": "e1c1e7e9-1dba-4b19-bea5-3d4e43dfeb6b",
   "metadata": {},
   "outputs": [],
   "source": [
    "lst_a=[1,2,3,4,5]\n",
    "lst_b=[1,2,3,4,5]\n"
   ]
  },
  {
   "cell_type": "code",
   "execution_count": 9,
   "id": "e541d7da-3a00-4525-a729-2f3b43863a71",
   "metadata": {},
   "outputs": [
    {
     "name": "stdout",
     "output_type": "stream",
     "text": [
      "140185121903936\n",
      "140185121659008\n"
     ]
    }
   ],
   "source": [
    "print(id(lst_a))\n",
    "print(id(lst_b))"
   ]
  },
  {
   "cell_type": "code",
   "execution_count": 11,
   "id": "a45a6532-a0ce-49a1-9456-d6b1115f40e9",
   "metadata": {},
   "outputs": [
    {
     "name": "stdout",
     "output_type": "stream",
     "text": [
      "True\n"
     ]
    }
   ],
   "source": [
    "print(lst_a==lst_b)"
   ]
  },
  {
   "cell_type": "code",
   "execution_count": 14,
   "id": "82c2da19-bb73-435f-94f2-dca36b4df29d",
   "metadata": {},
   "outputs": [
    {
     "name": "stdout",
     "output_type": "stream",
     "text": [
      "False\n"
     ]
    }
   ],
   "source": [
    "##is checks for memory adress matching\n",
    "print(lst_a is lst_b)"
   ]
  },
  {
   "cell_type": "code",
   "execution_count": 15,
   "id": "04689b61-6299-4f2d-a72f-547d8463a46d",
   "metadata": {},
   "outputs": [
    {
     "name": "stdout",
     "output_type": "stream",
     "text": [
      "True\n"
     ]
    }
   ],
   "source": [
    "## adress matching\n",
    "lst_a=lst_b\n",
    "print(lst_a is lst_b)"
   ]
  },
  {
   "cell_type": "code",
   "execution_count": 18,
   "id": "83ca6348-5d94-4fe6-aeb5-1a86d1a70694",
   "metadata": {},
   "outputs": [
    {
     "data": {
      "text/plain": [
       "True"
      ]
     },
     "execution_count": 18,
     "metadata": {},
     "output_type": "execute_result"
    }
   ],
   "source": [
    "lst_a=[1,2,3,4,5]\n",
    "lst_b=[1,2,3,4,5]\n",
    "lst_a is not lst_b"
   ]
  },
  {
   "cell_type": "code",
   "execution_count": 19,
   "id": "af57e796-90b0-4eba-919e-43b6c38f789b",
   "metadata": {},
   "outputs": [
    {
     "data": {
      "text/plain": [
       "False"
      ]
     },
     "execution_count": 19,
     "metadata": {},
     "output_type": "execute_result"
    }
   ],
   "source": [
    "lst_a=[1,2,3,4,5]\n",
    "lst_b=[1,2,3,4,5]\n",
    "lst_a=lst_b\n",
    "lst_a is not lst_b"
   ]
  },
  {
   "cell_type": "code",
   "execution_count": 20,
   "id": "7b02a599-1ec8-498f-9076-7c62653a9e4f",
   "metadata": {},
   "outputs": [
    {
     "name": "stdout",
     "output_type": "stream",
     "text": [
      "140185327747344\n",
      "140185327747344\n"
     ]
    }
   ],
   "source": [
    "a=2\n",
    "b=2\n",
    "print(id(a))\n",
    "print(id(b))\n",
    "## same address because same value"
   ]
  },
  {
   "cell_type": "code",
   "execution_count": 21,
   "id": "197f28fb-3bcd-486c-a3dd-0f1e689bf3fa",
   "metadata": {},
   "outputs": [
    {
     "name": "stdout",
     "output_type": "stream",
     "text": [
      "140185122069424\n",
      "140185122069424\n"
     ]
    }
   ],
   "source": [
    "str1=\"aaa\"\n",
    "str2=\"aaa\"\n",
    "print(id(str1))\n",
    "print(id(str2))"
   ]
  },
  {
   "cell_type": "code",
   "execution_count": 22,
   "id": "10d551a5-5e89-4d1d-8b5a-38ed0d87905f",
   "metadata": {},
   "outputs": [
    {
     "name": "stdout",
     "output_type": "stream",
     "text": [
      "[2, 5, 3, 9]\n"
     ]
    }
   ],
   "source": [
    "#Mutability\n",
    "lst24=[2,5,6,9]\n",
    "lst24[2]=3\n",
    "print(lst24)\n",
    "# list is mutable"
   ]
  },
  {
   "cell_type": "code",
   "execution_count": 23,
   "id": "b3c21481-9d9c-4ebb-b80b-c913c908288b",
   "metadata": {},
   "outputs": [
    {
     "ename": "TypeError",
     "evalue": "'str' object does not support item assignment",
     "output_type": "error",
     "traceback": [
      "\u001b[0;31m---------------------------------------------------------------------------\u001b[0m",
      "\u001b[0;31mTypeError\u001b[0m                                 Traceback (most recent call last)",
      "Cell \u001b[0;32mIn[23], line 3\u001b[0m\n\u001b[1;32m      1\u001b[0m \u001b[38;5;66;03m# String is immutable\u001b[39;00m\n\u001b[1;32m      2\u001b[0m str24\u001b[38;5;241m=\u001b[39m\u001b[38;5;124m\"\u001b[39m\u001b[38;5;124maaa\u001b[39m\u001b[38;5;124m\"\u001b[39m\n\u001b[0;32m----> 3\u001b[0m \u001b[43mstr24\u001b[49m\u001b[43m[\u001b[49m\u001b[38;5;241;43m1\u001b[39;49m\u001b[43m]\u001b[49m\u001b[38;5;241m=\u001b[39mb\n\u001b[1;32m      4\u001b[0m \u001b[38;5;28mprint\u001b[39m(str24)\n",
      "\u001b[0;31mTypeError\u001b[0m: 'str' object does not support item assignment"
     ]
    }
   ],
   "source": [
    "# String is immutable\n",
    "str24=\"aaa\"\n",
    "str24[1]=b\n",
    "print(str24)"
   ]
  },
  {
   "cell_type": "code",
   "execution_count": 24,
   "id": "56bda7e6-153f-4546-9905-823b0a75376d",
   "metadata": {},
   "outputs": [
    {
     "data": {
      "text/plain": [
       "0.5"
      ]
     },
     "execution_count": 24,
     "metadata": {},
     "output_type": "execute_result"
    }
   ],
   "source": [
    "2/4"
   ]
  },
  {
   "cell_type": "code",
   "execution_count": 25,
   "id": "cc4f01dd-245b-44bf-a869-1184d1737da8",
   "metadata": {},
   "outputs": [
    {
     "data": {
      "text/plain": [
       "0"
      ]
     },
     "execution_count": 25,
     "metadata": {},
     "output_type": "execute_result"
    }
   ],
   "source": [
    "2//4"
   ]
  },
  {
   "cell_type": "code",
   "execution_count": 26,
   "id": "826b6753-1048-4ef8-adea-cb833fe803b7",
   "metadata": {},
   "outputs": [
    {
     "data": {
      "text/plain": [
       "12.5"
      ]
     },
     "execution_count": 26,
     "metadata": {},
     "output_type": "execute_result"
    }
   ],
   "source": [
    "25/2"
   ]
  },
  {
   "cell_type": "code",
   "execution_count": 27,
   "id": "d0fa43e6-143b-44cb-8611-2545745fb894",
   "metadata": {},
   "outputs": [
    {
     "data": {
      "text/plain": [
       "12"
      ]
     },
     "execution_count": 27,
     "metadata": {},
     "output_type": "execute_result"
    }
   ],
   "source": [
    "25//2"
   ]
  },
  {
   "cell_type": "code",
   "execution_count": 28,
   "id": "24eac01f-fa69-411d-8f2f-e7a38d224e82",
   "metadata": {},
   "outputs": [
    {
     "data": {
      "text/plain": [
       "1"
      ]
     },
     "execution_count": 28,
     "metadata": {},
     "output_type": "execute_result"
    }
   ],
   "source": [
    "25%2"
   ]
  },
  {
   "cell_type": "code",
   "execution_count": 29,
   "id": "161719de-3cc8-4792-8509-e63917b65a30",
   "metadata": {},
   "outputs": [
    {
     "data": {
      "text/plain": [
       "0"
      ]
     },
     "execution_count": 29,
     "metadata": {},
     "output_type": "execute_result"
    }
   ],
   "source": [
    "125%5"
   ]
  },
  {
   "cell_type": "code",
   "execution_count": 30,
   "id": "cef1557c-05fb-4557-82bd-67c7b392720f",
   "metadata": {},
   "outputs": [
    {
     "data": {
      "text/plain": [
       "'0b1100'"
      ]
     },
     "execution_count": 30,
     "metadata": {},
     "output_type": "execute_result"
    }
   ],
   "source": [
    "var=12\n",
    "bin(var)"
   ]
  },
  {
   "cell_type": "code",
   "execution_count": 31,
   "id": "c09edad8-1fae-4325-adfd-56ecc2db88d3",
   "metadata": {},
   "outputs": [
    {
     "data": {
      "text/plain": [
       "'0b1111'"
      ]
     },
     "execution_count": 31,
     "metadata": {},
     "output_type": "execute_result"
    }
   ],
   "source": [
    "bin(15)"
   ]
  },
  {
   "cell_type": "code",
   "execution_count": 34,
   "id": "ef279f90-7e7a-4765-997a-0d32c8e63c4f",
   "metadata": {},
   "outputs": [
    {
     "name": "stdout",
     "output_type": "stream",
     "text": [
      "0b1010\n"
     ]
    },
    {
     "data": {
      "text/plain": [
       "'-0b1011'"
      ]
     },
     "execution_count": 34,
     "metadata": {},
     "output_type": "execute_result"
    }
   ],
   "source": [
    "var=10\n",
    "print(bin(var))\n",
    "~var"
   ]
  },
  {
   "cell_type": "markdown",
   "id": "b5fd179d-9b30-41ab-8774-32da1a4b2619",
   "metadata": {},
   "source": [
    "## Strings"
   ]
  },
  {
   "cell_type": "code",
   "execution_count": 36,
   "id": "491a4395-52c2-4521-8cb9-d497ae22b8e7",
   "metadata": {},
   "outputs": [],
   "source": [
    "string=\"hello world i am gonna rock data science field\""
   ]
  },
  {
   "cell_type": "code",
   "execution_count": 39,
   "id": "7d89fa41-af66-4c52-9164-64453decd180",
   "metadata": {},
   "outputs": [
    {
     "data": {
      "text/plain": [
       "'world i am gonna rock data science field'"
      ]
     },
     "execution_count": 39,
     "metadata": {},
     "output_type": "execute_result"
    }
   ],
   "source": [
    "string[6:]"
   ]
  },
  {
   "cell_type": "code",
   "execution_count": 40,
   "id": "f937948d-3144-4b12-b901-d71c3ed3aa59",
   "metadata": {},
   "outputs": [
    {
     "data": {
      "text/plain": [
       "'wor'"
      ]
     },
     "execution_count": 40,
     "metadata": {},
     "output_type": "execute_result"
    }
   ],
   "source": [
    "string[6:9]"
   ]
  },
  {
   "cell_type": "code",
   "execution_count": 41,
   "id": "0385aa7c-88f8-4ecf-95f6-efe6c4d3d29c",
   "metadata": {},
   "outputs": [
    {
     "data": {
      "text/plain": [
       "'d'"
      ]
     },
     "execution_count": 41,
     "metadata": {},
     "output_type": "execute_result"
    }
   ],
   "source": [
    "string[-1]"
   ]
  },
  {
   "cell_type": "code",
   "execution_count": 43,
   "id": "e941eb91-5305-4348-906d-db6905b16e5c",
   "metadata": {},
   "outputs": [
    {
     "data": {
      "text/plain": [
       "'fiel'"
      ]
     },
     "execution_count": 43,
     "metadata": {},
     "output_type": "execute_result"
    }
   ],
   "source": [
    "string[-5:-1]"
   ]
  },
  {
   "cell_type": "code",
   "execution_count": 44,
   "id": "08f63de4-2b80-4693-8567-0a1dda538225",
   "metadata": {},
   "outputs": [
    {
     "data": {
      "text/plain": [
       "'fi'"
      ]
     },
     "execution_count": 44,
     "metadata": {},
     "output_type": "execute_result"
    }
   ],
   "source": [
    "string[-5:-3]"
   ]
  },
  {
   "cell_type": "code",
   "execution_count": 51,
   "id": "85f76b94-ceb2-4b3d-b373-c6a551d5fab6",
   "metadata": {},
   "outputs": [
    {
     "data": {
      "text/plain": [
       "'hello world i am gonna rock data science field'"
      ]
     },
     "execution_count": 51,
     "metadata": {},
     "output_type": "execute_result"
    }
   ],
   "source": [
    "string[::1]"
   ]
  },
  {
   "cell_type": "code",
   "execution_count": 52,
   "id": "01127897-e297-4be6-a804-d72760b5d951",
   "metadata": {},
   "outputs": [
    {
     "data": {
      "text/plain": [
       "'dleif ecneics atad kcor annog ma i dlrow olleh'"
      ]
     },
     "execution_count": 52,
     "metadata": {},
     "output_type": "execute_result"
    }
   ],
   "source": [
    "string[::-1]"
   ]
  },
  {
   "cell_type": "code",
   "execution_count": 53,
   "id": "c5e480b7-58e4-4ac6-b96b-b4e02d253cd4",
   "metadata": {},
   "outputs": [
    {
     "data": {
      "text/plain": [
       "' wo'"
      ]
     },
     "execution_count": 53,
     "metadata": {},
     "output_type": "execute_result"
    }
   ],
   "source": [
    "string[5:8:1]"
   ]
  },
  {
   "cell_type": "code",
   "execution_count": 54,
   "id": "e623a32d-c8ae-4f58-ba56-b04be59d0678",
   "metadata": {},
   "outputs": [
    {
     "data": {
      "text/plain": [
       "'hlowrdia on okdt cec il'"
      ]
     },
     "execution_count": 54,
     "metadata": {},
     "output_type": "execute_result"
    }
   ],
   "source": [
    "string[::2]"
   ]
  },
  {
   "cell_type": "code",
   "execution_count": 55,
   "id": "4f3f039c-7346-4c86-b4a8-2ea6812f9025",
   "metadata": {},
   "outputs": [
    {
     "data": {
      "text/plain": [
       "'hlwlimoao tseeid'"
      ]
     },
     "execution_count": 55,
     "metadata": {},
     "output_type": "execute_result"
    }
   ],
   "source": [
    "string[::3]"
   ]
  },
  {
   "cell_type": "code",
   "execution_count": 57,
   "id": "f0cfc901-559e-44db-a43a-d0dd5d854343",
   "metadata": {},
   "outputs": [
    {
     "data": {
      "text/plain": [
       "'row'"
      ]
     },
     "execution_count": 57,
     "metadata": {},
     "output_type": "execute_result"
    }
   ],
   "source": [
    "string[8:5:-1]"
   ]
  },
  {
   "cell_type": "code",
   "execution_count": 58,
   "id": "411f7787-534e-468c-90f9-9b2a67ac6507",
   "metadata": {},
   "outputs": [],
   "source": [
    "c=\"Data Science Master\""
   ]
  },
  {
   "cell_type": "code",
   "execution_count": 62,
   "id": "18459821-3333-47bb-a380-bc5d720f37e8",
   "metadata": {},
   "outputs": [
    {
     "name": "stdout",
     "output_type": "stream",
     "text": [
      "Science\n",
      "ecneicS\n"
     ]
    }
   ],
   "source": [
    "print(c[5:12:1])\n",
    "print(c[11:4:-1])\n"
   ]
  },
  {
   "cell_type": "markdown",
   "id": "5c0c76b4-8d80-4d0e-a3d7-18a4e180f42f",
   "metadata": {},
   "source": [
    "### Concatenation"
   ]
  },
  {
   "cell_type": "code",
   "execution_count": 64,
   "id": "d1c191ac-e0a8-4bf4-80b6-b3e05c5cea79",
   "metadata": {},
   "outputs": [
    {
     "data": {
      "text/plain": [
       "'Data Science Master Course'"
      ]
     },
     "execution_count": 64,
     "metadata": {},
     "output_type": "execute_result"
    }
   ],
   "source": [
    "c+\" Course\""
   ]
  },
  {
   "cell_type": "code",
   "execution_count": 65,
   "id": "9699b548-517a-4fe2-84b1-39b32ce1c3f6",
   "metadata": {},
   "outputs": [
    {
     "data": {
      "text/plain": [
       "'Data Science MasterData Science MasterData Science MasterData Science MasterData Science Master'"
      ]
     },
     "execution_count": 65,
     "metadata": {},
     "output_type": "execute_result"
    }
   ],
   "source": [
    "c*5"
   ]
  },
  {
   "cell_type": "code",
   "execution_count": 66,
   "id": "5a6eeef1-8df0-4f43-a5ab-05bf334d35fe",
   "metadata": {},
   "outputs": [
    {
     "data": {
      "text/plain": [
       "19"
      ]
     },
     "execution_count": 66,
     "metadata": {},
     "output_type": "execute_result"
    }
   ],
   "source": [
    "len(c)"
   ]
  },
  {
   "cell_type": "code",
   "execution_count": 69,
   "id": "b5015894-05a6-42ea-95b6-cc9f7dc977b7",
   "metadata": {},
   "outputs": [
    {
     "data": {
      "text/plain": [
       "1"
      ]
     },
     "execution_count": 69,
     "metadata": {},
     "output_type": "execute_result"
    }
   ],
   "source": [
    "c.find(\"a\")"
   ]
  },
  {
   "cell_type": "code",
   "execution_count": 71,
   "id": "a6bab2f3-62f2-4d24-945d-716f91022e22",
   "metadata": {},
   "outputs": [
    {
     "data": {
      "text/plain": [
       "3"
      ]
     },
     "execution_count": 71,
     "metadata": {},
     "output_type": "execute_result"
    }
   ],
   "source": [
    "c.find(\"a\",2,10)"
   ]
  },
  {
   "cell_type": "code",
   "execution_count": 74,
   "id": "fcca092c-8422-42fc-ba98-39d62936ae67",
   "metadata": {},
   "outputs": [
    {
     "data": {
      "text/plain": [
       "3"
      ]
     },
     "execution_count": 74,
     "metadata": {},
     "output_type": "execute_result"
    }
   ],
   "source": [
    "c.count(\"a\")"
   ]
  },
  {
   "cell_type": "code",
   "execution_count": 75,
   "id": "3323481f-0f40-4e4b-8352-a12fe2b1302b",
   "metadata": {},
   "outputs": [
    {
     "data": {
      "text/plain": [
       "1"
      ]
     },
     "execution_count": 75,
     "metadata": {},
     "output_type": "execute_result"
    }
   ],
   "source": [
    "c.count(\"at\")"
   ]
  },
  {
   "cell_type": "code",
   "execution_count": 77,
   "id": "2cf6b3e7-2d74-490f-bbe1-8da34a0665af",
   "metadata": {},
   "outputs": [
    {
     "data": {
      "text/plain": [
       "2"
      ]
     },
     "execution_count": 77,
     "metadata": {},
     "output_type": "execute_result"
    }
   ],
   "source": [
    "c.count(\" \")"
   ]
  },
  {
   "cell_type": "code",
   "execution_count": 78,
   "id": "7fca3419-658b-4191-a974-1a09aac9c756",
   "metadata": {},
   "outputs": [
    {
     "data": {
      "text/plain": [
       "20"
      ]
     },
     "execution_count": 78,
     "metadata": {},
     "output_type": "execute_result"
    }
   ],
   "source": [
    "c.count(\"\")\n",
    "# count of entire string"
   ]
  },
  {
   "cell_type": "code",
   "execution_count": 83,
   "id": "164b96a0-80f9-4765-9788-e6df732015e2",
   "metadata": {},
   "outputs": [
    {
     "data": {
      "text/plain": [
       "['Data Science Ma', 'ter']"
      ]
     },
     "execution_count": 83,
     "metadata": {},
     "output_type": "execute_result"
    }
   ],
   "source": [
    "c.split(\"s\")"
   ]
  },
  {
   "cell_type": "code",
   "execution_count": 84,
   "id": "0b310bc5-5ac1-48e1-b792-116e021c6ccf",
   "metadata": {},
   "outputs": [
    {
     "data": {
      "text/plain": [
       "'DATA SCIENCE MASTER'"
      ]
     },
     "execution_count": 84,
     "metadata": {},
     "output_type": "execute_result"
    }
   ],
   "source": [
    "c.upper()"
   ]
  },
  {
   "cell_type": "code",
   "execution_count": 85,
   "id": "59272904-ca66-4f53-a5da-6e293c54cc5b",
   "metadata": {},
   "outputs": [
    {
     "data": {
      "text/plain": [
       "'data science master'"
      ]
     },
     "execution_count": 85,
     "metadata": {},
     "output_type": "execute_result"
    }
   ],
   "source": [
    "c.lower()"
   ]
  },
  {
   "cell_type": "code",
   "execution_count": 86,
   "id": "3078889f-0c66-42e7-a331-ae84e19d5d82",
   "metadata": {},
   "outputs": [
    {
     "data": {
      "text/plain": [
       "('Data Science Ma', 's', 'ter')"
      ]
     },
     "execution_count": 86,
     "metadata": {},
     "output_type": "execute_result"
    }
   ],
   "source": [
    "c.partition(\"s\")"
   ]
  },
  {
   "cell_type": "code",
   "execution_count": 87,
   "id": "1c9e091a-6c99-46d5-87be-ccf6e0b0fbf5",
   "metadata": {},
   "outputs": [
    {
     "data": {
      "text/plain": [
       "'dATA sCIENCE mASTER'"
      ]
     },
     "execution_count": 87,
     "metadata": {},
     "output_type": "execute_result"
    }
   ],
   "source": [
    "c.swapcase()"
   ]
  },
  {
   "cell_type": "code",
   "execution_count": 88,
   "id": "bbe28811-c6d0-43fe-ba56-835b386e8d42",
   "metadata": {},
   "outputs": [
    {
     "data": {
      "text/plain": [
       "'Data Science Master'"
      ]
     },
     "execution_count": 88,
     "metadata": {},
     "output_type": "execute_result"
    }
   ],
   "source": [
    "c.title()"
   ]
  },
  {
   "cell_type": "code",
   "execution_count": 90,
   "id": "e16a9499-46bb-4493-8023-952da21f095d",
   "metadata": {},
   "outputs": [
    {
     "data": {
      "text/plain": [
       "['Data', 'Science', 'Master']"
      ]
     },
     "execution_count": 90,
     "metadata": {},
     "output_type": "execute_result"
    }
   ],
   "source": [
    "c.split(\" \")"
   ]
  },
  {
   "cell_type": "code",
   "execution_count": null,
   "id": "1716b127-afa2-48ad-b7fd-0a1a8484affe",
   "metadata": {},
   "outputs": [],
   "source": []
  }
 ],
 "metadata": {
  "kernelspec": {
   "display_name": "Python 3 (ipykernel)",
   "language": "python",
   "name": "python3"
  },
  "language_info": {
   "codemirror_mode": {
    "name": "ipython",
    "version": 3
   },
   "file_extension": ".py",
   "mimetype": "text/x-python",
   "name": "python",
   "nbconvert_exporter": "python",
   "pygments_lexer": "ipython3",
   "version": "3.10.8"
  }
 },
 "nbformat": 4,
 "nbformat_minor": 5
}
