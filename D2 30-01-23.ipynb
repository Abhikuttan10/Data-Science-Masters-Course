{
 "cells": [
  {
   "cell_type": "code",
   "execution_count": 5,
   "id": "d58bc66d-e2d7-4cc4-a56b-54d6c784ada2",
   "metadata": {},
   "outputs": [
    {
     "name": "stdout",
     "output_type": "stream",
     "text": [
      "Hello World\n"
     ]
    }
   ],
   "source": [
    "print(\"Hello World\")"
   ]
  },
  {
   "cell_type": "code",
   "execution_count": 7,
   "id": "796112d4-d6cc-42d8-9689-d04da3cd0413",
   "metadata": {},
   "outputs": [
    {
     "name": "stdout",
     "output_type": "stream",
     "text": [
      "123\n"
     ]
    }
   ],
   "source": [
    "print(123)"
   ]
  },
  {
   "cell_type": "code",
   "execution_count": 8,
   "id": "877d1a3f-ca47-498a-b495-bcb718a4cc2d",
   "metadata": {},
   "outputs": [
    {
     "name": "stdout",
     "output_type": "stream",
     "text": [
      "My name is 58\n"
     ]
    }
   ],
   "source": [
    "age=58\n",
    "print(\"My name is\",age)"
   ]
  },
  {
   "cell_type": "code",
   "execution_count": 10,
   "id": "95a333e3-130e-4d38-af9f-4ed9860d1e44",
   "metadata": {},
   "outputs": [
    {
     "name": "stdout",
     "output_type": "stream",
     "text": [
      "My Age is 58\n"
     ]
    }
   ],
   "source": [
    "print(f\"My Age is {age}\")"
   ]
  },
  {
   "cell_type": "code",
   "execution_count": 13,
   "id": "629bd48b-5514-463d-9cae-611d021e6f1f",
   "metadata": {},
   "outputs": [
    {
     "name": "stdout",
     "output_type": "stream",
     "text": [
      "My name is Abhi and age is 18\n"
     ]
    }
   ],
   "source": [
    "Name=\"Abhi\"\n",
    "age=18\n",
    "print(\"My name is {} and age is {}\".format(Name,age))"
   ]
  },
  {
   "cell_type": "code",
   "execution_count": 14,
   "id": "f8b6491b-c681-4fbe-9882-89014567b52b",
   "metadata": {},
   "outputs": [
    {
     "name": "stdout",
     "output_type": "stream",
     "text": [
      "My name is Abhi and age is 18\n"
     ]
    }
   ],
   "source": [
    "print(\"My name is {a} and age is {b}\".format(a=Name,b=age))"
   ]
  },
  {
   "cell_type": "code",
   "execution_count": 25,
   "id": "4b17e366-abc1-4db9-b215-674004b55efb",
   "metadata": {},
   "outputs": [
    {
     "name": "stdout",
     "output_type": "stream",
     "text": [
      "My name is Abhinav Paniketty, age is 18 and am pursuing SEBIOM\n"
     ]
    }
   ],
   "source": [
    "name=\"Abhinav Paniketty\"\n",
    "age=18\n",
    "Degree=\"SEBIOM\"\n",
    "\n",
    "print(f\"My name is {name}, age is {age} and am pursuing {Degree}\")\n"
   ]
  },
  {
   "cell_type": "code",
   "execution_count": 20,
   "id": "275be60b-54fb-4935-bd70-ffc3d7e0c482",
   "metadata": {},
   "outputs": [
    {
     "name": "stdout",
     "output_type": "stream",
     "text": [
      "My name is Abhinav Paniketty age is 19 and am pursuing SEBIOM\n"
     ]
    }
   ],
   "source": [
    "print(\"My name is {} age is {} and am pursuing {}\".format(name,age,Degree))"
   ]
  },
  {
   "cell_type": "code",
   "execution_count": 28,
   "id": "30a08897-4098-4ef9-a852-f11d27a5b47a",
   "metadata": {},
   "outputs": [
    {
     "name": "stdout",
     "output_type": "stream",
     "text": [
      "congo\n"
     ]
    }
   ],
   "source": [
    "if age>=18:\n",
    "    print(\"congo\")"
   ]
  },
  {
   "cell_type": "code",
   "execution_count": 33,
   "id": "57e08ef9-765f-4bd7-adbf-564d562420b5",
   "metadata": {},
   "outputs": [
    {
     "name": "stdin",
     "output_type": "stream",
     "text": [
      "Enter your Age:\t 98\n"
     ]
    },
    {
     "name": "stdout",
     "output_type": "stream",
     "text": [
      "Voter is Eligible\n"
     ]
    }
   ],
   "source": [
    "age=int(input(\"Enter your Age:\\t\"))\n",
    "if age>=18:\n",
    "        print(\"Voter is Eligible\")\n",
    "else:\n",
    "        print(\"Voter is Not Eligible\")"
   ]
  },
  {
   "cell_type": "code",
   "execution_count": 38,
   "id": "3fc96c48-b071-4410-a7c6-ef26317731d9",
   "metadata": {},
   "outputs": [
    {
     "name": "stdin",
     "output_type": "stream",
     "text": [
      "Enter your Age:\t 20\n"
     ]
    },
    {
     "name": "stdout",
     "output_type": "stream",
     "text": [
      "You are young blood\n"
     ]
    }
   ],
   "source": [
    "age=int(input(\"Enter your Age:\\t\"))\n",
    "if age>=18 and age<=45:\n",
    "        print(\"You are young blood\")\n"
   ]
  },
  {
   "cell_type": "code",
   "execution_count": 39,
   "id": "fc1d5063-3fee-4a70-b9fc-2b6dd5b36441",
   "metadata": {},
   "outputs": [
    {
     "name": "stdin",
     "output_type": "stream",
     "text": [
      "Enter your Age:\t 56\n"
     ]
    },
    {
     "name": "stdout",
     "output_type": "stream",
     "text": [
      "Thankyou, We will let you know..\n"
     ]
    }
   ],
   "source": [
    "age=int(input(\"Enter your Age:\\t\"))\n",
    "if age>=18 and age<=45:\n",
    "        print(\"You are young blood\")\n",
    "else:\n",
    "    print(\"Thankyou, We will let you know..\")"
   ]
  },
  {
   "cell_type": "code",
   "execution_count": 47,
   "id": "5d579054-818a-4d3f-8845-eaea10976904",
   "metadata": {},
   "outputs": [
    {
     "name": "stdin",
     "output_type": "stream",
     "text": [
      "Enter price of product:\t 10\n"
     ]
    },
    {
     "name": "stdout",
     "output_type": "stream",
     "text": [
      "Discount of 10%\n",
      "product price is 9.0\n"
     ]
    }
   ],
   "source": [
    "price=int(input(\"Enter price of product:\\t\"))\n",
    "\n",
    "if price>1000:\n",
    "    print(\"Discount of 50%\")\n",
    "    print(\"product price is {}\".format(price*0.5))\n",
    "else:\n",
    "    print(\"Discount of 10%\")\n",
    "    print(\"product price is {}\".format(price*0.9))"
   ]
  },
  {
   "cell_type": "code",
   "execution_count": 59,
   "id": "ddf0eafc-0075-4375-9b90-d9a5c55a04bc",
   "metadata": {},
   "outputs": [
    {
     "name": "stdin",
     "output_type": "stream",
     "text": [
      "Enter price of product:\t 2999\n"
     ]
    },
    {
     "name": "stdout",
     "output_type": "stream",
     "text": [
      "Congo free gift\n",
      "product price is 2099.2999999999997\n"
     ]
    }
   ],
   "source": [
    "price=int(input(\"Enter price of product:\\t\"))\n",
    "\n",
    "if price>3000:\n",
    "    print(\"Discount of 20%\")\n",
    "    print(\"product price is {}\".format(price*0.8))\n",
    "elif price>2000 and price<=3000:\n",
    "    if price==2999:\n",
    "        print(\"Congo free gift\")\n",
    "        print(\"Discount of 20%\")\n",
    "\n",
    "    print(\"product price is {}\".format(price*0.7))\n",
    "elif price>1000:\n",
    "    print(\"product price is {}\".format(price*0.6))\n",
    "else:\n",
    "    print(\"Stay Single\")"
   ]
  },
  {
   "cell_type": "markdown",
   "id": "f26cb435-e351-4c01-9813-469e1b87b54f",
   "metadata": {},
   "source": [
    "### While Loop"
   ]
  },
  {
   "cell_type": "code",
   "execution_count": 61,
   "id": "782a6729-63fb-4b7a-a9a4-e7bc738c8263",
   "metadata": {},
   "outputs": [
    {
     "name": "stdout",
     "output_type": "stream",
     "text": [
      "Time to retire!\n",
      "Time to retire!\n",
      "Time to retire!\n",
      "Time to retire!\n",
      "Time to retire!\n",
      "Time to retire!\n",
      "Time to retire!\n",
      "Time to retire!\n",
      "Time to retire!\n",
      "Time to retire!\n",
      "Time to retire!\n",
      "Time to retire!\n",
      "Time to retire!\n",
      "Time to retire!\n",
      "Time to retire!\n",
      "Time to retire!\n",
      "Time to retire!\n",
      "Time to retire!\n",
      "Time to retire!\n",
      "Time to retire!\n",
      "Time to retire!\n",
      "Time to retire!\n",
      "Time to retire!\n",
      "Time to retire!\n",
      "Time to retire!\n",
      "Time to retire!\n",
      "Time to retire!\n",
      "Time to retire!\n",
      "Time to retire!\n",
      "Time to retire!\n",
      "Time to retire!\n",
      "Time to retire!\n",
      "Time to retire!\n",
      "Time to retire!\n",
      "Time to retire!\n",
      "Time to retire!\n"
     ]
    }
   ],
   "source": [
    "i=1\n",
    "joining_age=25\n",
    "while joining_age<=60:\n",
    "    joining_age=joining_age+1\n",
    "    print(f\"{joining_age}\")\n",
    "else:\n",
    "    print(\"\")\n",
    "    "
   ]
  },
  {
   "cell_type": "code",
   "execution_count": 63,
   "id": "3daab4db-9e4a-4e17-9898-8580ba0a2915",
   "metadata": {},
   "outputs": [
    {
     "name": "stdout",
     "output_type": "stream",
     "text": [
      "900\n",
      "800\n",
      "700\n",
      "600\n",
      "500\n",
      "400\n",
      "300\n",
      "200\n",
      "100\n",
      "0\n",
      "Paisa khaali Atm mein bhi\n"
     ]
    }
   ],
   "source": [
    "total_amount=1000\n",
    "while total_amount!=0:\n",
    "    total_amount=total_amount-100\n",
    "    print(total_amount)\n",
    "else:\n",
    "    print(\"Paisa khaali Atm mein bhi\")"
   ]
  },
  {
   "cell_type": "markdown",
   "id": "d16f2d34-1767-4c73-8e8c-1f90850e1ec4",
   "metadata": {},
   "source": [
    "### FOR LOOP"
   ]
  },
  {
   "cell_type": "code",
   "execution_count": 64,
   "id": "54c1cc9a-40f6-4e14-8416-d3310aad6614",
   "metadata": {},
   "outputs": [],
   "source": [
    "abc=[\"king\",12,25,\"Queen\"]"
   ]
  },
  {
   "cell_type": "code",
   "execution_count": 65,
   "id": "45195624-43d4-49f0-88dc-fb43635f0557",
   "metadata": {},
   "outputs": [
    {
     "data": {
      "text/plain": [
       "list"
      ]
     },
     "execution_count": 65,
     "metadata": {},
     "output_type": "execute_result"
    }
   ],
   "source": [
    "type(abc)"
   ]
  },
  {
   "cell_type": "code",
   "execution_count": 69,
   "id": "6ccf1959-2c30-4d8f-9113-62d2376fe0d6",
   "metadata": {},
   "outputs": [
    {
     "name": "stdout",
     "output_type": "stream",
     "text": [
      "king\n"
     ]
    }
   ],
   "source": [
    "for x in abc:\n",
    "    if x==12:\n",
    "        break\n",
    "    print(x)"
   ]
  },
  {
   "cell_type": "code",
   "execution_count": 70,
   "id": "7933714a-6660-4c84-b7e6-e73ce9b85ae5",
   "metadata": {},
   "outputs": [
    {
     "name": "stdout",
     "output_type": "stream",
     "text": [
      "A\n",
      "p\n",
      "p\n",
      "l\n",
      "e\n"
     ]
    }
   ],
   "source": [
    "fruit=\"Apple\"\n",
    "for x in fruit:\n",
    "    print(x)"
   ]
  },
  {
   "cell_type": "code",
   "execution_count": 71,
   "id": "e0816a38-0da0-49bd-9465-900467678bf6",
   "metadata": {},
   "outputs": [
    {
     "data": {
      "text/plain": [
       "'p'"
      ]
     },
     "execution_count": 71,
     "metadata": {},
     "output_type": "execute_result"
    }
   ],
   "source": [
    "fruit[2]"
   ]
  },
  {
   "cell_type": "code",
   "execution_count": 79,
   "id": "d4af511d-152f-4cd9-8a7a-2cb0cc27e8d6",
   "metadata": {},
   "outputs": [
    {
     "name": "stdout",
     "output_type": "stream",
     "text": [
      "1\n",
      "4\n",
      "7\n",
      "10\n",
      "13\n",
      "16\n",
      "19\n",
      "22\n",
      "25\n"
     ]
    }
   ],
   "source": [
    "for x in range(1,26,3):\n",
    "    print(x)"
   ]
  },
  {
   "cell_type": "code",
   "execution_count": 88,
   "id": "94fcfd5f-0171-4fef-b0dd-ba9c83020280",
   "metadata": {},
   "outputs": [
    {
     "name": "stdout",
     "output_type": "stream",
     "text": [
      "*\n",
      "**\n",
      "***\n",
      "****\n",
      "*****\n",
      "******\n",
      "*******\n",
      "********\n"
     ]
    }
   ],
   "source": [
    "n= 8\n",
    "for i in range(0,n):\n",
    "    for j in range(0,i+1):\n",
    "        print(\"*\",end='')\n",
    "    print(\"\\r\")    \n",
    "    "
   ]
  },
  {
   "cell_type": "code",
   "execution_count": 93,
   "id": "cbe5b0d8-d15e-423a-b8ae-972d6d2fb035",
   "metadata": {},
   "outputs": [
    {
     "name": "stdout",
     "output_type": "stream",
     "text": [
      "apple\n"
     ]
    }
   ],
   "source": [
    "fruits=[\"apple\",\"banana\",\"cherry\",\"grapes\"]\n",
    "for x in fruits:\n",
    "    if x == \"banana\":\n",
    "        break\n",
    "    print(x)"
   ]
  },
  {
   "cell_type": "code",
   "execution_count": 94,
   "id": "0dd0be72-4fb6-46b5-b1fe-d59ece494937",
   "metadata": {},
   "outputs": [
    {
     "name": "stdout",
     "output_type": "stream",
     "text": [
      "apple\n",
      "cherry\n",
      "grapes\n"
     ]
    }
   ],
   "source": [
    "fruits=[\"apple\",\"banana\",\"cherry\",\"grapes\"]\n",
    "for x in fruits:\n",
    "    if x == \"banana\":\n",
    "        continue\n",
    "    print(x)"
   ]
  },
  {
   "cell_type": "code",
   "execution_count": 120,
   "id": "66485c41-7bc8-495b-a28c-53d84a396ee1",
   "metadata": {},
   "outputs": [
    {
     "name": "stdout",
     "output_type": "stream",
     "text": [
      "*\n",
      "**\n",
      "***\n",
      "****\n",
      "*****\n",
      "******\n",
      "*******\n"
     ]
    }
   ],
   "source": [
    "n=7\n",
    "for i in range(0,n):\n",
    "    for j in range(0,i+1):\n",
    "        print(\"*\",end='')\n",
    "    print(\"\\r\")"
   ]
  },
  {
   "cell_type": "code",
   "execution_count": 125,
   "id": "fae37df7-8d8a-4b4a-9aa0-7b58a4be2663",
   "metadata": {},
   "outputs": [
    {
     "name": "stdout",
     "output_type": "stream",
     "text": [
      "                    * \n",
      "                    * * \n",
      "                    * * * \n",
      "                    * * * * \n",
      "                    * * * * * \n",
      "                    * * * * * * \n",
      "                    * * * * * * * \n",
      "                    * * * * * * * * \n",
      "                    * * * * * * * * * \n",
      "                    * * * * * * * * * * \n"
     ]
    }
   ],
   "source": [
    "n=20\n",
    "for i in range(1, 11):\n",
    "    print(' '*n, end='') # repet space for n times\n",
    "    print('* '*(i)) # repeat stars for i times\n",
    "    n-=1"
   ]
  },
  {
   "cell_type": "code",
   "execution_count": null,
   "id": "919da262-4369-4243-b921-77f0e4b3685e",
   "metadata": {},
   "outputs": [],
   "source": []
  }
 ],
 "metadata": {
  "kernelspec": {
   "display_name": "Python 3 (ipykernel)",
   "language": "python",
   "name": "python3"
  },
  "language_info": {
   "codemirror_mode": {
    "name": "ipython",
    "version": 3
   },
   "file_extension": ".py",
   "mimetype": "text/x-python",
   "name": "python",
   "nbconvert_exporter": "python",
   "pygments_lexer": "ipython3",
   "version": "3.10.8"
  }
 },
 "nbformat": 4,
 "nbformat_minor": 5
}
