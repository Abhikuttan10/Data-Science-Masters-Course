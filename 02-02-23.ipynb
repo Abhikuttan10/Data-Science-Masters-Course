{
 "cells": [
  {
   "cell_type": "code",
   "execution_count": 4,
   "id": "2f76370e-676f-4588-bfe5-a311286e8def",
   "metadata": {},
   "outputs": [
    {
     "data": {
      "text/plain": [
       "'Characteristic of tuple :-\\n1.Tuples are used to store multiple items in a single variable.\\n2.Tuples are written with round brackets.\\n3.They are indexed/ordered\\n4.They cannot be changed\\n\\nTuples are immutable'"
      ]
     },
     "execution_count": 4,
     "metadata": {},
     "output_type": "execute_result"
    }
   ],
   "source": [
    "# 1)\n",
    "'''Characteristic of tuple :-\n",
    "1.Tuples are used to store multiple items in a single variable.\n",
    "2.Tuples are written with round brackets.\n",
    "3.They are indexed/ordered\n",
    "4.They cannot be changed\n",
    "\n",
    "Tuples are immutable'''"
   ]
  },
  {
   "cell_type": "code",
   "execution_count": 7,
   "id": "1c2942a4-8dbd-4478-9f81-15ec316b3a54",
   "metadata": {},
   "outputs": [
    {
     "name": "stdout",
     "output_type": "stream",
     "text": [
      "4\n",
      "2\n"
     ]
    }
   ],
   "source": [
    "#2)\n",
    "a=(1,2,3,3,3,4,5,3,35)\n",
    "# Tuples only have 2 methods which are count and index, this is because tuple is immutable and other methods used in lists cause changes.\n",
    "print(a.count(3))\n",
    "print(a.index(3))"
   ]
  },
  {
   "cell_type": "code",
   "execution_count": 14,
   "id": "f6b0774f-39fc-448e-a043-4a214a5a45ed",
   "metadata": {},
   "outputs": [
    {
     "name": "stdout",
     "output_type": "stream",
     "text": [
      "{1, 2, 3, 4}\n"
     ]
    }
   ],
   "source": [
    "#3)\n",
    "''' Set does not allow duplicate items'''\n",
    "List = [1, 1, 1, 2, 1, 3, 1, 4, 2, 1, 2, 2, 2, 3, 2, 4, 3, 1, 3, 2, 3, 3, 3, 4, 4, 1, 4, 2, 4, 3, 4, 4]\n",
    "a=set(List)\n",
    "print(a)"
   ]
  },
  {
   "cell_type": "code",
   "execution_count": 24,
   "id": "dace4af5-3284-4419-a5f4-1dd492d42b60",
   "metadata": {},
   "outputs": [
    {
     "name": "stdout",
     "output_type": "stream",
     "text": [
      "c= {64, 1, 34, 3, 5, 8, 9, 12}\n",
      "d= None\n"
     ]
    }
   ],
   "source": [
    "#4)\n",
    "''' Union=Return a set containing the union of sets\n",
    "    Update=Update the set with the union of this set and others'''\n",
    "\n",
    "a={1,5,8,9,3}\n",
    "b={12,34,64}\n",
    "c=a.union(b)\n",
    "print(\"c=\",c)\n",
    "d=b.update(a)\n",
    "print(\"d=\",d)"
   ]
  },
  {
   "cell_type": "code",
   "execution_count": 26,
   "id": "1cf3a559-13bf-4928-ad2b-6efd4f01ef35",
   "metadata": {},
   "outputs": [],
   "source": [
    "#5)\n",
    "'''Dictionaries are used to store data values in key:value pairs.\n",
    "\n",
    "A dictionary is a collection which is ordered*, changeable and do not allow duplicates.'''\n",
    "\n",
    "dict1={\"a\":\"Greg\",\"b\":\"Stewie\",\"c\":\"\"}"
   ]
  },
  {
   "cell_type": "code",
   "execution_count": 32,
   "id": "0df4fd52-f9c3-4c93-8a85-83eebf1ed44f",
   "metadata": {},
   "outputs": [
    {
     "data": {
      "text/plain": [
       "{2: 'Gregory'}"
      ]
     },
     "execution_count": 32,
     "metadata": {},
     "output_type": "execute_result"
    }
   ],
   "source": [
    "#6)\n",
    "''' Yes we can create nested dictionaries'''\n",
    "nestdict={\"a\":{1:\"Jeremy\"},\"b\":{2:\"Gregory\"}}\n",
    "nestdict.get(\"b\")"
   ]
  },
  {
   "cell_type": "code",
   "execution_count": 45,
   "id": "65d42414-b29c-4c5d-8847-e571662cdb2b",
   "metadata": {},
   "outputs": [
    {
     "data": {
      "text/plain": [
       "{'language': 'Python',\n",
       " 'course': 'Data Science Masters',\n",
       " 'topics': ['Python', 'Machine Learning', 'Deep Learning']}"
      ]
     },
     "execution_count": 45,
     "metadata": {},
     "output_type": "execute_result"
    }
   ],
   "source": [
    "#7)\n",
    "dict1 = {'language' : 'Python', 'course': 'Data Science Masters'}\n",
    "dict1.setdefault(\"topics\")\n",
    "dict1.update({\"topics\":[\"Python\", \"Machine Learning\",\"Deep Learning\"]})\n",
    "dict1"
   ]
  },
  {
   "cell_type": "code",
   "execution_count": 48,
   "id": "2abb062f-3242-4571-b018-11542103b53d",
   "metadata": {},
   "outputs": [
    {
     "name": "stdout",
     "output_type": "stream",
     "text": [
      "dict_keys(['Sport', 'Teams'])\n",
      "dict_values(['Cricket', ['India', 'Australia', 'England', 'South Africa', 'Sri Lanka', 'New Zealand']])\n",
      "dict_items([('Sport', 'Cricket'), ('Teams', ['India', 'Australia', 'England', 'South Africa', 'Sri Lanka', 'New Zealand'])])\n"
     ]
    }
   ],
   "source": [
    "#8)\n",
    "''' Three view objects are keys, values and items'''\n",
    "dict1 = {'Sport': 'Cricket' , 'Teams': ['India', 'Australia', 'England', 'South Africa', 'Sri Lanka', 'New Zealand']}\n",
    "a=dict1.keys()\n",
    "b=dict1.values()\n",
    "c=dict1.items()\n",
    "print(a)\n",
    "print(b)\n",
    "print(c)"
   ]
  },
  {
   "cell_type": "code",
   "execution_count": null,
   "id": "b41f311b-959c-4d63-aed8-39881cf4f79d",
   "metadata": {},
   "outputs": [],
   "source": []
  }
 ],
 "metadata": {
  "kernelspec": {
   "display_name": "Python 3 (ipykernel)",
   "language": "python",
   "name": "python3"
  },
  "language_info": {
   "codemirror_mode": {
    "name": "ipython",
    "version": 3
   },
   "file_extension": ".py",
   "mimetype": "text/x-python",
   "name": "python",
   "nbconvert_exporter": "python",
   "pygments_lexer": "ipython3",
   "version": "3.10.8"
  }
 },
 "nbformat": 4,
 "nbformat_minor": 5
}
