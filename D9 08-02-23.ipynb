{
 "cells": [
  {
   "cell_type": "markdown",
   "id": "2f295fcc-9bb9-452e-a68b-8a8762649a28",
   "metadata": {},
   "source": [
    "## Polymorphism"
   ]
  },
  {
   "cell_type": "code",
   "execution_count": 1,
   "id": "0a5b66bc-6cbd-46f0-8e7b-9498b6284160",
   "metadata": {},
   "outputs": [],
   "source": [
    "def test(a,b):\n",
    "    return a+b"
   ]
  },
  {
   "cell_type": "code",
   "execution_count": 2,
   "id": "270e2ac1-e3d0-4f49-b67e-394de92efc20",
   "metadata": {},
   "outputs": [
    {
     "data": {
      "text/plain": [
       "9"
      ]
     },
     "execution_count": 2,
     "metadata": {},
     "output_type": "execute_result"
    }
   ],
   "source": [
    "test(4,5)"
   ]
  },
  {
   "cell_type": "code",
   "execution_count": 3,
   "id": "082394b7-6f63-468e-8cf7-2abb7a989f6a",
   "metadata": {},
   "outputs": [
    {
     "data": {
      "text/plain": [
       "'surya'"
      ]
     },
     "execution_count": 3,
     "metadata": {},
     "output_type": "execute_result"
    }
   ],
   "source": [
    "test(\"su\",\"rya\")"
   ]
  },
  {
   "cell_type": "code",
   "execution_count": 9,
   "id": "33d630c7-455e-4cea-9d2c-bc00dec1805d",
   "metadata": {},
   "outputs": [],
   "source": [
    "class data_science:\n",
    "    def sylabbus(self):\n",
    "        print(\"This is DS syllabus\")"
   ]
  },
  {
   "cell_type": "code",
   "execution_count": 10,
   "id": "4bdf493d-475a-4d9f-ab0b-31f8553b55f4",
   "metadata": {},
   "outputs": [],
   "source": [
    "class web_dev:\n",
    "    def sylabbus(self):\n",
    "        print(\"This is WD syllabus\")"
   ]
  },
  {
   "cell_type": "code",
   "execution_count": 11,
   "id": "e611e4c4-37e4-4ae5-959b-50f13c1a064d",
   "metadata": {},
   "outputs": [],
   "source": [
    "def class_parcer(class_object):\n",
    "    for i in class_object:\n",
    "        i.sylabbus()"
   ]
  },
  {
   "cell_type": "code",
   "execution_count": 13,
   "id": "d564c885-0c3e-4305-a20f-4c30cddba8fe",
   "metadata": {},
   "outputs": [],
   "source": [
    "obj_data_science= data_science()"
   ]
  },
  {
   "cell_type": "code",
   "execution_count": 14,
   "id": "f2343fe3-d846-4de2-9a73-fe2c82c74a0a",
   "metadata": {},
   "outputs": [],
   "source": [
    "obj_web_dev=web_dev()"
   ]
  },
  {
   "cell_type": "code",
   "execution_count": 15,
   "id": "2d647706-9819-4208-a1ea-ef42e08c9ae0",
   "metadata": {},
   "outputs": [],
   "source": [
    "class_object=[obj_data_science,obj_web_dev]"
   ]
  },
  {
   "cell_type": "code",
   "execution_count": 16,
   "id": "a5990944-63ac-432b-bf05-1e7a593d0eb6",
   "metadata": {},
   "outputs": [
    {
     "name": "stdout",
     "output_type": "stream",
     "text": [
      "This is DS syllabus\n",
      "This is WD syllabus\n"
     ]
    }
   ],
   "source": [
    "class_parcer(class_object)"
   ]
  },
  {
   "cell_type": "markdown",
   "id": "11e3e9ed-bf4c-484c-8575-5936d4aacc60",
   "metadata": {},
   "source": [
    "## Encapsulation"
   ]
  },
  {
   "cell_type": "code",
   "execution_count": 17,
   "id": "6d43e904-6416-4d05-8343-e08e6bd4238d",
   "metadata": {},
   "outputs": [],
   "source": [
    "class test:\n",
    "    def __init__(self,a,b):\n",
    "        self.a=a\n",
    "        self.b=b\n"
   ]
  },
  {
   "cell_type": "code",
   "execution_count": 22,
   "id": "edc0b90d-4d3b-4320-b26f-0ede81080266",
   "metadata": {},
   "outputs": [],
   "source": [
    "t=test(15,5)"
   ]
  },
  {
   "cell_type": "code",
   "execution_count": 23,
   "id": "0e65efee-6a1b-4038-8040-ca915bc5ca46",
   "metadata": {},
   "outputs": [
    {
     "data": {
      "text/plain": [
       "15"
      ]
     },
     "execution_count": 23,
     "metadata": {},
     "output_type": "execute_result"
    }
   ],
   "source": [
    "t.a"
   ]
  },
  {
   "cell_type": "code",
   "execution_count": 24,
   "id": "3a2525fd-0e28-4f00-acb1-d2b1fac41168",
   "metadata": {},
   "outputs": [
    {
     "data": {
      "text/plain": [
       "5"
      ]
     },
     "execution_count": 24,
     "metadata": {},
     "output_type": "execute_result"
    }
   ],
   "source": [
    "t.b"
   ]
  },
  {
   "cell_type": "code",
   "execution_count": 25,
   "id": "7c01b6e6-592f-4a15-b77f-d3d96c945366",
   "metadata": {},
   "outputs": [],
   "source": [
    "t.a=56"
   ]
  },
  {
   "cell_type": "code",
   "execution_count": 26,
   "id": "129e1759-c3d9-4444-862c-2de45c59b869",
   "metadata": {},
   "outputs": [
    {
     "data": {
      "text/plain": [
       "56"
      ]
     },
     "execution_count": 26,
     "metadata": {},
     "output_type": "execute_result"
    }
   ],
   "source": [
    "t.a"
   ]
  },
  {
   "cell_type": "code",
   "execution_count": 49,
   "id": "f107b52f-cb87-4566-9564-b75c7761f95c",
   "metadata": {},
   "outputs": [],
   "source": [
    "class car:\n",
    "    def __init__(self,year,company,model,speed):\n",
    "        self.__year=year\n",
    "        self.__company=company\n",
    "        self.__model=model\n",
    "        self.__speed=speed\n",
    "    def set_speed(self,speed):\n",
    "        self.__speed=speed\n",
    "    def get_speed(self):\n",
    "        return self.__speed"
   ]
  },
  {
   "cell_type": "code",
   "execution_count": 50,
   "id": "98377e08-45f4-473e-9b90-6968d47a5427",
   "metadata": {},
   "outputs": [],
   "source": [
    "obj_car=car(2023,\"toyota\",\"m-5\",156)"
   ]
  },
  {
   "cell_type": "code",
   "execution_count": 51,
   "id": "ad95ac4d-9562-4e92-9b8d-c61f59e6f634",
   "metadata": {},
   "outputs": [
    {
     "data": {
      "text/plain": [
       "2023"
      ]
     },
     "execution_count": 51,
     "metadata": {},
     "output_type": "execute_result"
    }
   ],
   "source": [
    "obj_car._car__year"
   ]
  },
  {
   "cell_type": "code",
   "execution_count": 52,
   "id": "0ac9375f-05d7-4752-a0a7-55f3b59c34a5",
   "metadata": {},
   "outputs": [],
   "source": [
    "obj_car.set_speed(469)\n"
   ]
  },
  {
   "cell_type": "code",
   "execution_count": 53,
   "id": "a78c4f26-0ea7-4eac-87df-8880057d28fe",
   "metadata": {},
   "outputs": [
    {
     "data": {
      "text/plain": [
       "469"
      ]
     },
     "execution_count": 53,
     "metadata": {},
     "output_type": "execute_result"
    }
   ],
   "source": [
    "obj_car._car__speed"
   ]
  },
  {
   "cell_type": "code",
   "execution_count": 54,
   "id": "46307947-376e-48b7-89a9-315b9024cd75",
   "metadata": {},
   "outputs": [
    {
     "data": {
      "text/plain": [
       "469"
      ]
     },
     "execution_count": 54,
     "metadata": {},
     "output_type": "execute_result"
    }
   ],
   "source": [
    "obj_car.get_speed()"
   ]
  },
  {
   "cell_type": "code",
   "execution_count": 63,
   "id": "14187fb4-ea23-4962-838d-1fbbbdf77970",
   "metadata": {},
   "outputs": [],
   "source": [
    "class bank_account:\n",
    "    def __init__(self,balance):\n",
    "        self.__balance=balance\n",
    "    def deposit(self,amount):\n",
    "        self.__balance=self.__balance+amount\n",
    "    def withdrawal(self,amount):\n",
    "        if self.__balance>=amount:\n",
    "            self.__balance=self.__balance-amount\n",
    "        else:\n",
    "            return False\n",
    "    def check_balance(self):\n",
    "        return self.__balance"
   ]
  },
  {
   "cell_type": "code",
   "execution_count": 64,
   "id": "1a21cab9-7d34-4ea8-9551-e0c05ceee2a4",
   "metadata": {},
   "outputs": [],
   "source": [
    "obj_bank_account=bank_account(1500)"
   ]
  },
  {
   "cell_type": "code",
   "execution_count": 65,
   "id": "1eda9b3e-3735-4121-a7e7-077814394776",
   "metadata": {},
   "outputs": [
    {
     "data": {
      "text/plain": [
       "1500"
      ]
     },
     "execution_count": 65,
     "metadata": {},
     "output_type": "execute_result"
    }
   ],
   "source": [
    "obj_bank_account.check_balance()"
   ]
  },
  {
   "cell_type": "code",
   "execution_count": 66,
   "id": "d9240dd6-f0fd-4827-ab9e-09af4a822455",
   "metadata": {},
   "outputs": [],
   "source": [
    "obj_bank_account.deposit(6000)"
   ]
  },
  {
   "cell_type": "code",
   "execution_count": 67,
   "id": "17e3cf2e-2f43-4325-9d41-f8eef28cbabf",
   "metadata": {},
   "outputs": [],
   "source": [
    "obj_bank_account.withdrawal(1000)"
   ]
  },
  {
   "cell_type": "code",
   "execution_count": 68,
   "id": "d525cc23-df3c-44a2-99cb-5f49e83342e1",
   "metadata": {},
   "outputs": [
    {
     "data": {
      "text/plain": [
       "6500"
      ]
     },
     "execution_count": 68,
     "metadata": {},
     "output_type": "execute_result"
    }
   ],
   "source": [
    "obj_bank_account.check_balance()"
   ]
  },
  {
   "cell_type": "markdown",
   "id": "bfc26b7e-6c6d-498c-b443-053180c0a9ca",
   "metadata": {},
   "source": [
    "## Inheritance"
   ]
  },
  {
   "cell_type": "code",
   "execution_count": 69,
   "id": "0d8faf73-67ab-4ed8-a24e-3e9c18be1469",
   "metadata": {},
   "outputs": [],
   "source": [
    "class parent_class:\n",
    "    def test_parent(self):\n",
    "        print(\"This is parent class\")"
   ]
  },
  {
   "cell_type": "code",
   "execution_count": 71,
   "id": "ebc8a5fe-cee0-4292-86bc-bb67147a9eb4",
   "metadata": {},
   "outputs": [],
   "source": [
    "class child_class(parent_class):\n",
    "    pass"
   ]
  },
  {
   "cell_type": "code",
   "execution_count": 73,
   "id": "eb4dda6b-2b6c-4dda-9d48-e00a88deae2b",
   "metadata": {},
   "outputs": [],
   "source": [
    "obj=child_class()"
   ]
  },
  {
   "cell_type": "code",
   "execution_count": 74,
   "id": "b76cd938-2ef3-4067-b6d4-a68e3a51b8d8",
   "metadata": {},
   "outputs": [
    {
     "name": "stdout",
     "output_type": "stream",
     "text": [
      "This is parent class\n"
     ]
    }
   ],
   "source": [
    "obj.test_parent()"
   ]
  },
  {
   "cell_type": "code",
   "execution_count": 89,
   "id": "1208a2c8-1a9b-44ec-8dd3-ebeffdcd7428",
   "metadata": {},
   "outputs": [],
   "source": [
    "class class1:\n",
    "    def test_class1(self):\n",
    "        print(\"Class1 here\")"
   ]
  },
  {
   "cell_type": "code",
   "execution_count": 90,
   "id": "b7267b58-4b64-4b91-85e9-4beb12a5d46d",
   "metadata": {},
   "outputs": [],
   "source": [
    "class class2(class1):\n",
    "    def test_class2(self):\n",
    "        print(\"Class2 here\")"
   ]
  },
  {
   "cell_type": "code",
   "execution_count": 91,
   "id": "a7d908fa-41fd-43c5-9a1e-a71c84710774",
   "metadata": {},
   "outputs": [],
   "source": [
    "class class3(class2):\n",
    "    def test_class3(self):\n",
    "        print(\"Class3 here\")"
   ]
  },
  {
   "cell_type": "code",
   "execution_count": 92,
   "id": "9c426b34-4c6c-4046-a311-3a3c39333f41",
   "metadata": {},
   "outputs": [],
   "source": [
    "obj_c2=class2()"
   ]
  },
  {
   "cell_type": "code",
   "execution_count": 93,
   "id": "0687c46d-e8f7-414b-a0d6-8ef44b2bef45",
   "metadata": {},
   "outputs": [
    {
     "name": "stdout",
     "output_type": "stream",
     "text": [
      "Class2 here\n"
     ]
    }
   ],
   "source": [
    "obj_c2.test_class2()"
   ]
  },
  {
   "cell_type": "code",
   "execution_count": 80,
   "id": "cbb83a44-0fd4-4d28-84ed-f07c9170176e",
   "metadata": {},
   "outputs": [],
   "source": [
    "obj_c3=class3()"
   ]
  },
  {
   "cell_type": "code",
   "execution_count": 81,
   "id": "a4e0bed1-e27d-4237-b6b2-1db195a2e6d8",
   "metadata": {},
   "outputs": [
    {
     "name": "stdout",
     "output_type": "stream",
     "text": [
      "Class1 here\n"
     ]
    }
   ],
   "source": [
    "obj_c3.test_class1()"
   ]
  },
  {
   "cell_type": "code",
   "execution_count": 82,
   "id": "b1fabf02-7cc4-4cba-af1d-f27635af48cc",
   "metadata": {},
   "outputs": [
    {
     "name": "stdout",
     "output_type": "stream",
     "text": [
      "Class2 here\n"
     ]
    }
   ],
   "source": [
    "obj_c3.test_class2()"
   ]
  },
  {
   "cell_type": "code",
   "execution_count": 83,
   "id": "4f4e83d0-df88-4594-98e9-31e9574be580",
   "metadata": {},
   "outputs": [
    {
     "name": "stdout",
     "output_type": "stream",
     "text": [
      "Class3 here\n"
     ]
    }
   ],
   "source": [
    "obj_c3.test_class3()"
   ]
  },
  {
   "cell_type": "code",
   "execution_count": 84,
   "id": "cffa1730-4b31-4abe-a612-6c50784c9ec7",
   "metadata": {},
   "outputs": [],
   "source": [
    "class class1:\n",
    "    def test_class1(self):\n",
    "        print(\"Class1 here\")"
   ]
  },
  {
   "cell_type": "code",
   "execution_count": 85,
   "id": "71f91aed-4b16-490d-b3a5-20cf58aab4a7",
   "metadata": {},
   "outputs": [],
   "source": [
    "class class2:\n",
    "    def test_class2(self):\n",
    "        print(\"Class2 here\")"
   ]
  },
  {
   "cell_type": "code",
   "execution_count": 86,
   "id": "6ec016b3-1d33-42c5-9f4b-f84f0b760e14",
   "metadata": {},
   "outputs": [],
   "source": [
    "class class3(class1,class2):\n",
    "    pass\n",
    "    "
   ]
  },
  {
   "cell_type": "code",
   "execution_count": 87,
   "id": "88e4457a-5814-4613-b55e-518900ffacbc",
   "metadata": {},
   "outputs": [],
   "source": [
    "obj_class3=class3()"
   ]
  },
  {
   "cell_type": "code",
   "execution_count": 88,
   "id": "bd7187f1-e5a7-4fe6-b242-76dce0027c42",
   "metadata": {},
   "outputs": [
    {
     "name": "stdout",
     "output_type": "stream",
     "text": [
      "Class2 here\n"
     ]
    }
   ],
   "source": [
    "obj_class3.test_class2()"
   ]
  },
  {
   "cell_type": "code",
   "execution_count": null,
   "id": "d7638683-1704-416f-9d62-110ebded8f2e",
   "metadata": {},
   "outputs": [],
   "source": []
  }
 ],
 "metadata": {
  "kernelspec": {
   "display_name": "Python 3 (ipykernel)",
   "language": "python",
   "name": "python3"
  },
  "language_info": {
   "codemirror_mode": {
    "name": "ipython",
    "version": 3
   },
   "file_extension": ".py",
   "mimetype": "text/x-python",
   "name": "python",
   "nbconvert_exporter": "python",
   "pygments_lexer": "ipython3",
   "version": "3.10.8"
  }
 },
 "nbformat": 4,
 "nbformat_minor": 5
}
