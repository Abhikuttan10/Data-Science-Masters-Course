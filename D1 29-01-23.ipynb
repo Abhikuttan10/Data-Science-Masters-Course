{
 "cells": [
  {
   "cell_type": "code",
   "execution_count": 1,
   "id": "c49a4284-7a15-4ec1-82c1-86abdc2f0644",
   "metadata": {},
   "outputs": [],
   "source": [
    "a=10"
   ]
  },
  {
   "cell_type": "code",
   "execution_count": 2,
   "id": "e11aa32f-c42f-4306-8dd9-ff5ca79d9362",
   "metadata": {},
   "outputs": [
    {
     "name": "stdout",
     "output_type": "stream",
     "text": [
      "10\n"
     ]
    }
   ],
   "source": [
    "print(a)"
   ]
  },
  {
   "cell_type": "code",
   "execution_count": 3,
   "id": "f2058d65-9924-4fee-a3e8-6e689e3eaf32",
   "metadata": {
    "tags": []
   },
   "outputs": [
    {
     "data": {
      "text/plain": [
       "2"
      ]
     },
     "execution_count": 3,
     "metadata": {},
     "output_type": "execute_result"
    }
   ],
   "source": [
    "1+1"
   ]
  },
  {
   "cell_type": "code",
   "execution_count": 4,
   "id": "76dda956-f664-4b42-b129-269b5f05b23a",
   "metadata": {},
   "outputs": [
    {
     "data": {
      "text/plain": [
       "5538490"
      ]
     },
     "execution_count": 4,
     "metadata": {},
     "output_type": "execute_result"
    }
   ],
   "source": [
    "658794+4835151+44545"
   ]
  },
  {
   "cell_type": "code",
   "execution_count": 4,
   "id": "361b7f5a-d4d8-4ed1-b1ab-2a6604e18f0d",
   "metadata": {},
   "outputs": [
    {
     "data": {
      "text/plain": [
       "5538490"
      ]
     },
     "execution_count": 4,
     "metadata": {},
     "output_type": "execute_result"
    }
   ],
   "source": [
    "658794+4835151+44545"
   ]
  },
  {
   "cell_type": "code",
   "execution_count": 6,
   "id": "2df7ae75-9bc9-464c-8c45-d3431369600e",
   "metadata": {
    "tags": []
   },
   "outputs": [],
   "source": [
    "# Comment "
   ]
  },
  {
   "cell_type": "code",
   "execution_count": 7,
   "id": "6d137b16-50ee-4dcf-967f-1a0c440fc6a8",
   "metadata": {},
   "outputs": [
    {
     "data": {
      "text/plain": [
       "10"
      ]
     },
     "execution_count": 7,
     "metadata": {},
     "output_type": "execute_result"
    }
   ],
   "source": [
    "a"
   ]
  },
  {
   "cell_type": "raw",
   "id": "f66c5638-7237-4e6c-8bd7-6edd8975301f",
   "metadata": {
    "tags": []
   },
   "source": [
    "a=10\n",
    "pint(a)"
   ]
  },
  {
   "cell_type": "code",
   "execution_count": 8,
   "id": "be8ef5a1-9f58-40bf-9b59-b6df12becdc3",
   "metadata": {},
   "outputs": [
    {
     "data": {
      "text/plain": [
       "4"
      ]
     },
     "execution_count": 8,
     "metadata": {},
     "output_type": "execute_result"
    }
   ],
   "source": [
    "1+3"
   ]
  },
  {
   "cell_type": "code",
   "execution_count": 9,
   "id": "cbf62306-13d9-4084-945d-eee5d590d174",
   "metadata": {},
   "outputs": [
    {
     "name": "stdout",
     "output_type": "stream",
     "text": [
      "4\n"
     ]
    }
   ],
   "source": [
    "print(1+3)"
   ]
  },
  {
   "cell_type": "code",
   "execution_count": 12,
   "id": "c32c40f8-64a1-4aaa-b09f-5619f110be7d",
   "metadata": {},
   "outputs": [
    {
     "name": "stdout",
     "output_type": "stream",
     "text": [
      "Hello\n",
      "\t World\n"
     ]
    }
   ],
   "source": [
    "print(\"Hello\\n\\t World\")"
   ]
  },
  {
   "cell_type": "code",
   "execution_count": 13,
   "id": "880a6d3d-7e26-4b9f-b134-3ec27caa5df1",
   "metadata": {},
   "outputs": [],
   "source": [
    "## Variable assignment"
   ]
  },
  {
   "cell_type": "code",
   "execution_count": 14,
   "id": "80b50e7c-738d-4c33-9f55-75a50ec1e86c",
   "metadata": {},
   "outputs": [],
   "source": [
    "Name=\"Abhikuttan\""
   ]
  },
  {
   "cell_type": "code",
   "execution_count": 15,
   "id": "642aca40-ed0d-4f3e-a2f1-a225da5f462e",
   "metadata": {},
   "outputs": [
    {
     "name": "stdout",
     "output_type": "stream",
     "text": [
      "Abhikuttan\n"
     ]
    }
   ],
   "source": [
    "print(Name)"
   ]
  },
  {
   "cell_type": "code",
   "execution_count": 16,
   "id": "9550257b-2ed5-4f7b-8d1c-a4e4478c989a",
   "metadata": {},
   "outputs": [],
   "source": [
    "Name=\"11\""
   ]
  },
  {
   "cell_type": "code",
   "execution_count": 17,
   "id": "6b6f3f58-d544-4ef6-8c7e-ef2071abcb48",
   "metadata": {},
   "outputs": [
    {
     "name": "stdout",
     "output_type": "stream",
     "text": [
      "11\n"
     ]
    }
   ],
   "source": [
    "print(Name)"
   ]
  },
  {
   "cell_type": "code",
   "execution_count": 18,
   "id": "57209741-64df-4208-b50c-692945366e28",
   "metadata": {},
   "outputs": [
    {
     "data": {
      "text/plain": [
       "str"
      ]
     },
     "execution_count": 18,
     "metadata": {},
     "output_type": "execute_result"
    }
   ],
   "source": [
    "type(Name)"
   ]
  },
  {
   "cell_type": "code",
   "execution_count": 19,
   "id": "8d734c0e-ff43-4892-a736-0418b3db3756",
   "metadata": {},
   "outputs": [
    {
     "name": "stdout",
     "output_type": "stream",
     "text": [
      "<class 'str'>\n"
     ]
    }
   ],
   "source": [
    "print(type(Name))"
   ]
  },
  {
   "cell_type": "code",
   "execution_count": 20,
   "id": "7d9f2aa8-51d7-4a47-ac0d-8c516b917226",
   "metadata": {},
   "outputs": [
    {
     "data": {
      "text/plain": [
       "str"
      ]
     },
     "execution_count": 20,
     "metadata": {},
     "output_type": "execute_result"
    }
   ],
   "source": [
    "type(\"402\")"
   ]
  },
  {
   "cell_type": "code",
   "execution_count": 21,
   "id": "6b390355-bf2e-455e-8f6c-9a782a88e739",
   "metadata": {},
   "outputs": [
    {
     "data": {
      "text/plain": [
       "complex"
      ]
     },
     "execution_count": 21,
     "metadata": {},
     "output_type": "execute_result"
    }
   ],
   "source": [
    "type(46548+4846j)"
   ]
  },
  {
   "cell_type": "code",
   "execution_count": 22,
   "id": "1640427a-278d-4da4-ade8-b66b4f4e58bb",
   "metadata": {},
   "outputs": [
    {
     "ename": "SyntaxError",
     "evalue": "invalid decimal literal (2526688409.py, line 1)",
     "output_type": "error",
     "traceback": [
      "\u001b[0;36m  Cell \u001b[0;32mIn[22], line 1\u001b[0;36m\u001b[0m\n\u001b[0;31m    1a=46\u001b[0m\n\u001b[0m    ^\u001b[0m\n\u001b[0;31mSyntaxError\u001b[0m\u001b[0;31m:\u001b[0m invalid decimal literal\n"
     ]
    }
   ],
   "source": [
    "1a=46"
   ]
  },
  {
   "cell_type": "code",
   "execution_count": 23,
   "id": "9b3f842b-111a-4cfc-a171-cfe582615135",
   "metadata": {},
   "outputs": [],
   "source": [
    "a1=45"
   ]
  },
  {
   "cell_type": "code",
   "execution_count": 26,
   "id": "f6535de1-3105-48ce-a61c-a0b895111aef",
   "metadata": {},
   "outputs": [
    {
     "data": {
      "text/plain": [
       "bool"
      ]
     },
     "execution_count": 26,
     "metadata": {},
     "output_type": "execute_result"
    }
   ],
   "source": [
    "type(True)"
   ]
  },
  {
   "cell_type": "code",
   "execution_count": 27,
   "id": "7555004c-bd77-4255-819a-161a85a191ce",
   "metadata": {},
   "outputs": [
    {
     "data": {
      "text/plain": [
       "bool"
      ]
     },
     "execution_count": 27,
     "metadata": {},
     "output_type": "execute_result"
    }
   ],
   "source": [
    "bool"
   ]
  },
  {
   "cell_type": "code",
   "execution_count": 28,
   "id": "8073e6f0-dbc6-4fc4-8e6b-aa847c3fa1b9",
   "metadata": {},
   "outputs": [
    {
     "data": {
      "text/plain": [
       "10.0"
      ]
     },
     "execution_count": 28,
     "metadata": {},
     "output_type": "execute_result"
    }
   ],
   "source": [
    "float(10)"
   ]
  },
  {
   "cell_type": "code",
   "execution_count": 32,
   "id": "1eaff3ae-2e2d-4374-a01c-203d6c5f3686",
   "metadata": {},
   "outputs": [
    {
     "data": {
      "text/plain": [
       "'hellohellohellohellohellohellohellohellohellohello'"
      ]
     },
     "execution_count": 32,
     "metadata": {},
     "output_type": "execute_result"
    }
   ],
   "source": [
    "\"hello\"*10"
   ]
  },
  {
   "cell_type": "code",
   "execution_count": 33,
   "id": "7050621a-dfb8-4e6a-877f-89559925f9fe",
   "metadata": {},
   "outputs": [
    {
     "name": "stdout",
     "output_type": "stream",
     "text": [
      "hellohello\n"
     ]
    }
   ],
   "source": [
    "print(\"hello\"*2)"
   ]
  },
  {
   "cell_type": "code",
   "execution_count": 34,
   "id": "d023169f-3997-42bd-8948-2ee6d18da8aa",
   "metadata": {},
   "outputs": [
    {
     "data": {
      "text/plain": [
       "True"
      ]
     },
     "execution_count": 34,
     "metadata": {},
     "output_type": "execute_result"
    }
   ],
   "source": [
    "bool(-2)"
   ]
  },
  {
   "cell_type": "code",
   "execution_count": 35,
   "id": "cae9ceed-5414-4890-acc3-61b998aeb5f7",
   "metadata": {},
   "outputs": [
    {
     "data": {
      "text/plain": [
       "True"
      ]
     },
     "execution_count": 35,
     "metadata": {},
     "output_type": "execute_result"
    }
   ],
   "source": [
    "bool(5)"
   ]
  },
  {
   "cell_type": "code",
   "execution_count": 36,
   "id": "c86a4398-3856-4573-9fcf-349722cbdce4",
   "metadata": {},
   "outputs": [
    {
     "ename": "TypeError",
     "evalue": "'float' object is not callable",
     "output_type": "error",
     "traceback": [
      "\u001b[0;31m---------------------------------------------------------------------------\u001b[0m",
      "\u001b[0;31mTypeError\u001b[0m                                 Traceback (most recent call last)",
      "Cell \u001b[0;32mIn[36], line 1\u001b[0m\n\u001b[0;32m----> 1\u001b[0m \u001b[38;5;28;43mint\u001b[39;49m\u001b[43m(\u001b[49m\u001b[38;5;241;43m54\u001b[39;49m\u001b[43m)\u001b[49m\n",
      "\u001b[0;31mTypeError\u001b[0m: 'float' object is not callable"
     ]
    }
   ],
   "source": [
    "int(54)"
   ]
  },
  {
   "cell_type": "code",
   "execution_count": null,
   "id": "b923365e-6117-4b2d-8af3-50e73160418b",
   "metadata": {},
   "outputs": [],
   "source": []
  }
 ],
 "metadata": {
  "kernelspec": {
   "display_name": "Python 3 (ipykernel)",
   "language": "python",
   "name": "python3"
  },
  "language_info": {
   "codemirror_mode": {
    "name": "ipython",
    "version": 3
   },
   "file_extension": ".py",
   "mimetype": "text/x-python",
   "name": "python",
   "nbconvert_exporter": "python",
   "pygments_lexer": "ipython3",
   "version": "3.10.8"
  }
 },
 "nbformat": 4,
 "nbformat_minor": 5
}
