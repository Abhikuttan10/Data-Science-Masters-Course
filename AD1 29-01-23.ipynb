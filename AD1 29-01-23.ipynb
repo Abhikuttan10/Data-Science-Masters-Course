{
 "cells": [
  {
   "cell_type": "code",
   "execution_count": 6,
   "id": "342510c2-6bc7-4e33-9bad-48c8677cfed8",
   "metadata": {},
   "outputs": [
    {
     "data": {
      "text/plain": [
       "'1]\\nGuido van Rossum'"
      ]
     },
     "execution_count": 6,
     "metadata": {},
     "output_type": "execute_result"
    }
   ],
   "source": [
    "'''1] Guido van Rossum'''"
   ]
  },
  {
   "cell_type": "code",
   "execution_count": 7,
   "id": "d7460b32-5eb8-42de-9984-a7ebba3e087a",
   "metadata": {},
   "outputs": [
    {
     "data": {
      "text/plain": [
       "'2]Object-oriented programming and structured programming'"
      ]
     },
     "execution_count": 7,
     "metadata": {},
     "output_type": "execute_result"
    }
   ],
   "source": [
    "'''2]Object-oriented programming and structured programming'''"
   ]
  },
  {
   "cell_type": "code",
   "execution_count": 8,
   "id": "47cdf8a2-6e35-4ce1-91d9-a1cf254abcba",
   "metadata": {},
   "outputs": [
    {
     "data": {
      "text/plain": [
       "'3]Yes'"
      ]
     },
     "execution_count": 8,
     "metadata": {},
     "output_type": "execute_result"
    }
   ],
   "source": [
    "'''3]Yes'''"
   ]
  },
  {
   "cell_type": "code",
   "execution_count": 9,
   "id": "b8c3e739-b8b2-4e2e-995e-08c062f4d3ab",
   "metadata": {},
   "outputs": [
    {
     "data": {
      "text/plain": [
       "'4].py'"
      ]
     },
     "execution_count": 9,
     "metadata": {},
     "output_type": "execute_result"
    }
   ],
   "source": [
    "'''4].py'''"
   ]
  },
  {
   "cell_type": "code",
   "execution_count": 10,
   "id": "6f1a52d7-dbc9-4f1b-82be-fe1c86787b50",
   "metadata": {},
   "outputs": [
    {
     "data": {
      "text/plain": [
       "'5]interpreted'"
      ]
     },
     "execution_count": 10,
     "metadata": {},
     "output_type": "execute_result"
    }
   ],
   "source": [
    "'''5]interpreted'''"
   ]
  },
  {
   "cell_type": "code",
   "execution_count": 11,
   "id": "330df5b0-8026-47ec-9c16-28981ac14430",
   "metadata": {},
   "outputs": [
    {
     "data": {
      "text/plain": [
       "'6]a module, a function body, and a class definition.'"
      ]
     },
     "execution_count": 11,
     "metadata": {},
     "output_type": "execute_result"
    }
   ],
   "source": [
    "'''6]a module, a function body, and a class definition.'''"
   ]
  },
  {
   "cell_type": "code",
   "execution_count": 12,
   "id": "def33149-a56f-4a13-b160-515531a7af46",
   "metadata": {},
   "outputs": [
    {
     "data": {
      "text/plain": [
       "'7]#'"
      ]
     },
     "execution_count": 12,
     "metadata": {},
     "output_type": "execute_result"
    }
   ],
   "source": [
    "'''7]#'''"
   ]
  },
  {
   "cell_type": "code",
   "execution_count": 32,
   "id": "15404d78-69f4-4a52-8242-673ea07d0bad",
   "metadata": {},
   "outputs": [
    {
     "data": {
      "text/plain": [
       "'8] Go to command window , type python --version'"
      ]
     },
     "execution_count": 32,
     "metadata": {},
     "output_type": "execute_result"
    }
   ],
   "source": [
    "'''8] Go to command window , type python --version'''"
   ]
  },
  {
   "cell_type": "code",
   "execution_count": 18,
   "id": "d4b089e0-5a38-43a7-be54-c1adb891a753",
   "metadata": {},
   "outputs": [
    {
     "data": {
      "text/plain": [
       "'9]lambda'"
      ]
     },
     "execution_count": 18,
     "metadata": {},
     "output_type": "execute_result"
    }
   ],
   "source": [
    "'''9]lambda'''"
   ]
  },
  {
   "cell_type": "code",
   "execution_count": 19,
   "id": "f727deef-35f4-46e2-a199-e98b041d508e",
   "metadata": {},
   "outputs": [
    {
     "data": {
      "text/plain": [
       "'10]Package installer for python'"
      ]
     },
     "execution_count": 19,
     "metadata": {},
     "output_type": "execute_result"
    }
   ],
   "source": [
    "'''10]Package installer for python'''"
   ]
  },
  {
   "cell_type": "code",
   "execution_count": 20,
   "id": "0e386800-a550-45d9-880a-5377f1286672",
   "metadata": {},
   "outputs": [
    {
     "data": {
      "text/plain": [
       "'11]max,min,pow,range'"
      ]
     },
     "execution_count": 20,
     "metadata": {},
     "output_type": "execute_result"
    }
   ],
   "source": [
    "'''11]max,min,pow,range'''"
   ]
  },
  {
   "cell_type": "code",
   "execution_count": 26,
   "id": "892b9c8a-87cd-4a65-b111-33560520b6e5",
   "metadata": {},
   "outputs": [
    {
     "data": {
      "text/plain": [
       "'12]79'"
      ]
     },
     "execution_count": 26,
     "metadata": {},
     "output_type": "execute_result"
    }
   ],
   "source": [
    "'''12]79'''"
   ]
  },
  {
   "cell_type": "code",
   "execution_count": 27,
   "id": "7ef98b45-14ba-418f-9c07-91a99d9ddc78",
   "metadata": {},
   "outputs": [
    {
     "data": {
      "text/plain": [
       "'13]Easy syntax, lots of libraries and available functions, Large community'"
      ]
     },
     "execution_count": 27,
     "metadata": {},
     "output_type": "execute_result"
    }
   ],
   "source": [
    "'''13]Easy syntax, lots of libraries and available functions, Large community'''"
   ]
  },
  {
   "cell_type": "code",
   "execution_count": 28,
   "id": "3fb06a6f-8d03-4762-8f68-aa2a0b22e7ed",
   "metadata": {},
   "outputs": [
    {
     "data": {
      "text/plain": [
       "'14]Memory management in Python involves a private heap containing all Python objects and data structures.'"
      ]
     },
     "execution_count": 28,
     "metadata": {},
     "output_type": "execute_result"
    }
   ],
   "source": [
    "'''14]Memory management in Python involves a private heap containing all Python objects and data structures.'''"
   ]
  },
  {
   "cell_type": "code",
   "execution_count": 30,
   "id": "010a942f-7a1b-407b-b6db-1a437ab68751",
   "metadata": {},
   "outputs": [
    {
     "data": {
      "text/plain": [
       "'15] Install python or any ide in which you can compile code using chrome or any other browser\\nThe complete path of python.exe can be added by:\\n\\nRight-clicking This PC and going to Properties.\\n\\nClicking on the Advanced system settings in the menu on the left.\\n\\nClicking on the Environment Variables button o\\u200bn the bottom right.\\n\\nIn the System variables section, selecting the Path variable and clicking on Edit. The next screen will show all the directories that are currently a part of the PATH variable.\\n\\nClicking on New and entering Python’s install directory.'"
      ]
     },
     "execution_count": 30,
     "metadata": {},
     "output_type": "execute_result"
    }
   ],
   "source": [
    "'''15] Install python or any ide in which you can compile code using chrome or any other browser\n",
    "The complete path of python.exe can be added by:\n",
    "\n",
    "Right-clicking This PC and going to Properties.\n",
    "\n",
    "Clicking on the Advanced system settings in the menu on the left.\n",
    "\n",
    "Clicking on the Environment Variables button o​n the bottom right.\n",
    "\n",
    "In the System variables section, selecting the Path variable and clicking on Edit. The next screen will show all the directories that are currently a part of the PATH variable.\n",
    "\n",
    "Clicking on New and entering Python’s install directory.'''"
   ]
  },
  {
   "cell_type": "code",
   "execution_count": 31,
   "id": "1945bd10-93c1-4516-b570-67473f58576b",
   "metadata": {},
   "outputs": [
    {
     "data": {
      "text/plain": [
       "'16]Yes'"
      ]
     },
     "execution_count": 31,
     "metadata": {},
     "output_type": "execute_result"
    }
   ],
   "source": [
    "'''16]Yes'''"
   ]
  },
  {
   "cell_type": "code",
   "execution_count": null,
   "id": "0feb0f81-aa02-4de1-a6fc-bcb4c83e1368",
   "metadata": {},
   "outputs": [],
   "source": []
  }
 ],
 "metadata": {
  "kernelspec": {
   "display_name": "Python 3 (ipykernel)",
   "language": "python",
   "name": "python3"
  },
  "language_info": {
   "codemirror_mode": {
    "name": "ipython",
    "version": 3
   },
   "file_extension": ".py",
   "mimetype": "text/x-python",
   "name": "python",
   "nbconvert_exporter": "python",
   "pygments_lexer": "ipython3",
   "version": "3.10.8"
  }
 },
 "nbformat": 4,
 "nbformat_minor": 5
}
