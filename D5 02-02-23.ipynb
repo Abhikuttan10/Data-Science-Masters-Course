{
 "cells": [
  {
   "cell_type": "markdown",
   "id": "a6ceebe2-9dc1-4c88-9e73-a99df265d576",
   "metadata": {},
   "source": [
    "## Tuples"
   ]
  },
  {
   "cell_type": "code",
   "execution_count": 1,
   "id": "b3fb59d1-7a77-4860-9168-54b8b0a42ffb",
   "metadata": {},
   "outputs": [],
   "source": [
    "t=()"
   ]
  },
  {
   "cell_type": "code",
   "execution_count": 2,
   "id": "44966119-69d0-4399-abd5-9a7491653ba6",
   "metadata": {},
   "outputs": [
    {
     "data": {
      "text/plain": [
       "tuple"
      ]
     },
     "execution_count": 2,
     "metadata": {},
     "output_type": "execute_result"
    }
   ],
   "source": [
    "type(t)"
   ]
  },
  {
   "cell_type": "code",
   "execution_count": 4,
   "id": "6834559c-2131-4c39-a38d-4833a3542ca5",
   "metadata": {},
   "outputs": [],
   "source": [
    "t1=(1,2,6.54,154.5,\"Shu\")"
   ]
  },
  {
   "cell_type": "code",
   "execution_count": 5,
   "id": "0f0af1b5-23c8-41e4-ae29-39adf0c1dc54",
   "metadata": {},
   "outputs": [
    {
     "data": {
      "text/plain": [
       "tuple"
      ]
     },
     "execution_count": 5,
     "metadata": {},
     "output_type": "execute_result"
    }
   ],
   "source": [
    "type(t1)"
   ]
  },
  {
   "cell_type": "code",
   "execution_count": 6,
   "id": "195d3a44-5f85-4391-97e9-44fb6f868060",
   "metadata": {},
   "outputs": [],
   "source": [
    "lst=[1,12.14,\"Shg\"]"
   ]
  },
  {
   "cell_type": "code",
   "execution_count": 7,
   "id": "bf7bc452-97d5-40ed-9105-0c3e1ebc8393",
   "metadata": {},
   "outputs": [
    {
     "data": {
      "text/plain": [
       "list"
      ]
     },
     "execution_count": 7,
     "metadata": {},
     "output_type": "execute_result"
    }
   ],
   "source": [
    "type(lst)"
   ]
  },
  {
   "cell_type": "code",
   "execution_count": 8,
   "id": "41444a11-5821-47d5-a575-b26494addc01",
   "metadata": {},
   "outputs": [
    {
     "name": "stdout",
     "output_type": "stream",
     "text": [
      "[1, 12.14, 'Shg']\n"
     ]
    }
   ],
   "source": [
    "print(lst)"
   ]
  },
  {
   "cell_type": "code",
   "execution_count": 9,
   "id": "9f8ec764-e120-412d-9232-e41ee66ea535",
   "metadata": {},
   "outputs": [
    {
     "data": {
      "text/plain": [
       "1"
      ]
     },
     "execution_count": 9,
     "metadata": {},
     "output_type": "execute_result"
    }
   ],
   "source": [
    "t1[0]"
   ]
  },
  {
   "cell_type": "code",
   "execution_count": 11,
   "id": "2520fd36-faf1-4151-8e42-a6ec0e7eedbd",
   "metadata": {},
   "outputs": [
    {
     "data": {
      "text/plain": [
       "154.5"
      ]
     },
     "execution_count": 11,
     "metadata": {},
     "output_type": "execute_result"
    }
   ],
   "source": [
    "t1[3]"
   ]
  },
  {
   "cell_type": "code",
   "execution_count": 12,
   "id": "43fc8989-2f5b-4171-a0ee-d77eac2c814e",
   "metadata": {},
   "outputs": [
    {
     "data": {
      "text/plain": [
       "('Shu', 154.5, 6.54, 2, 1)"
      ]
     },
     "execution_count": 12,
     "metadata": {},
     "output_type": "execute_result"
    }
   ],
   "source": [
    "t1[::-1]"
   ]
  },
  {
   "cell_type": "code",
   "execution_count": 13,
   "id": "7721df1a-503f-4e19-8eae-f0218ef77b4d",
   "metadata": {},
   "outputs": [
    {
     "data": {
      "text/plain": [
       "('Shu', 6.54, 1)"
      ]
     },
     "execution_count": 13,
     "metadata": {},
     "output_type": "execute_result"
    }
   ],
   "source": [
    "t1[::-2]"
   ]
  },
  {
   "cell_type": "code",
   "execution_count": 14,
   "id": "9cb3163c-8b01-41ae-aecb-8fc2a478509c",
   "metadata": {},
   "outputs": [
    {
     "data": {
      "text/plain": [
       "(1, 2, 6.54, 154.5)"
      ]
     },
     "execution_count": 14,
     "metadata": {},
     "output_type": "execute_result"
    }
   ],
   "source": [
    "t1[0:4]"
   ]
  },
  {
   "cell_type": "code",
   "execution_count": 15,
   "id": "82411657-d01c-4458-9170-f842c1bd5586",
   "metadata": {},
   "outputs": [
    {
     "data": {
      "text/plain": [
       "1"
      ]
     },
     "execution_count": 15,
     "metadata": {},
     "output_type": "execute_result"
    }
   ],
   "source": [
    "t1.count(1)"
   ]
  },
  {
   "cell_type": "code",
   "execution_count": 17,
   "id": "4d2b2faa-c220-41ab-a07c-2ddb91c7d015",
   "metadata": {},
   "outputs": [
    {
     "data": {
      "text/plain": [
       "2"
      ]
     },
     "execution_count": 17,
     "metadata": {},
     "output_type": "execute_result"
    }
   ],
   "source": [
    "t1.index(6.54)"
   ]
  },
  {
   "cell_type": "code",
   "execution_count": 18,
   "id": "82e54e55-19db-4676-8f83-29b3f396950b",
   "metadata": {},
   "outputs": [
    {
     "ename": "TypeError",
     "evalue": "'tuple' object does not support item assignment",
     "output_type": "error",
     "traceback": [
      "\u001b[0;31m---------------------------------------------------------------------------\u001b[0m",
      "\u001b[0;31mTypeError\u001b[0m                                 Traceback (most recent call last)",
      "Cell \u001b[0;32mIn[18], line 1\u001b[0m\n\u001b[0;32m----> 1\u001b[0m \u001b[43mt\u001b[49m\u001b[43m[\u001b[49m\u001b[38;5;241;43m2\u001b[39;49m\u001b[43m]\u001b[49m\u001b[38;5;241m=\u001b[39m\u001b[38;5;124m\"\u001b[39m\u001b[38;5;124msgajg\u001b[39m\u001b[38;5;124m\"\u001b[39m\n",
      "\u001b[0;31mTypeError\u001b[0m: 'tuple' object does not support item assignment"
     ]
    }
   ],
   "source": [
    "t[2]=\"sgajg\""
   ]
  },
  {
   "cell_type": "code",
   "execution_count": 19,
   "id": "699405fb-59de-4636-84a8-2e1f87ef8f4d",
   "metadata": {},
   "outputs": [],
   "source": [
    "lst[0]=12"
   ]
  },
  {
   "cell_type": "code",
   "execution_count": 21,
   "id": "c19c12fd-2b81-4b19-b86e-8e5b94e5116b",
   "metadata": {},
   "outputs": [
    {
     "data": {
      "text/plain": [
       "[12, 12.14, 'Shg']"
      ]
     },
     "execution_count": 21,
     "metadata": {},
     "output_type": "execute_result"
    }
   ],
   "source": [
    "lst"
   ]
  },
  {
   "cell_type": "code",
   "execution_count": 22,
   "id": "9fadf590-f9ba-48bc-8b68-b8e5e78c6156",
   "metadata": {},
   "outputs": [
    {
     "name": "stdout",
     "output_type": "stream",
     "text": [
      "1\n",
      "2\n",
      "6.54\n",
      "154.5\n",
      "Shu\n"
     ]
    }
   ],
   "source": [
    "for i in t1:\n",
    "    print(i)"
   ]
  },
  {
   "cell_type": "code",
   "execution_count": 24,
   "id": "1c590ddc-1ba4-4b94-a0e2-5c8b78ae7231",
   "metadata": {},
   "outputs": [],
   "source": [
    "t2=(1,5,6,1,4,2)"
   ]
  },
  {
   "cell_type": "code",
   "execution_count": 25,
   "id": "28386998-219f-49a6-ba4c-4b761a69e8df",
   "metadata": {},
   "outputs": [
    {
     "data": {
      "text/plain": [
       "6"
      ]
     },
     "execution_count": 25,
     "metadata": {},
     "output_type": "execute_result"
    }
   ],
   "source": [
    "max(t2)"
   ]
  },
  {
   "cell_type": "code",
   "execution_count": 26,
   "id": "d10f7b35-17de-4429-9ddc-73f7ebacd902",
   "metadata": {},
   "outputs": [],
   "source": [
    "t1=(1,2,3,4,68)\n",
    "t2=(0,1,6,4,8,13,4,46,5,3)"
   ]
  },
  {
   "cell_type": "code",
   "execution_count": 27,
   "id": "36a2487d-3acc-43c4-b216-d1b49114d0c0",
   "metadata": {},
   "outputs": [],
   "source": [
    "t3=(t1,t2)"
   ]
  },
  {
   "cell_type": "code",
   "execution_count": 28,
   "id": "ca540bb1-ac56-4d7d-88e0-9b93644acff4",
   "metadata": {},
   "outputs": [
    {
     "data": {
      "text/plain": [
       "((1, 2, 3, 4, 68), (0, 1, 6, 4, 8, 13, 4, 46, 5, 3))"
      ]
     },
     "execution_count": 28,
     "metadata": {},
     "output_type": "execute_result"
    }
   ],
   "source": [
    "t3"
   ]
  },
  {
   "cell_type": "code",
   "execution_count": 29,
   "id": "8a176df7-9dc0-4cf8-8a58-4c009abdac49",
   "metadata": {},
   "outputs": [],
   "source": [
    "lst1=[1,5,8,4,3]"
   ]
  },
  {
   "cell_type": "code",
   "execution_count": 30,
   "id": "a77a4c95-3bfa-43e9-9d00-33861b3f78e4",
   "metadata": {},
   "outputs": [],
   "source": [
    "lst2=[t3,lst1]"
   ]
  },
  {
   "cell_type": "code",
   "execution_count": 31,
   "id": "56070395-7384-47ea-9bd2-bbfb95a03f84",
   "metadata": {},
   "outputs": [
    {
     "data": {
      "text/plain": [
       "[((1, 2, 3, 4, 68), (0, 1, 6, 4, 8, 13, 4, 46, 5, 3)), [1, 5, 8, 4, 3]]"
      ]
     },
     "execution_count": 31,
     "metadata": {},
     "output_type": "execute_result"
    }
   ],
   "source": [
    "lst2"
   ]
  },
  {
   "cell_type": "code",
   "execution_count": 32,
   "id": "bb7ff4e9-87ee-42b9-833e-3441f59fbb76",
   "metadata": {},
   "outputs": [],
   "source": [
    "t4=(lst1,t3)"
   ]
  },
  {
   "cell_type": "code",
   "execution_count": 33,
   "id": "865efff1-e211-47e4-80ab-905a1056bd89",
   "metadata": {},
   "outputs": [
    {
     "data": {
      "text/plain": [
       "([1, 5, 8, 4, 3], ((1, 2, 3, 4, 68), (0, 1, 6, 4, 8, 13, 4, 46, 5, 3)))"
      ]
     },
     "execution_count": 33,
     "metadata": {},
     "output_type": "execute_result"
    }
   ],
   "source": [
    "t4"
   ]
  },
  {
   "cell_type": "code",
   "execution_count": 34,
   "id": "05175a70-53c3-4fe6-9e30-58282e5f2eb0",
   "metadata": {},
   "outputs": [],
   "source": [
    "del t4"
   ]
  },
  {
   "cell_type": "code",
   "execution_count": 35,
   "id": "c63a9b11-d335-42de-97a4-6a99f0076c99",
   "metadata": {},
   "outputs": [
    {
     "ename": "NameError",
     "evalue": "name 't4' is not defined",
     "output_type": "error",
     "traceback": [
      "\u001b[0;31m---------------------------------------------------------------------------\u001b[0m",
      "\u001b[0;31mNameError\u001b[0m                                 Traceback (most recent call last)",
      "Cell \u001b[0;32mIn[35], line 1\u001b[0m\n\u001b[0;32m----> 1\u001b[0m \u001b[43mt4\u001b[49m\n",
      "\u001b[0;31mNameError\u001b[0m: name 't4' is not defined"
     ]
    }
   ],
   "source": [
    "t4"
   ]
  },
  {
   "cell_type": "code",
   "execution_count": 36,
   "id": "6722b104-5d68-4ad6-9dbb-1ee8d2093652",
   "metadata": {},
   "outputs": [
    {
     "data": {
      "text/plain": [
       "10"
      ]
     },
     "execution_count": 36,
     "metadata": {},
     "output_type": "execute_result"
    }
   ],
   "source": [
    "len(t2)"
   ]
  },
  {
   "cell_type": "code",
   "execution_count": 37,
   "id": "47e80b4a-a87a-4a7f-b169-f01d11141790",
   "metadata": {},
   "outputs": [
    {
     "data": {
      "text/plain": [
       "True"
      ]
     },
     "execution_count": 37,
     "metadata": {},
     "output_type": "execute_result"
    }
   ],
   "source": [
    "68 in t1"
   ]
  },
  {
   "cell_type": "code",
   "execution_count": 38,
   "id": "e75eaa95-f8e2-47c7-b9fa-6a726359d377",
   "metadata": {},
   "outputs": [
    {
     "data": {
      "text/plain": [
       "False"
      ]
     },
     "execution_count": 38,
     "metadata": {},
     "output_type": "execute_result"
    }
   ],
   "source": [
    "68 in t2"
   ]
  },
  {
   "cell_type": "code",
   "execution_count": 39,
   "id": "609bfa4e-a783-4817-861a-a04695c89496",
   "metadata": {},
   "outputs": [
    {
     "data": {
      "text/plain": [
       "dict"
      ]
     },
     "execution_count": 39,
     "metadata": {},
     "output_type": "execute_result"
    }
   ],
   "source": [
    "s={}\n",
    "type(s)"
   ]
  },
  {
   "cell_type": "code",
   "execution_count": 40,
   "id": "d318c8c8-32ad-4b00-a795-e5d90fcfb8d9",
   "metadata": {},
   "outputs": [
    {
     "data": {
      "text/plain": [
       "set"
      ]
     },
     "execution_count": 40,
     "metadata": {},
     "output_type": "execute_result"
    }
   ],
   "source": [
    "s1={1,2,3,4,8}\n",
    "type(s1)"
   ]
  },
  {
   "cell_type": "code",
   "execution_count": 41,
   "id": "5aaec53a-c92a-4352-9190-f0b4d24c3b7c",
   "metadata": {},
   "outputs": [],
   "source": [
    "s2={1,\"sha\",2}"
   ]
  },
  {
   "cell_type": "code",
   "execution_count": 42,
   "id": "37ea7fc3-57dc-4025-89ea-fd2085bcd506",
   "metadata": {},
   "outputs": [
    {
     "data": {
      "text/plain": [
       "set"
      ]
     },
     "execution_count": 42,
     "metadata": {},
     "output_type": "execute_result"
    }
   ],
   "source": [
    "type(s2)"
   ]
  },
  {
   "cell_type": "code",
   "execution_count": 44,
   "id": "76cd00c0-4fe4-4c66-baca-011829feac2b",
   "metadata": {},
   "outputs": [],
   "source": [
    "s3={1,2,2,2,6,4,4,6,6,9,44,5,3,1}"
   ]
  },
  {
   "cell_type": "code",
   "execution_count": 45,
   "id": "7db6df5b-c2ed-47e8-ae4b-83d4311d992f",
   "metadata": {},
   "outputs": [
    {
     "data": {
      "text/plain": [
       "{1, 2, 3, 4, 5, 6, 9, 44}"
      ]
     },
     "execution_count": 45,
     "metadata": {},
     "output_type": "execute_result"
    }
   ],
   "source": [
    "s3"
   ]
  },
  {
   "cell_type": "code",
   "execution_count": 46,
   "id": "364ada4e-8dd8-47eb-9488-38e392e67138",
   "metadata": {},
   "outputs": [
    {
     "data": {
      "text/plain": [
       "[1, 2, 3, 4, 5, 6, 9, 44]"
      ]
     },
     "execution_count": 46,
     "metadata": {},
     "output_type": "execute_result"
    }
   ],
   "source": [
    "list(s3)"
   ]
  },
  {
   "cell_type": "code",
   "execution_count": 47,
   "id": "8444ea63-5e70-48f7-adfc-65bdb93df279",
   "metadata": {},
   "outputs": [
    {
     "data": {
      "text/plain": [
       "(1, 2, 3, 4, 5, 6, 9, 44)"
      ]
     },
     "execution_count": 47,
     "metadata": {},
     "output_type": "execute_result"
    }
   ],
   "source": [
    "tuple(s3)"
   ]
  },
  {
   "cell_type": "code",
   "execution_count": 48,
   "id": "392de2ae-9734-42bf-8123-b3955bd7cc94",
   "metadata": {},
   "outputs": [
    {
     "ename": "TypeError",
     "evalue": "unhashable type: 'list'",
     "output_type": "error",
     "traceback": [
      "\u001b[0;31m---------------------------------------------------------------------------\u001b[0m",
      "\u001b[0;31mTypeError\u001b[0m                                 Traceback (most recent call last)",
      "Cell \u001b[0;32mIn[48], line 1\u001b[0m\n\u001b[0;32m----> 1\u001b[0m s4\u001b[38;5;241m=\u001b[39m{\u001b[38;5;241m1\u001b[39m,\u001b[38;5;241m2\u001b[39m,\u001b[38;5;241m6\u001b[39m,\u001b[38;5;241m5\u001b[39m,\u001b[38;5;241m8\u001b[39m,[\u001b[38;5;241m2\u001b[39m,\u001b[38;5;241m3\u001b[39m,\u001b[38;5;241m6\u001b[39m,\u001b[38;5;241m4\u001b[39m,\u001b[38;5;241m8\u001b[39m]}\n",
      "\u001b[0;31mTypeError\u001b[0m: unhashable type: 'list'"
     ]
    }
   ],
   "source": [
    "s4={1,2,6,5,8,[2,3,6,4,8]}"
   ]
  },
  {
   "cell_type": "code",
   "execution_count": 49,
   "id": "853a7be5-2fe8-4686-ab02-73e6c04cad20",
   "metadata": {},
   "outputs": [],
   "source": [
    "s5={1,2,3,4,8,(5,6,9,7,4)}"
   ]
  },
  {
   "cell_type": "code",
   "execution_count": 50,
   "id": "9eb8150a-236e-44be-807a-904a7e3264b4",
   "metadata": {},
   "outputs": [
    {
     "data": {
      "text/plain": [
       "{(5, 6, 9, 7, 4), 1, 2, 3, 4, 8}"
      ]
     },
     "execution_count": 50,
     "metadata": {},
     "output_type": "execute_result"
    }
   ],
   "source": [
    "s5"
   ]
  },
  {
   "cell_type": "code",
   "execution_count": 51,
   "id": "72ee7f7d-b5c9-458d-bf76-426c5ec8afef",
   "metadata": {},
   "outputs": [],
   "source": [
    "s6={\"sa\",\"Sa\"}"
   ]
  },
  {
   "cell_type": "code",
   "execution_count": 52,
   "id": "737ddfe9-a8ba-4c0e-8684-be2578ad56dd",
   "metadata": {},
   "outputs": [
    {
     "data": {
      "text/plain": [
       "{'Sa', 'sa'}"
      ]
     },
     "execution_count": 52,
     "metadata": {},
     "output_type": "execute_result"
    }
   ],
   "source": [
    "s6"
   ]
  },
  {
   "cell_type": "code",
   "execution_count": 53,
   "id": "d15f81af-5e8f-4952-9429-312cf4ffe521",
   "metadata": {},
   "outputs": [],
   "source": [
    "s7={\"sa\",\"sa\"}"
   ]
  },
  {
   "cell_type": "code",
   "execution_count": 54,
   "id": "c287bc69-14a4-4822-ae32-9cf1a8dc9876",
   "metadata": {},
   "outputs": [
    {
     "data": {
      "text/plain": [
       "{'sa'}"
      ]
     },
     "execution_count": 54,
     "metadata": {},
     "output_type": "execute_result"
    }
   ],
   "source": [
    "s7"
   ]
  },
  {
   "cell_type": "code",
   "execution_count": 55,
   "id": "0d14046d-ca02-4b15-ae70-0a82b68dacff",
   "metadata": {},
   "outputs": [
    {
     "ename": "TypeError",
     "evalue": "'set' object is not subscriptable",
     "output_type": "error",
     "traceback": [
      "\u001b[0;31m---------------------------------------------------------------------------\u001b[0m",
      "\u001b[0;31mTypeError\u001b[0m                                 Traceback (most recent call last)",
      "Cell \u001b[0;32mIn[55], line 1\u001b[0m\n\u001b[0;32m----> 1\u001b[0m \u001b[43ms7\u001b[49m\u001b[43m[\u001b[49m\u001b[38;5;241;43m2\u001b[39;49m\u001b[43m]\u001b[49m\n",
      "\u001b[0;31mTypeError\u001b[0m: 'set' object is not subscriptable"
     ]
    }
   ],
   "source": [
    "s7[2]"
   ]
  },
  {
   "cell_type": "code",
   "execution_count": 56,
   "id": "6bd725ad-b865-4003-b909-eeb5a69ec4e7",
   "metadata": {},
   "outputs": [
    {
     "ename": "TypeError",
     "evalue": "'set' object is not subscriptable",
     "output_type": "error",
     "traceback": [
      "\u001b[0;31m---------------------------------------------------------------------------\u001b[0m",
      "\u001b[0;31mTypeError\u001b[0m                                 Traceback (most recent call last)",
      "Cell \u001b[0;32mIn[56], line 1\u001b[0m\n\u001b[0;32m----> 1\u001b[0m \u001b[43ms7\u001b[49m\u001b[43m[\u001b[49m\u001b[43m:\u001b[49m\u001b[43m:\u001b[49m\u001b[38;5;241;43m-\u001b[39;49m\u001b[38;5;241;43m1\u001b[39;49m\u001b[43m]\u001b[49m\n",
      "\u001b[0;31mTypeError\u001b[0m: 'set' object is not subscriptable"
     ]
    }
   ],
   "source": [
    "s7[::-1]"
   ]
  },
  {
   "cell_type": "code",
   "execution_count": 57,
   "id": "d3416768-03c5-4a56-9045-4d3417339ded",
   "metadata": {},
   "outputs": [],
   "source": [
    "s7.add(54)"
   ]
  },
  {
   "cell_type": "code",
   "execution_count": 58,
   "id": "3d13c64a-b59c-4553-b6c8-fa186cc7a400",
   "metadata": {},
   "outputs": [
    {
     "data": {
      "text/plain": [
       "{54, 'sa'}"
      ]
     },
     "execution_count": 58,
     "metadata": {},
     "output_type": "execute_result"
    }
   ],
   "source": [
    "s7"
   ]
  },
  {
   "cell_type": "code",
   "execution_count": 59,
   "id": "b67d4599-6d3d-44ad-aab4-dc5ea155f6f1",
   "metadata": {},
   "outputs": [
    {
     "data": {
      "text/plain": [
       "{54, 'sa'}"
      ]
     },
     "execution_count": 59,
     "metadata": {},
     "output_type": "execute_result"
    }
   ],
   "source": [
    "s7.copy()"
   ]
  },
  {
   "cell_type": "code",
   "execution_count": 60,
   "id": "afe239c6-6fb2-404e-9b11-9b04b39cfbdd",
   "metadata": {},
   "outputs": [
    {
     "data": {
      "text/plain": [
       "'sa'"
      ]
     },
     "execution_count": 60,
     "metadata": {},
     "output_type": "execute_result"
    }
   ],
   "source": [
    "s7.pop()"
   ]
  },
  {
   "cell_type": "code",
   "execution_count": 61,
   "id": "fc59d999-fbe4-4a4a-b21c-b420fd30db2c",
   "metadata": {},
   "outputs": [
    {
     "data": {
      "text/plain": [
       "{54}"
      ]
     },
     "execution_count": 61,
     "metadata": {},
     "output_type": "execute_result"
    }
   ],
   "source": [
    "s7"
   ]
  },
  {
   "cell_type": "code",
   "execution_count": 62,
   "id": "02793f3c-9b3f-4621-a2f4-d158b65694ec",
   "metadata": {},
   "outputs": [],
   "source": [
    "s7.clear()"
   ]
  },
  {
   "cell_type": "code",
   "execution_count": 63,
   "id": "c73a8097-6612-4fb0-ace1-9b43559cf7fe",
   "metadata": {},
   "outputs": [
    {
     "data": {
      "text/plain": [
       "set()"
      ]
     },
     "execution_count": 63,
     "metadata": {},
     "output_type": "execute_result"
    }
   ],
   "source": [
    "s7"
   ]
  },
  {
   "cell_type": "code",
   "execution_count": 65,
   "id": "77addd7c-298e-4c23-8980-77086d47138f",
   "metadata": {},
   "outputs": [],
   "source": [
    "s8={12,5,486}\n",
    "s8.update(s2)"
   ]
  },
  {
   "cell_type": "code",
   "execution_count": 66,
   "id": "6cf564db-54d1-4fb3-914d-fe60962b42a9",
   "metadata": {},
   "outputs": [
    {
     "data": {
      "text/plain": [
       "{1, 12, 2, 486, 5, 'sha'}"
      ]
     },
     "execution_count": 66,
     "metadata": {},
     "output_type": "execute_result"
    }
   ],
   "source": [
    "s8"
   ]
  },
  {
   "cell_type": "code",
   "execution_count": 68,
   "id": "a608bf5b-050f-490a-8631-732a767ba826",
   "metadata": {},
   "outputs": [],
   "source": [
    "s8.discard(1)"
   ]
  },
  {
   "cell_type": "code",
   "execution_count": 69,
   "id": "9f00b3b7-d7b7-4ae5-b7de-d4897a4c9654",
   "metadata": {},
   "outputs": [
    {
     "data": {
      "text/plain": [
       "{12, 2, 486, 5, 'sha'}"
      ]
     },
     "execution_count": 69,
     "metadata": {},
     "output_type": "execute_result"
    }
   ],
   "source": [
    "s8"
   ]
  },
  {
   "cell_type": "code",
   "execution_count": 70,
   "id": "68474936-3947-43d1-b91e-12e3e5152f23",
   "metadata": {},
   "outputs": [],
   "source": [
    "dict1={\"Name\":\"Abhi\",\"Email_id\":\"ABHI@GMAIL.COM\",\"Age\":458}"
   ]
  },
  {
   "cell_type": "code",
   "execution_count": 71,
   "id": "37ad2c10-8245-4fa5-aed7-ab2fc25bf072",
   "metadata": {},
   "outputs": [
    {
     "data": {
      "text/plain": [
       "{'Name': 'Abhi', 'Email_id': 'ABHI@GMAIL.COM', 'Age': 458}"
      ]
     },
     "execution_count": 71,
     "metadata": {},
     "output_type": "execute_result"
    }
   ],
   "source": [
    "dict1"
   ]
  },
  {
   "cell_type": "code",
   "execution_count": 72,
   "id": "89b6a60f-e90d-4935-a30b-0911f89b70c9",
   "metadata": {},
   "outputs": [],
   "source": [
    "d1={\"name\":\"asd\",\"name\":\"sas\"}"
   ]
  },
  {
   "cell_type": "code",
   "execution_count": 73,
   "id": "fa9fe4a8-b916-405d-a2b8-0e3b8302e36c",
   "metadata": {},
   "outputs": [
    {
     "data": {
      "text/plain": [
       "{'name': 'sas'}"
      ]
     },
     "execution_count": 73,
     "metadata": {},
     "output_type": "execute_result"
    }
   ],
   "source": [
    "d1"
   ]
  },
  {
   "cell_type": "code",
   "execution_count": 74,
   "id": "86013325-4190-433e-b3da-8bdcdce35e8c",
   "metadata": {},
   "outputs": [
    {
     "ename": "TypeError",
     "evalue": "unhashable type: 'list'",
     "output_type": "error",
     "traceback": [
      "\u001b[0;31m---------------------------------------------------------------------------\u001b[0m",
      "\u001b[0;31mTypeError\u001b[0m                                 Traceback (most recent call last)",
      "Cell \u001b[0;32mIn[74], line 1\u001b[0m\n\u001b[0;32m----> 1\u001b[0m d2\u001b[38;5;241m=\u001b[39m{[\u001b[38;5;241m12\u001b[39m,\u001b[38;5;241m15\u001b[39m,\u001b[38;5;241m5\u001b[39m]:\u001b[38;5;124m\"\u001b[39m\u001b[38;5;124masx\u001b[39m\u001b[38;5;124m\"\u001b[39m}\n",
      "\u001b[0;31mTypeError\u001b[0m: unhashable type: 'list'"
     ]
    }
   ],
   "source": [
    "d2={[12,15,5]:\"asx\"}"
   ]
  },
  {
   "cell_type": "code",
   "execution_count": 75,
   "id": "51240331-abb1-4ed7-9b08-ccf6631fd3fd",
   "metadata": {},
   "outputs": [],
   "source": [
    "d3={(1,2,6,40):\"asd\"}"
   ]
  },
  {
   "cell_type": "code",
   "execution_count": 76,
   "id": "b1792ccf-0dc3-4384-b091-8aec50e1b25d",
   "metadata": {},
   "outputs": [
    {
     "data": {
      "text/plain": [
       "{(1, 2, 6, 40): 'asd'}"
      ]
     },
     "execution_count": 76,
     "metadata": {},
     "output_type": "execute_result"
    }
   ],
   "source": [
    "d3"
   ]
  },
  {
   "cell_type": "code",
   "execution_count": 77,
   "id": "0b8b4849-861f-40e0-88d5-1ca2956f7bd6",
   "metadata": {},
   "outputs": [
    {
     "ename": "SyntaxError",
     "evalue": "invalid syntax (4271416592.py, line 1)",
     "output_type": "error",
     "traceback": [
      "\u001b[0;36m  Cell \u001b[0;32mIn[77], line 1\u001b[0;36m\u001b[0m\n\u001b[0;31m    d4{{12,15,46}:\"sae\"}\u001b[0m\n\u001b[0m      ^\u001b[0m\n\u001b[0;31mSyntaxError\u001b[0m\u001b[0;31m:\u001b[0m invalid syntax\n"
     ]
    }
   ],
   "source": [
    "d4{{12,15,46}:\"sae\"}"
   ]
  },
  {
   "cell_type": "code",
   "execution_count": 78,
   "id": "ac3556d3-cbb6-4387-a12d-e4c453798c4b",
   "metadata": {},
   "outputs": [
    {
     "ename": "TypeError",
     "evalue": "unhashable type: 'dict'",
     "output_type": "error",
     "traceback": [
      "\u001b[0;31m---------------------------------------------------------------------------\u001b[0m",
      "\u001b[0;31mTypeError\u001b[0m                                 Traceback (most recent call last)",
      "Cell \u001b[0;32mIn[78], line 1\u001b[0m\n\u001b[0;32m----> 1\u001b[0m d5\u001b[38;5;241m=\u001b[39m{{\u001b[38;5;124m\"\u001b[39m\u001b[38;5;124masad\u001b[39m\u001b[38;5;124m\"\u001b[39m:\u001b[38;5;241m4564\u001b[39m}:\u001b[38;5;241m454\u001b[39m}\n",
      "\u001b[0;31mTypeError\u001b[0m: unhashable type: 'dict'"
     ]
    }
   ],
   "source": [
    "d5={{\"asad\":4564}:454}"
   ]
  },
  {
   "cell_type": "code",
   "execution_count": 80,
   "id": "ec09537d-bbe0-4301-83b3-6b0446a8cce4",
   "metadata": {},
   "outputs": [],
   "source": [
    "d6={\"Course_name\":[\"data\",\"python\"]}"
   ]
  },
  {
   "cell_type": "code",
   "execution_count": 81,
   "id": "19c28f60-76d7-45a2-abbf-c6153463a650",
   "metadata": {},
   "outputs": [
    {
     "data": {
      "text/plain": [
       "{'Course_name': ['data', 'python']}"
      ]
     },
     "execution_count": 81,
     "metadata": {},
     "output_type": "execute_result"
    }
   ],
   "source": [
    "d6"
   ]
  },
  {
   "cell_type": "code",
   "execution_count": 82,
   "id": "4ed645c3-315e-4e71-a78e-4c1b8ff399e4",
   "metadata": {},
   "outputs": [],
   "source": [
    "d7={\"Couse_name\":(1,2,3,4,)}"
   ]
  },
  {
   "cell_type": "code",
   "execution_count": 83,
   "id": "d9eb53ba-7e0c-4249-a815-eadc36b05894",
   "metadata": {},
   "outputs": [
    {
     "data": {
      "text/plain": [
       "{'Couse_name': (1, 2, 3, 4)}"
      ]
     },
     "execution_count": 83,
     "metadata": {},
     "output_type": "execute_result"
    }
   ],
   "source": [
    "d7"
   ]
  },
  {
   "cell_type": "code",
   "execution_count": 84,
   "id": "2e53b0ca-83c5-4cd9-8fe7-59b52dc97a7d",
   "metadata": {},
   "outputs": [],
   "source": [
    "d7={\"Couse_name\":{1,2,3,4,}}"
   ]
  },
  {
   "cell_type": "code",
   "execution_count": 85,
   "id": "2992103c-1911-4968-9845-cb52c14c7ea6",
   "metadata": {},
   "outputs": [
    {
     "data": {
      "text/plain": [
       "{'Couse_name': {1, 2, 3, 4}}"
      ]
     },
     "execution_count": 85,
     "metadata": {},
     "output_type": "execute_result"
    }
   ],
   "source": [
    "d7"
   ]
  },
  {
   "cell_type": "code",
   "execution_count": 86,
   "id": "60630db8-d61b-4c37-b3f5-896daa5d33f2",
   "metadata": {},
   "outputs": [],
   "source": [
    "d7={\"Couse_name\":{1:\"sda\",2:\"ad\",3:\"dadad\",4:\"dew\",}}"
   ]
  },
  {
   "cell_type": "code",
   "execution_count": 87,
   "id": "fca9e54a-7f3e-48cf-9c32-cc8c58c2808c",
   "metadata": {},
   "outputs": [
    {
     "data": {
      "text/plain": [
       "{'Couse_name': {1: 'sda', 2: 'ad', 3: 'dadad', 4: 'dew'}}"
      ]
     },
     "execution_count": 87,
     "metadata": {},
     "output_type": "execute_result"
    }
   ],
   "source": [
    "d7"
   ]
  },
  {
   "cell_type": "code",
   "execution_count": 88,
   "id": "f06083db-96ed-4043-8826-d00f7d13ed37",
   "metadata": {},
   "outputs": [],
   "source": [
    "d7[\"hello mooooo\"] = 568"
   ]
  },
  {
   "cell_type": "code",
   "execution_count": 89,
   "id": "5cd53a82-e220-4d42-bcc1-23899d8ba3a0",
   "metadata": {},
   "outputs": [
    {
     "data": {
      "text/plain": [
       "{'Couse_name': {1: 'sda', 2: 'ad', 3: 'dadad', 4: 'dew'}, 'hello mooooo': 568}"
      ]
     },
     "execution_count": 89,
     "metadata": {},
     "output_type": "execute_result"
    }
   ],
   "source": [
    "d7"
   ]
  },
  {
   "cell_type": "code",
   "execution_count": 90,
   "id": "faee8c5e-4852-4fcb-b6c7-2a8916a73b22",
   "metadata": {},
   "outputs": [],
   "source": [
    "d7[\"Couse_name\"] = 4531"
   ]
  },
  {
   "cell_type": "code",
   "execution_count": 91,
   "id": "591ea716-7988-4647-9b6d-abedfa57a30c",
   "metadata": {},
   "outputs": [
    {
     "data": {
      "text/plain": [
       "{'Couse_name': 4531, 'hello mooooo': 568}"
      ]
     },
     "execution_count": 91,
     "metadata": {},
     "output_type": "execute_result"
    }
   ],
   "source": [
    "d7"
   ]
  },
  {
   "cell_type": "code",
   "execution_count": 93,
   "id": "16f080be-f06b-4e35-816c-4c297b0b05bf",
   "metadata": {},
   "outputs": [
    {
     "data": {
      "text/plain": [
       "4531"
      ]
     },
     "execution_count": 93,
     "metadata": {},
     "output_type": "execute_result"
    }
   ],
   "source": [
    "d7[\"Couse_name\"]"
   ]
  },
  {
   "cell_type": "code",
   "execution_count": 94,
   "id": "f43d8083-19a1-43ca-b714-9c069ff25f17",
   "metadata": {},
   "outputs": [],
   "source": [
    "d7={\"Couse_name\":{1:\"sda\",2:\"ad\",3:\"dadad\",4:\"dew\",}}"
   ]
  },
  {
   "cell_type": "code",
   "execution_count": 95,
   "id": "67d4f117-ca3e-44e2-857d-4a6c09ab3599",
   "metadata": {},
   "outputs": [
    {
     "data": {
      "text/plain": [
       "'dew'"
      ]
     },
     "execution_count": 95,
     "metadata": {},
     "output_type": "execute_result"
    }
   ],
   "source": [
    "d7[\"Couse_name\"][4]"
   ]
  },
  {
   "cell_type": "code",
   "execution_count": 96,
   "id": "c2997f7c-6096-4d24-8c61-002caa1b4f96",
   "metadata": {},
   "outputs": [],
   "source": [
    "del d7[\"Couse_name\"]"
   ]
  },
  {
   "cell_type": "code",
   "execution_count": 97,
   "id": "e8abeee4-1bf5-484c-9c83-e1c7b976f404",
   "metadata": {},
   "outputs": [
    {
     "data": {
      "text/plain": [
       "{}"
      ]
     },
     "execution_count": 97,
     "metadata": {},
     "output_type": "execute_result"
    }
   ],
   "source": [
    "d7"
   ]
  },
  {
   "cell_type": "code",
   "execution_count": 98,
   "id": "5ff97d65-200d-4d3c-9a7d-7c0597acc77f",
   "metadata": {},
   "outputs": [
    {
     "data": {
      "text/plain": [
       "{'Course_name': ['data', 'python']}"
      ]
     },
     "execution_count": 98,
     "metadata": {},
     "output_type": "execute_result"
    }
   ],
   "source": [
    "d6"
   ]
  },
  {
   "cell_type": "code",
   "execution_count": 99,
   "id": "3bef3b50-13b7-4e09-9e84-991b53447daf",
   "metadata": {},
   "outputs": [],
   "source": [
    "d6.clear()"
   ]
  },
  {
   "cell_type": "code",
   "execution_count": 100,
   "id": "f544408e-680a-4dae-8ef6-a7f73c50b7a2",
   "metadata": {},
   "outputs": [
    {
     "data": {
      "text/plain": [
       "{}"
      ]
     },
     "execution_count": 100,
     "metadata": {},
     "output_type": "execute_result"
    }
   ],
   "source": [
    "d6"
   ]
  },
  {
   "cell_type": "code",
   "execution_count": 101,
   "id": "29b068e6-e81a-44cc-a43f-84c0b4ec9845",
   "metadata": {},
   "outputs": [
    {
     "ename": "NameError",
     "evalue": "name 'd5' is not defined",
     "output_type": "error",
     "traceback": [
      "\u001b[0;31m---------------------------------------------------------------------------\u001b[0m",
      "\u001b[0;31mNameError\u001b[0m                                 Traceback (most recent call last)",
      "Cell \u001b[0;32mIn[101], line 1\u001b[0m\n\u001b[0;32m----> 1\u001b[0m \u001b[43md5\u001b[49m\n",
      "\u001b[0;31mNameError\u001b[0m: name 'd5' is not defined"
     ]
    }
   ],
   "source": [
    "d5"
   ]
  },
  {
   "cell_type": "code",
   "execution_count": 102,
   "id": "152fb7b7-68bb-4901-8b2e-a3184e442173",
   "metadata": {},
   "outputs": [
    {
     "ename": "NameError",
     "evalue": "name 'd4' is not defined",
     "output_type": "error",
     "traceback": [
      "\u001b[0;31m---------------------------------------------------------------------------\u001b[0m",
      "\u001b[0;31mNameError\u001b[0m                                 Traceback (most recent call last)",
      "Cell \u001b[0;32mIn[102], line 1\u001b[0m\n\u001b[0;32m----> 1\u001b[0m \u001b[43md4\u001b[49m\n",
      "\u001b[0;31mNameError\u001b[0m: name 'd4' is not defined"
     ]
    }
   ],
   "source": [
    "d4"
   ]
  },
  {
   "cell_type": "code",
   "execution_count": 103,
   "id": "2217715f-21bf-4b47-8a5f-e1988f7d1a13",
   "metadata": {},
   "outputs": [
    {
     "data": {
      "text/plain": [
       "dict"
      ]
     },
     "execution_count": 103,
     "metadata": {},
     "output_type": "execute_result"
    }
   ],
   "source": [
    "dict"
   ]
  },
  {
   "cell_type": "code",
   "execution_count": 104,
   "id": "a72cd224-8f87-4cb6-98cd-40ac3abd2c9c",
   "metadata": {},
   "outputs": [
    {
     "data": {
      "text/plain": [
       "{'Name': 'Abhi', 'Email_id': 'ABHI@GMAIL.COM', 'Age': 458}"
      ]
     },
     "execution_count": 104,
     "metadata": {},
     "output_type": "execute_result"
    }
   ],
   "source": [
    "dict1"
   ]
  },
  {
   "cell_type": "code",
   "execution_count": 105,
   "id": "41d7879f-a6ae-4842-8457-38a0fb9202f8",
   "metadata": {},
   "outputs": [
    {
     "data": {
      "text/plain": [
       "3"
      ]
     },
     "execution_count": 105,
     "metadata": {},
     "output_type": "execute_result"
    }
   ],
   "source": [
    "len(dict1)"
   ]
  },
  {
   "cell_type": "code",
   "execution_count": 106,
   "id": "bab09e20-ff5c-4515-8a99-5242a37322be",
   "metadata": {},
   "outputs": [
    {
     "data": {
      "text/plain": [
       "dict_keys(['Name', 'Email_id', 'Age'])"
      ]
     },
     "execution_count": 106,
     "metadata": {},
     "output_type": "execute_result"
    }
   ],
   "source": [
    "dict1.keys()"
   ]
  },
  {
   "cell_type": "code",
   "execution_count": 108,
   "id": "41527ca9-bfda-4fb4-a8b8-0f8d14bca069",
   "metadata": {},
   "outputs": [
    {
     "data": {
      "text/plain": [
       "dict_values(['Abhi', 'ABHI@GMAIL.COM', 458])"
      ]
     },
     "execution_count": 108,
     "metadata": {},
     "output_type": "execute_result"
    }
   ],
   "source": [
    "dict1.values()"
   ]
  },
  {
   "cell_type": "code",
   "execution_count": 109,
   "id": "bcc4e64e-3709-4103-9f0c-620e8e9c328d",
   "metadata": {},
   "outputs": [
    {
     "data": {
      "text/plain": [
       "dict_items([('Name', 'Abhi'), ('Email_id', 'ABHI@GMAIL.COM'), ('Age', 458)])"
      ]
     },
     "execution_count": 109,
     "metadata": {},
     "output_type": "execute_result"
    }
   ],
   "source": [
    "dict1.items()"
   ]
  },
  {
   "cell_type": "code",
   "execution_count": 110,
   "id": "38d254de-77fb-45c3-a913-d6a20f522db1",
   "metadata": {},
   "outputs": [],
   "source": [
    "dict2=dict1.copy()"
   ]
  },
  {
   "cell_type": "code",
   "execution_count": 111,
   "id": "7463718c-5bd7-4e81-9477-a5598162bccc",
   "metadata": {},
   "outputs": [
    {
     "data": {
      "text/plain": [
       "'Abhi'"
      ]
     },
     "execution_count": 111,
     "metadata": {},
     "output_type": "execute_result"
    }
   ],
   "source": [
    "dict2.pop(\"Name\")"
   ]
  },
  {
   "cell_type": "code",
   "execution_count": 112,
   "id": "82353a3f-8a03-4e4e-8a6f-b7cba7548f29",
   "metadata": {},
   "outputs": [
    {
     "data": {
      "text/plain": [
       "{'Email_id': 'ABHI@GMAIL.COM', 'Age': 458}"
      ]
     },
     "execution_count": 112,
     "metadata": {},
     "output_type": "execute_result"
    }
   ],
   "source": [
    "dict2"
   ]
  },
  {
   "cell_type": "code",
   "execution_count": 116,
   "id": "8d758cbf-388f-4e0d-9955-84993a9d5114",
   "metadata": {},
   "outputs": [
    {
     "ename": "NameError",
     "evalue": "name 'dict3' is not defined",
     "output_type": "error",
     "traceback": [
      "\u001b[0;31m---------------------------------------------------------------------------\u001b[0m",
      "\u001b[0;31mNameError\u001b[0m                                 Traceback (most recent call last)",
      "Cell \u001b[0;32mIn[116], line 1\u001b[0m\n\u001b[0;32m----> 1\u001b[0m \u001b[43mdict3\u001b[49m\u001b[38;5;241m.\u001b[39mfromkeys((\u001b[38;5;241m1\u001b[39m,\u001b[38;5;124m\"\u001b[39m\u001b[38;5;124magsu\u001b[39m\u001b[38;5;124m\"\u001b[39m,\u001b[38;5;241m45\u001b[39m),(\u001b[38;5;124m\"\u001b[39m\u001b[38;5;124msas\u001b[39m\u001b[38;5;124m\"\u001b[39m,\u001b[38;5;241m1\u001b[39m))\n",
      "\u001b[0;31mNameError\u001b[0m: name 'dict3' is not defined"
     ]
    }
   ],
   "source": [
    "dict3.fromkeys((1,\"agsu\",45),(\"sas\",1))"
   ]
  },
  {
   "cell_type": "code",
   "execution_count": 115,
   "id": "cffedade-1ead-401d-9126-0d8371888e47",
   "metadata": {},
   "outputs": [
    {
     "data": {
      "text/plain": [
       "{'Email_id': 'ABHI@GMAIL.COM', 'Age': 458}"
      ]
     },
     "execution_count": 115,
     "metadata": {},
     "output_type": "execute_result"
    }
   ],
   "source": [
    "dict2"
   ]
  },
  {
   "cell_type": "code",
   "execution_count": 117,
   "id": "e23213ea-ba91-43bd-9d18-fcfaac06810a",
   "metadata": {},
   "outputs": [],
   "source": [
    "d22={1:\"a\",2:\"b\",3:\"c\"}\n",
    "d23={4:\"d\",5:\"e\"}\n"
   ]
  },
  {
   "cell_type": "code",
   "execution_count": 118,
   "id": "6210a8fd-8b10-4b44-a4b8-9f48fa5fe1bf",
   "metadata": {},
   "outputs": [
    {
     "data": {
      "text/plain": [
       "({1: 'a', 2: 'b', 3: 'c'}, {4: 'd', 5: 'e'})"
      ]
     },
     "execution_count": 118,
     "metadata": {},
     "output_type": "execute_result"
    }
   ],
   "source": [
    "(d22,d23)"
   ]
  },
  {
   "cell_type": "code",
   "execution_count": 119,
   "id": "6b723e32-8d92-40b1-b54f-80fb421440d4",
   "metadata": {},
   "outputs": [
    {
     "data": {
      "text/plain": [
       "[{1: 'a', 2: 'b', 3: 'c'}, {4: 'd', 5: 'e'}]"
      ]
     },
     "execution_count": 119,
     "metadata": {},
     "output_type": "execute_result"
    }
   ],
   "source": [
    "[d22,d23]"
   ]
  },
  {
   "cell_type": "code",
   "execution_count": 120,
   "id": "fdc4b61e-eba7-4a98-8ba3-7db3fb7c8286",
   "metadata": {},
   "outputs": [
    {
     "ename": "TypeError",
     "evalue": "unhashable type: 'dict'",
     "output_type": "error",
     "traceback": [
      "\u001b[0;31m---------------------------------------------------------------------------\u001b[0m",
      "\u001b[0;31mTypeError\u001b[0m                                 Traceback (most recent call last)",
      "Cell \u001b[0;32mIn[120], line 1\u001b[0m\n\u001b[0;32m----> 1\u001b[0m {d22,d23}\n",
      "\u001b[0;31mTypeError\u001b[0m: unhashable type: 'dict'"
     ]
    }
   ],
   "source": [
    "{d22,d23}"
   ]
  },
  {
   "cell_type": "code",
   "execution_count": 121,
   "id": "e602fee9-02f8-48b4-9ff0-fa0d07c0952b",
   "metadata": {},
   "outputs": [],
   "source": [
    "d22.update(d23)"
   ]
  },
  {
   "cell_type": "code",
   "execution_count": 122,
   "id": "042672ba-35de-4dab-97bd-c7a5127135e8",
   "metadata": {},
   "outputs": [
    {
     "data": {
      "text/plain": [
       "{1: 'a', 2: 'b', 3: 'c', 4: 'd', 5: 'e'}"
      ]
     },
     "execution_count": 122,
     "metadata": {},
     "output_type": "execute_result"
    }
   ],
   "source": [
    "d22"
   ]
  },
  {
   "cell_type": "code",
   "execution_count": 123,
   "id": "0df95244-1f31-412a-8ab0-53be5ea293c0",
   "metadata": {},
   "outputs": [
    {
     "data": {
      "text/plain": [
       "{4: 'd', 5: 'e'}"
      ]
     },
     "execution_count": 123,
     "metadata": {},
     "output_type": "execute_result"
    }
   ],
   "source": [
    "d23"
   ]
  },
  {
   "cell_type": "markdown",
   "id": "af6c66a6-7b43-4d9b-af87-15fd04e6cddc",
   "metadata": {},
   "source": [
    "## Dicitonary Comprehension"
   ]
  },
  {
   "cell_type": "code",
   "execution_count": 124,
   "id": "42598b04-2ea1-47b1-b688-f145c877cdf9",
   "metadata": {},
   "outputs": [
    {
     "data": {
      "text/plain": [
       "{1, 2, 3, 4, 5, 6, 7, 8, 9, 10}"
      ]
     },
     "execution_count": 124,
     "metadata": {},
     "output_type": "execute_result"
    }
   ],
   "source": [
    "{i for i in range(1,11) }"
   ]
  },
  {
   "cell_type": "code",
   "execution_count": 125,
   "id": "1d54bdb0-6908-4d60-9493-3e754aa22083",
   "metadata": {},
   "outputs": [
    {
     "data": {
      "text/plain": [
       "{1: 1, 2: 8, 3: 27, 4: 64, 5: 125, 6: 216, 7: 343, 8: 512, 9: 729, 10: 1000}"
      ]
     },
     "execution_count": 125,
     "metadata": {},
     "output_type": "execute_result"
    }
   ],
   "source": [
    "{i:i**3 for i in range(1,11) }"
   ]
  },
  {
   "cell_type": "code",
   "execution_count": 132,
   "id": "699397bf-b502-41bd-985d-688358b7b2e0",
   "metadata": {},
   "outputs": [],
   "source": [
    "import math\n",
    "d23={i: math.log10(i )for i in range(1,11) }"
   ]
  },
  {
   "cell_type": "code",
   "execution_count": 130,
   "id": "0c9e2f77-cb1f-4dc4-bc12-2749255119fe",
   "metadata": {},
   "outputs": [
    {
     "data": {
      "text/plain": [
       "True"
      ]
     },
     "execution_count": 130,
     "metadata": {},
     "output_type": "execute_result"
    }
   ],
   "source": [
    "1 in d22"
   ]
  },
  {
   "cell_type": "code",
   "execution_count": 131,
   "id": "6df011c9-3b18-468c-b557-8004b369abf2",
   "metadata": {},
   "outputs": [
    {
     "ename": "NameError",
     "evalue": "name 'a' is not defined",
     "output_type": "error",
     "traceback": [
      "\u001b[0;31m---------------------------------------------------------------------------\u001b[0m",
      "\u001b[0;31mNameError\u001b[0m                                 Traceback (most recent call last)",
      "Cell \u001b[0;32mIn[131], line 1\u001b[0m\n\u001b[0;32m----> 1\u001b[0m \u001b[43ma\u001b[49m \u001b[38;5;129;01min\u001b[39;00m d22\n",
      "\u001b[0;31mNameError\u001b[0m: name 'a' is not defined"
     ]
    }
   ],
   "source": [
    "a in d22"
   ]
  },
  {
   "cell_type": "code",
   "execution_count": 137,
   "id": "959033f2-2180-438f-9406-2bcc6ec73e77",
   "metadata": {},
   "outputs": [
    {
     "data": {
      "text/plain": [
       "[2, 4]"
      ]
     },
     "execution_count": 137,
     "metadata": {},
     "output_type": "execute_result"
    }
   ],
   "source": [
    "[i for i in d22.keys() if i%2==0]"
   ]
  },
  {
   "cell_type": "code",
   "execution_count": 138,
   "id": "ed618a9e-df22-41e3-8de7-a0a7cf2ee128",
   "metadata": {},
   "outputs": [],
   "source": [
    "atuple = (\"Orange\")"
   ]
  },
  {
   "cell_type": "code",
   "execution_count": 139,
   "id": "f03f1956-4137-4a77-b387-6176debf986f",
   "metadata": {},
   "outputs": [
    {
     "data": {
      "text/plain": [
       "str"
      ]
     },
     "execution_count": 139,
     "metadata": {},
     "output_type": "execute_result"
    }
   ],
   "source": [
    "type(atuple)"
   ]
  },
  {
   "cell_type": "code",
   "execution_count": 140,
   "id": "6c8b86d4-12cb-4ad0-8346-0a014ab00830",
   "metadata": {},
   "outputs": [
    {
     "name": "stdout",
     "output_type": "stream",
     "text": [
      "(100, 100)\n"
     ]
    }
   ],
   "source": [
    "atuple = (100,)\n",
    "\n",
    "print(atuple * 2)"
   ]
  },
  {
   "cell_type": "code",
   "execution_count": 141,
   "id": "024c5f8e-064b-4ad2-85ce-5096646d6fb1",
   "metadata": {},
   "outputs": [
    {
     "name": "stdout",
     "output_type": "stream",
     "text": [
      "None\n"
     ]
    }
   ],
   "source": [
    "dict1 = {\"name\": \"Mike\", \"salary\": 8000}\n",
    "\n",
    "temp = dict1.get(\"age\")\n",
    "\n",
    "print(temp)"
   ]
  },
  {
   "cell_type": "code",
   "execution_count": 142,
   "id": "709f384d-6317-4d6c-9217-1b8ab5c23a37",
   "metadata": {},
   "outputs": [
    {
     "name": "stdout",
     "output_type": "stream",
     "text": [
      "True\n"
     ]
    }
   ],
   "source": [
    "dict1 = {\"key1\":1, \"key2\":2}\n",
    "\n",
    "dict2 = {\"key2\":2, \"key1\":1}\n",
    "\n",
    "print(dict1 == dict2)"
   ]
  },
  {
   "cell_type": "code",
   "execution_count": 143,
   "id": "a6ab8ee1-5301-4808-b090-020fb3306d6a",
   "metadata": {},
   "outputs": [
    {
     "name": "stdout",
     "output_type": "stream",
     "text": [
      "{'Pink', 'Blue'}\n"
     ]
    }
   ],
   "source": [
    "set1 = {\"Yellow\", \"Orange\", \"Black\"}\n",
    "\n",
    "set2 = {\"Orange\", \"Blue\", \"Pink\"}\n",
    "\n",
    "set3 = set2.difference(set1)\n",
    "\n",
    "print(set3)"
   ]
  },
  {
   "cell_type": "code",
   "execution_count": 145,
   "id": "8955fa4e-89da-434d-92d7-bbeff83bb0e1",
   "metadata": {},
   "outputs": [
    {
     "ename": "TypeError",
     "evalue": "'set' object is not subscriptable",
     "output_type": "error",
     "traceback": [
      "\u001b[0;31m---------------------------------------------------------------------------\u001b[0m",
      "\u001b[0;31mTypeError\u001b[0m                                 Traceback (most recent call last)",
      "Cell \u001b[0;32mIn[145], line 2\u001b[0m\n\u001b[1;32m      1\u001b[0m a\u001b[38;5;241m=\u001b[39m{\u001b[38;5;241m1\u001b[39m,\u001b[38;5;241m3\u001b[39m,\u001b[38;5;241m4\u001b[39m,\u001b[38;5;241m6\u001b[39m,\u001b[38;5;241m4\u001b[39m}\n\u001b[0;32m----> 2\u001b[0m \u001b[43ma\u001b[49m\u001b[43m[\u001b[49m\u001b[38;5;241;43m0\u001b[39;49m\u001b[43m]\u001b[49m\n",
      "\u001b[0;31mTypeError\u001b[0m: 'set' object is not subscriptable"
     ]
    }
   ],
   "source": [
    "a={1,3,4,6,4}\n",
    "a[0]"
   ]
  },
  {
   "cell_type": "code",
   "execution_count": null,
   "id": "72e1d61c-f737-4cf6-acf8-214f25f67d59",
   "metadata": {},
   "outputs": [],
   "source": []
  }
 ],
 "metadata": {
  "kernelspec": {
   "display_name": "Python 3 (ipykernel)",
   "language": "python",
   "name": "python3"
  },
  "language_info": {
   "codemirror_mode": {
    "name": "ipython",
    "version": 3
   },
   "file_extension": ".py",
   "mimetype": "text/x-python",
   "name": "python",
   "nbconvert_exporter": "python",
   "pygments_lexer": "ipython3",
   "version": "3.10.8"
  }
 },
 "nbformat": 4,
 "nbformat_minor": 5
}
