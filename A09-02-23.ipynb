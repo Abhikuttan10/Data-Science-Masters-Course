{
 "cells": [
  {
   "cell_type": "code",
   "execution_count": 49,
   "id": "22b54cbd",
   "metadata": {},
   "outputs": [
    {
     "name": "stdout",
     "output_type": "stream",
     "text": [
      "('MG', 5)\n",
      "85\n",
      "55\n",
      "Hyundai\n"
     ]
    }
   ],
   "source": [
    "#Q1\n",
    "class vehicle:\n",
    "    def __init__(self,name_of_vehicle,max_speed,average_of_vehicle):\n",
    "        self.name_of_vehicle=name_of_vehicle\n",
    "        self.max_speed=max_speed\n",
    "        self.average_of_vehicle=average_of_vehicle\n",
    "#Q2\n",
    "class car(vehicle):\n",
    "    def seating_capacity(self,capacity):\n",
    "        self.capacity=capacity\n",
    "        return self.name_of_vehicle,self.capacity\n",
    "veh=vehicle(\"Hyundai\",\"85\",\"55\")\n",
    "veh1=car(\"MG\",\"80\",\"45\")\n",
    "print(veh1.seating_capacity(5))\n",
    "print(veh.max_speed)\n",
    "print(veh.average_of_vehicle)\n",
    "print(veh.name_of_vehicle)"
   ]
  },
  {
   "cell_type": "code",
   "execution_count": 54,
   "id": "a4b0c3e2",
   "metadata": {},
   "outputs": [
    {
     "data": {
      "text/plain": [
       "'George'"
      ]
     },
     "execution_count": 54,
     "metadata": {},
     "output_type": "execute_result"
    }
   ],
   "source": [
    "#Q3\n",
    "class A:\n",
    "    def __init__(self,name,roll_no):\n",
    "        self.name=name\n",
    "        self.roll_no=roll_no\n",
    "class B:\n",
    "    def __init__(self,brother_name,sister_name):\n",
    "        self.brother_name=brother_name\n",
    "        self.sister_name=sister_name\n",
    "class C(A,B):\n",
    "    pass\n",
    "\n",
    "\n",
    "c=C(\"George\",55)\n",
    "c.name"
   ]
  },
  {
   "cell_type": "code",
   "execution_count": 66,
   "id": "1c257987",
   "metadata": {},
   "outputs": [],
   "source": [
    "#Q4\n",
    "'''Getter is used to access the attribute directly and Setter is used to mutate the attribute'''\n",
    "class Person:\n",
    "    def __init__(self,name,age):\n",
    "        self._name=name\n",
    "        self._age=age\n",
    "    def get_name(self):\n",
    "        return self._name\n",
    "    def set_name(self,name):\n",
    "        self._name=name\n",
    "    def get_age(self):\n",
    "        return self._age\n",
    "    def set_age(self,age):\n",
    "        self._age=age"
   ]
  },
  {
   "cell_type": "code",
   "execution_count": 67,
   "id": "3ecf5248",
   "metadata": {},
   "outputs": [],
   "source": [
    "p1=Person(\"Greg\",50)"
   ]
  },
  {
   "cell_type": "code",
   "execution_count": 68,
   "id": "9796cd6f",
   "metadata": {},
   "outputs": [
    {
     "name": "stdout",
     "output_type": "stream",
     "text": [
      "50\n",
      "Greg\n"
     ]
    }
   ],
   "source": [
    "print(p1.get_age())\n",
    "print(p1.get_name())"
   ]
  },
  {
   "cell_type": "code",
   "execution_count": 69,
   "id": "75e8cb3e",
   "metadata": {},
   "outputs": [
    {
     "name": "stdout",
     "output_type": "stream",
     "text": [
      "25\n",
      "Tom\n"
     ]
    }
   ],
   "source": [
    "p1.set_age(25)\n",
    "p1.set_name(\"Tom\")\n",
    "print(p1.get_age())\n",
    "print(p1.get_name())"
   ]
  },
  {
   "cell_type": "code",
   "execution_count": 72,
   "id": "98930c67",
   "metadata": {},
   "outputs": [
    {
     "name": "stdout",
     "output_type": "stream",
     "text": [
      "Inside Child\n",
      "None\n",
      "Inside Child2\n",
      "None\n"
     ]
    }
   ],
   "source": [
    "#Q5\n",
    "class Parent1:\n",
    "    def __init__(self):\n",
    "        self.value=\"Inside Parent1\"\n",
    "    def show(self):\n",
    "        print(self.value)\n",
    "class Parent2:\n",
    "    def __init__(self):\n",
    "        self.value=\"Inside Parent2\"\n",
    "    def demo(self):\n",
    "        print(self.value)\n",
    "class child(Parent1,Parent2):\n",
    "    def show(self):\n",
    "        print(\"Inside Child\")\n",
    "    def demo(self):\n",
    "        print(\"Inside Child2\")\n",
    "    \n",
    "child1=child()\n",
    "print(child1.show())\n",
    "print(child1.demo())\n"
   ]
  },
  {
   "cell_type": "code",
   "execution_count": null,
   "id": "c64648fb",
   "metadata": {},
   "outputs": [],
   "source": []
  }
 ],
 "metadata": {
  "kernelspec": {
   "display_name": "Python 3 (ipykernel)",
   "language": "python",
   "name": "python3"
  },
  "language_info": {
   "codemirror_mode": {
    "name": "ipython",
    "version": 3
   },
   "file_extension": ".py",
   "mimetype": "text/x-python",
   "name": "python",
   "nbconvert_exporter": "python",
   "pygments_lexer": "ipython3",
   "version": "3.9.13"
  }
 },
 "nbformat": 4,
 "nbformat_minor": 5
}
