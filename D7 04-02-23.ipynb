{
 "cells": [
  {
   "cell_type": "code",
   "execution_count": 1,
   "id": "3f262148-4426-495b-baa3-b15a70b67c2e",
   "metadata": {},
   "outputs": [],
   "source": [
    "def test(n,p):\n",
    "    return n**p"
   ]
  },
  {
   "cell_type": "code",
   "execution_count": 2,
   "id": "b43f683b-7f4b-4c0e-9889-a584a261b61f",
   "metadata": {},
   "outputs": [
    {
     "data": {
      "text/plain": [
       "8"
      ]
     },
     "execution_count": 2,
     "metadata": {},
     "output_type": "execute_result"
    }
   ],
   "source": [
    "test(2,3)"
   ]
  },
  {
   "cell_type": "code",
   "execution_count": 3,
   "id": "1d1e5c3c-8993-4a5d-bc1e-ff4a53c005ea",
   "metadata": {},
   "outputs": [],
   "source": [
    "a= lambda n,p:n**p"
   ]
  },
  {
   "cell_type": "code",
   "execution_count": 4,
   "id": "7d2c09aa-89a6-4c91-9eda-f7204709ec0b",
   "metadata": {},
   "outputs": [
    {
     "data": {
      "text/plain": [
       "8"
      ]
     },
     "execution_count": 4,
     "metadata": {},
     "output_type": "execute_result"
    }
   ],
   "source": [
    "a(2,3)"
   ]
  },
  {
   "cell_type": "code",
   "execution_count": 5,
   "id": "a2073647-f991-4a03-bb6c-847c55975d64",
   "metadata": {},
   "outputs": [],
   "source": [
    "add=lambda x,y:x+y"
   ]
  },
  {
   "cell_type": "code",
   "execution_count": 6,
   "id": "00129bef-649d-453d-a7c4-2de1fe28cb28",
   "metadata": {},
   "outputs": [
    {
     "data": {
      "text/plain": [
       "5"
      ]
     },
     "execution_count": 6,
     "metadata": {},
     "output_type": "execute_result"
    }
   ],
   "source": [
    "add(3,2)"
   ]
  },
  {
   "cell_type": "code",
   "execution_count": 7,
   "id": "c9807821-a8a3-4d11-9a2b-51672a546a62",
   "metadata": {},
   "outputs": [],
   "source": [
    "fahrenheit=lambda z:(9/5)*z+32"
   ]
  },
  {
   "cell_type": "code",
   "execution_count": 8,
   "id": "44bb82d4-a0fe-4876-a9e6-47dcd88f1ef5",
   "metadata": {},
   "outputs": [
    {
     "data": {
      "text/plain": [
       "50.0"
      ]
     },
     "execution_count": 8,
     "metadata": {},
     "output_type": "execute_result"
    }
   ],
   "source": [
    "fahrenheit(10)"
   ]
  },
  {
   "cell_type": "code",
   "execution_count": 10,
   "id": "b2f0088a-2d8d-482c-bb5b-c5d2598636c2",
   "metadata": {},
   "outputs": [
    {
     "data": {
      "text/plain": [
       "93.2"
      ]
     },
     "execution_count": 10,
     "metadata": {},
     "output_type": "execute_result"
    }
   ],
   "source": [
    "fahrenheit(34)"
   ]
  },
  {
   "cell_type": "code",
   "execution_count": 13,
   "id": "e54aefd2-1e33-4e20-b149-ccbd1d9a13b9",
   "metadata": {},
   "outputs": [],
   "source": [
    "max=lambda e,f: e if e>f else f "
   ]
  },
  {
   "cell_type": "code",
   "execution_count": 14,
   "id": "30517acb-8b4f-4e3e-9669-fe5824be8c7c",
   "metadata": {},
   "outputs": [
    {
     "data": {
      "text/plain": [
       "46"
      ]
     },
     "execution_count": 14,
     "metadata": {},
     "output_type": "execute_result"
    }
   ],
   "source": [
    "max(46,36)"
   ]
  },
  {
   "cell_type": "code",
   "execution_count": 15,
   "id": "e0fe5283-6b49-4709-b2c9-a594505a303e",
   "metadata": {},
   "outputs": [],
   "source": [
    "l=[12,6,7,87,45]"
   ]
  },
  {
   "cell_type": "code",
   "execution_count": 20,
   "id": "dd8f065d-2172-44bd-8dfb-3d734c1feb73",
   "metadata": {},
   "outputs": [],
   "source": [
    "def test1(a):\n",
    "    n=[]\n",
    "    for i in a:\n",
    "        n.append(i**2)\n",
    "    return n"
   ]
  },
  {
   "cell_type": "code",
   "execution_count": 21,
   "id": "cad49369-9189-4f6a-89f5-e3fdff246937",
   "metadata": {},
   "outputs": [
    {
     "data": {
      "text/plain": [
       "[144, 36, 49, 7569, 2025]"
      ]
     },
     "execution_count": 21,
     "metadata": {},
     "output_type": "execute_result"
    }
   ],
   "source": [
    "test1(l)"
   ]
  },
  {
   "cell_type": "code",
   "execution_count": 29,
   "id": "9e07f7ea-79c9-4521-9587-57f1b1bfe7fb",
   "metadata": {},
   "outputs": [
    {
     "data": {
      "text/plain": [
       "<map at 0x7f21b4525c30>"
      ]
     },
     "execution_count": 29,
     "metadata": {},
     "output_type": "execute_result"
    }
   ],
   "source": [
    "map(test1,l)"
   ]
  },
  {
   "cell_type": "code",
   "execution_count": 30,
   "id": "f33fda9c-b70d-4127-8495-c581239ccbe6",
   "metadata": {},
   "outputs": [
    {
     "data": {
      "text/plain": [
       "[22, 16, 17, 97, 55]"
      ]
     },
     "execution_count": 30,
     "metadata": {},
     "output_type": "execute_result"
    }
   ],
   "source": [
    "list(map(lambda a:a+10,l))"
   ]
  },
  {
   "cell_type": "code",
   "execution_count": 31,
   "id": "b97768d2-d28a-4de2-b50c-0db431f1e88c",
   "metadata": {},
   "outputs": [],
   "source": [
    "l1=[2,6,8,7]"
   ]
  },
  {
   "cell_type": "code",
   "execution_count": 34,
   "id": "800392a2-5fba-4f1b-bba0-9848baa6245b",
   "metadata": {},
   "outputs": [
    {
     "data": {
      "text/plain": [
       "[14, 12, 15, 94]"
      ]
     },
     "execution_count": 34,
     "metadata": {},
     "output_type": "execute_result"
    }
   ],
   "source": [
    "list(map(lambda a,b:a+b,l,l1))"
   ]
  },
  {
   "cell_type": "code",
   "execution_count": 35,
   "id": "755deb52-7e5c-41c7-ad22-a43bbb4f88e6",
   "metadata": {},
   "outputs": [],
   "source": [
    "s=\"abhi\""
   ]
  },
  {
   "cell_type": "code",
   "execution_count": 36,
   "id": "774e3439-a8d9-4cf2-9eff-20f573c0b710",
   "metadata": {},
   "outputs": [
    {
     "data": {
      "text/plain": [
       "['A', 'B', 'H', 'I']"
      ]
     },
     "execution_count": 36,
     "metadata": {},
     "output_type": "execute_result"
    }
   ],
   "source": [
    "list(map(lambda a:a.upper(),s))"
   ]
  },
  {
   "cell_type": "code",
   "execution_count": 37,
   "id": "cd444a23-afbf-48a1-b3e9-9a16435014d3",
   "metadata": {},
   "outputs": [],
   "source": [
    "from functools import reduce"
   ]
  },
  {
   "cell_type": "code",
   "execution_count": 43,
   "id": "e7abf1cb-c15b-4035-9135-ff30585a8b2d",
   "metadata": {},
   "outputs": [],
   "source": [
    "l=[1,2,2,3]"
   ]
  },
  {
   "cell_type": "code",
   "execution_count": 45,
   "id": "a0cef846-a711-4649-9c24-ae6d9ce2bf54",
   "metadata": {},
   "outputs": [
    {
     "data": {
      "text/plain": [
       "8"
      ]
     },
     "execution_count": 45,
     "metadata": {},
     "output_type": "execute_result"
    }
   ],
   "source": [
    "reduce(lambda x,y:x+y,l)"
   ]
  },
  {
   "cell_type": "code",
   "execution_count": 44,
   "id": "3366e3d1-bb02-404b-bbf3-6b44e74d2a9f",
   "metadata": {},
   "outputs": [
    {
     "data": {
      "text/plain": [
       "12"
      ]
     },
     "execution_count": 44,
     "metadata": {},
     "output_type": "execute_result"
    }
   ],
   "source": [
    "reduce(lambda x,y:x*y,l)"
   ]
  },
  {
   "cell_type": "code",
   "execution_count": 46,
   "id": "eb477b7f-eb52-470a-8326-c00b4878e897",
   "metadata": {},
   "outputs": [
    {
     "data": {
      "text/plain": [
       "8"
      ]
     },
     "execution_count": 46,
     "metadata": {},
     "output_type": "execute_result"
    }
   ],
   "source": [
    "reduce(add,l)"
   ]
  },
  {
   "cell_type": "code",
   "execution_count": 47,
   "id": "27482f52-d10d-4ffc-9e78-1c6424a4ef78",
   "metadata": {},
   "outputs": [
    {
     "data": {
      "text/plain": [
       "2"
      ]
     },
     "execution_count": 47,
     "metadata": {},
     "output_type": "execute_result"
    }
   ],
   "source": [
    "reduce(add,[2])"
   ]
  },
  {
   "cell_type": "code",
   "execution_count": 48,
   "id": "06274e54-8a1f-43b9-8008-7ad3d08b71a5",
   "metadata": {},
   "outputs": [
    {
     "data": {
      "text/plain": [
       "[1, 2, 2, 3]"
      ]
     },
     "execution_count": 48,
     "metadata": {},
     "output_type": "execute_result"
    }
   ],
   "source": [
    "l"
   ]
  },
  {
   "cell_type": "code",
   "execution_count": 50,
   "id": "07303829-c60c-41b1-89bf-238119234368",
   "metadata": {},
   "outputs": [
    {
     "data": {
      "text/plain": [
       "<filter at 0x7f21b421b2b0>"
      ]
     },
     "execution_count": 50,
     "metadata": {},
     "output_type": "execute_result"
    }
   ],
   "source": [
    "filter(lambda x:x%2==0,l)"
   ]
  },
  {
   "cell_type": "code",
   "execution_count": 51,
   "id": "2e5acddb-3511-441a-82dd-7932fedf8712",
   "metadata": {},
   "outputs": [
    {
     "data": {
      "text/plain": [
       "[2, 2]"
      ]
     },
     "execution_count": 51,
     "metadata": {},
     "output_type": "execute_result"
    }
   ],
   "source": [
    "list(filter(lambda x:x%2==0,l))"
   ]
  },
  {
   "cell_type": "code",
   "execution_count": 52,
   "id": "31379052-8a80-4bf3-b510-4440e5e0278a",
   "metadata": {},
   "outputs": [
    {
     "data": {
      "text/plain": [
       "[1, 2, 2, 3]"
      ]
     },
     "execution_count": 52,
     "metadata": {},
     "output_type": "execute_result"
    }
   ],
   "source": [
    "list(filter(lambda x:x>=0,l))"
   ]
  },
  {
   "cell_type": "code",
   "execution_count": 54,
   "id": "c0948dd2-4f5a-40cc-aaa6-beab84e3636e",
   "metadata": {},
   "outputs": [],
   "source": [
    "l1=[1,2,3,-5,-4,2,6,-7,9]"
   ]
  },
  {
   "cell_type": "code",
   "execution_count": 57,
   "id": "1c01818b-1755-434b-97dd-37f9ec2928ca",
   "metadata": {},
   "outputs": [
    {
     "data": {
      "text/plain": [
       "[1, 2, 3, 2, 6, 9]"
      ]
     },
     "execution_count": 57,
     "metadata": {},
     "output_type": "execute_result"
    }
   ],
   "source": [
    "list(filter(lambda x:x>=0,l1))"
   ]
  },
  {
   "cell_type": "code",
   "execution_count": 58,
   "id": "21049ea1-0e9f-4156-9211-3f9cac6c1a95",
   "metadata": {},
   "outputs": [
    {
     "data": {
      "text/plain": [
       "[-5, -4, -7]"
      ]
     },
     "execution_count": 58,
     "metadata": {},
     "output_type": "execute_result"
    }
   ],
   "source": [
    "list(filter(lambda x:x<=0,l1))"
   ]
  },
  {
   "cell_type": "code",
   "execution_count": 59,
   "id": "463a8b4f-8495-43e6-8c42-29d52f436678",
   "metadata": {},
   "outputs": [],
   "source": [
    "l2=[\"Abhi\",\"Bini\",\"Shru\",\"Golu\",\"Shruti\"]"
   ]
  },
  {
   "cell_type": "code",
   "execution_count": 60,
   "id": "4ff30153-a4de-45da-8d96-e9f0e0c83547",
   "metadata": {},
   "outputs": [
    {
     "data": {
      "text/plain": [
       "['Abhi', 'Bini', 'Shru', 'Golu']"
      ]
     },
     "execution_count": 60,
     "metadata": {},
     "output_type": "execute_result"
    }
   ],
   "source": [
    "list(filter(lambda x : len(x)<=4,l2))"
   ]
  },
  {
   "cell_type": "code",
   "execution_count": 61,
   "id": "97f32ca6-165a-439d-a436-ece6f3f2b429",
   "metadata": {},
   "outputs": [
    {
     "name": "stdout",
     "output_type": "stream",
     "text": [
      "120\n"
     ]
    }
   ],
   "source": [
    "from functools import reduce\n",
    "\n",
    "numbers = [1, 2, 3, 4, 5]\n",
    "\n",
    "product = reduce(lambda x, y: x*y, numbers)\n",
    "\n",
    "print(product)"
   ]
  },
  {
   "cell_type": "code",
   "execution_count": null,
   "id": "6bbf11a8-3369-4380-af87-c288f4d42d93",
   "metadata": {},
   "outputs": [],
   "source": []
  }
 ],
 "metadata": {
  "kernelspec": {
   "display_name": "Python 3 (ipykernel)",
   "language": "python",
   "name": "python3"
  },
  "language_info": {
   "codemirror_mode": {
    "name": "ipython",
    "version": 3
   },
   "file_extension": ".py",
   "mimetype": "text/x-python",
   "name": "python",
   "nbconvert_exporter": "python",
   "pygments_lexer": "ipython3",
   "version": "3.10.8"
  }
 },
 "nbformat": 4,
 "nbformat_minor": 5
}
