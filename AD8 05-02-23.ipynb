{
 "cells": [
  {
   "cell_type": "code",
   "execution_count": 1,
   "id": "e69723ed-df09-483f-8093-7257998ac3ed",
   "metadata": {},
   "outputs": [
    {
     "data": {
      "text/plain": [
       "' 1)A class is a blueprintthat defines the variables and methods common to allobjects of certain kind\\n    It helps us to bind data and methods together,making the code reusable unlike procedural language.\\n    2)An object is a single instance of a class that contains data and methods working on the data.\\n    3)Suppose Bicycle is a class then MountainBicycle , SportsBicycle , TouringBicycle , etc can be considered as objects of the class.'"
      ]
     },
     "execution_count": 1,
     "metadata": {},
     "output_type": "execute_result"
    }
   ],
   "source": [
    "#1]\n",
    "''' 1)A class is a blueprintthat defines the variables and methods common to allobjects of certain kind\n",
    "    It helps us to bind data and methods together,making the code reusable unlike procedural language.\n",
    "    2)An object is a single instance of a class that contains data and methods working on the data.\n",
    "    3)Suppose Bicycle is a class then MountainBicycle , SportsBicycle , TouringBicycle , etc can be considered as objects of the class.'''"
   ]
  },
  {
   "cell_type": "code",
   "execution_count": 2,
   "id": "ca8412c5-59fa-4743-b003-b4c0b1fc52b6",
   "metadata": {},
   "outputs": [
    {
     "data": {
      "text/plain": [
       "'4 Pillars of Object Oriented Programming\\nAbstraction.\\nEncapsulation.\\nInheritance.\\nPolymorphism.'"
      ]
     },
     "execution_count": 2,
     "metadata": {},
     "output_type": "execute_result"
    }
   ],
   "source": [
    "#2]\n",
    "'''4 Pillars of Object Oriented Programming\n",
    "Abstraction.\n",
    "Encapsulation.\n",
    "Inheritance.\n",
    "Polymorphism.'''"
   ]
  },
  {
   "cell_type": "code",
   "execution_count": 3,
   "id": "7dd0dc0a-ed30-4b9c-968c-eb6ef76796cd",
   "metadata": {},
   "outputs": [
    {
     "data": {
      "text/plain": [
       "'All classes have a function called __init__(), which is always executed when the class is being initiated.\\nUse the __init__() function to assign values to object properties, or other operations that are necessary to do when the object is being created.\\nExample:-\\nclass Person:\\n  def __init__(self, name, age):\\n    self.name = name\\n    self.age = age\\n\\np1 = Person(\"John\", 36)\\n\\nprint(p1.name)\\nprint(p1.age)'"
      ]
     },
     "execution_count": 3,
     "metadata": {},
     "output_type": "execute_result"
    }
   ],
   "source": [
    "#3]\n",
    "'''All classes have a function called __init__(), which is always executed when the class is being initiated.\n",
    "Use the __init__() function to assign values to object properties, or other operations that are necessary to do when the object is being created.\n",
    "Example:-\n",
    "class Person:\n",
    "  def __init__(self, name, age):\n",
    "    self.name = name\n",
    "    self.age = age\n",
    "\n",
    "p1 = Person(\"John\", 36)\n",
    "\n",
    "print(p1.name)\n",
    "print(p1.age)'''"
   ]
  },
  {
   "cell_type": "code",
   "execution_count": 4,
   "id": "fa8f183c-ed3c-4f66-a6dc-7b682f5be108",
   "metadata": {},
   "outputs": [
    {
     "data": {
      "text/plain": [
       "'The self variable is used to represent the instance of the class which is often used in object-oriented programming. It works as a reference\\nto the object. Python uses the self parameter to refer to instance attributes and methods of the class.'"
      ]
     },
     "execution_count": 4,
     "metadata": {},
     "output_type": "execute_result"
    }
   ],
   "source": [
    "#4]\n",
    "'''The self variable is used to represent the instance of the class which is often used in object-oriented programming. It works as a reference\n",
    "to the object. Python uses the self parameter to refer to instance attributes and methods of the class.'''"
   ]
  },
  {
   "cell_type": "code",
   "execution_count": null,
   "id": "09039e6f-f59e-48fe-9822-40f7d113c5d4",
   "metadata": {},
   "outputs": [],
   "source": [
    "#5]\n",
    "'''When a class derives from another class. The child class will inherit all the public and protected properties and methods from the parent class.\n",
    "In addition, it can have its own properties and methods. An inherited class is defined by using the extends keyword.\n",
    "OOPs support the six different types of inheritance as given below :\n",
    "Single inheritance\n",
    "Multi-level inheritance\n",
    "Multiple inheritance\n",
    "Multipath inheritance\n",
    "Hierarchical Inheritance\n",
    "Hybrid Inheritance'''"
   ]
  }
 ],
 "metadata": {
  "kernelspec": {
   "display_name": "Python 3 (ipykernel)",
   "language": "python",
   "name": "python3"
  },
  "language_info": {
   "codemirror_mode": {
    "name": "ipython",
    "version": 3
   },
   "file_extension": ".py",
   "mimetype": "text/x-python",
   "name": "python",
   "nbconvert_exporter": "python",
   "pygments_lexer": "ipython3",
   "version": "3.10.8"
  }
 },
 "nbformat": 4,
 "nbformat_minor": 5
}
