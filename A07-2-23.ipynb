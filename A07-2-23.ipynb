{
 "cells": [
  {
   "cell_type": "code",
   "execution_count": 1,
   "id": "3efbf325",
   "metadata": {},
   "outputs": [
    {
     "name": "stdout",
     "output_type": "stream",
     "text": [
      "Enter Your Desired Password:\tajkdg12@#$\n",
      "Invalid Password: Password must contain atleast 2 Uppercase Character \n"
     ]
    }
   ],
   "source": [
    "#Q1\n",
    "import string\n",
    "\n",
    "password=input(\"Enter Your Desired Password:\\t\")\n",
    "\n",
    "def passcheck(password):\n",
    "    if len(password)==10:\n",
    "        a = True\n",
    "    else:\n",
    "        print(\"Invalid Password: Password must be 10 Characters Long \")\n",
    "    num=0\n",
    "    spec=0\n",
    "    upper=0\n",
    "    lower=0\n",
    "    for i in password:\n",
    "        if i.isupper():\n",
    "            upper=upper+1\n",
    "        elif i.islower():\n",
    "            lower=lower+1\n",
    "        elif i.isdigit():\n",
    "            num=num+1\n",
    "        elif i in string.punctuation:\n",
    "            spec=spec+1\n",
    "    if upper<2:\n",
    "        a= False\n",
    "        print(\"Invalid Password: Password must contain atleast 2 Uppercase Character \")\n",
    "    if lower<2:\n",
    "        a= False\n",
    "        print(\"Invalid Password: Password must contain atleast 2 Lowercase Character \")\n",
    "    if num<1:\n",
    "        a= False\n",
    "        print(\"Invalid Password: Password must contain atleast 1 Numeric Character \")\n",
    "    if spec<3:\n",
    "        a= False\n",
    "        print(\"Invalid Password: Password must contain atleast 3 Special Character \")    \n",
    "    if a==True:\n",
    "        print(f\"{password} is ur password\")\n",
    "\n",
    "passcheck(password)"
   ]
  },
  {
   "cell_type": "code",
   "execution_count": 8,
   "id": "19e6270e",
   "metadata": {},
   "outputs": [
    {
     "name": "stdout",
     "output_type": "stream",
     "text": [
      "Enter String to be checked:\tBook\n",
      "Doesn't start with a\n",
      "Enter String to be checked:\tBag\n",
      "Doesn't start with a\n"
     ]
    }
   ],
   "source": [
    "#Q2\n",
    "#a\n",
    "a=input(\"Enter String to be checked:\\t\")\n",
    "x=lambda y:\"starts with a\" if y[0]==\"a\" else \"Doesn't start with a\"\n",
    "print(x(a))"
   ]
  },
  {
   "cell_type": "code",
   "execution_count": 12,
   "id": "390ea6ef",
   "metadata": {},
   "outputs": [
    {
     "name": "stdout",
     "output_type": "stream",
     "text": [
      "Enter String to be checked:\tav546\n",
      "Not Numeric\n"
     ]
    }
   ],
   "source": [
    "#b\n",
    "a=input(\"Enter String to be checked:\\t\")\n",
    "x=lambda y:\"Is numeric\" if y.isnumeric() == True else \"Not Numeric\"\n",
    "print(x(a))"
   ]
  },
  {
   "cell_type": "code",
   "execution_count": 15,
   "id": "cc218431",
   "metadata": {},
   "outputs": [
    {
     "name": "stdout",
     "output_type": "stream",
     "text": [
      "[('orange', 80), ('mango', 99), ('grapes', 1000)]\n"
     ]
    }
   ],
   "source": [
    "#c\n",
    "a=[(\"mango\",99),(\"orange\",80), (\"grapes\", 1000)]\n",
    "sorted_list=sorted(a,key=lambda x:x[1])\n",
    "print(sorted_list)"
   ]
  },
  {
   "cell_type": "code",
   "execution_count": 23,
   "id": "1c99003e",
   "metadata": {},
   "outputs": [
    {
     "name": "stdout",
     "output_type": "stream",
     "text": [
      "0\n",
      "1\n",
      "4\n",
      "9\n",
      "16\n",
      "25\n",
      "36\n",
      "49\n",
      "64\n",
      "81\n",
      "100\n"
     ]
    }
   ],
   "source": [
    "#d\n",
    "a=range(11)\n",
    "i=0\n",
    "for i in a:\n",
    "    x=lambda y:y[i]*y[i]\n",
    "    print(x(a))\n",
    "    i=i+1"
   ]
  },
  {
   "cell_type": "code",
   "execution_count": 25,
   "id": "bbb91e40",
   "metadata": {},
   "outputs": [
    {
     "name": "stdout",
     "output_type": "stream",
     "text": [
      "0.0\n",
      "1.0\n",
      "1.2599210498948732\n",
      "1.4422495703074083\n",
      "1.5874010519681994\n",
      "1.7099759466766968\n",
      "1.8171205928321397\n",
      "1.912931182772389\n",
      "2.0\n",
      "2.080083823051904\n",
      "2.154434690031884\n"
     ]
    }
   ],
   "source": [
    "#e\n",
    "import math\n",
    "a=range(11)\n",
    "i=0\n",
    "for i in a:\n",
    "    x=lambda y: math.pow(a[i],1/3)\n",
    "    print(x(a))\n",
    "    i=i+1"
   ]
  },
  {
   "cell_type": "code",
   "execution_count": 29,
   "id": "ccc3d249",
   "metadata": {},
   "outputs": [
    {
     "name": "stdout",
     "output_type": "stream",
     "text": [
      "Enter Number to checked:\t46\n"
     ]
    },
    {
     "data": {
      "text/plain": [
       "'Even'"
      ]
     },
     "execution_count": 29,
     "metadata": {},
     "output_type": "execute_result"
    }
   ],
   "source": [
    "#f\n",
    "a=int(input(\"Enter Number to checked:\\t\"))\n",
    "x=lambda y:\"Even\" if y%2==0 else \"Not Even\"\n",
    "x(a)"
   ]
  },
  {
   "cell_type": "code",
   "execution_count": 31,
   "id": "f2e4a9c7",
   "metadata": {},
   "outputs": [
    {
     "name": "stdout",
     "output_type": "stream",
     "text": [
      "[3, 6, 9]\n"
     ]
    }
   ],
   "source": [
    "#g\n",
    "a=[1,2,3,4,5,6,7,8,9,10]\n",
    "filtlist=list(filter(lambda x:x%3==0,a))\n",
    "print(filtlist)"
   ]
  },
  {
   "cell_type": "code",
   "execution_count": 36,
   "id": "cf28026c",
   "metadata": {},
   "outputs": [
    {
     "name": "stdout",
     "output_type": "stream",
     "text": [
      "Positive Numbers:\t [1, 2, 3, 4, 5, 6]\n",
      "Negative Numbers:\t [-1, -2, -3, -4, -5]\n"
     ]
    }
   ],
   "source": [
    "#h\n",
    "a=[1,2,3,4,5,6,-1,-2,-3,-4,-5,0]\n",
    "positivelist=list(filter(lambda x:x>0,a))\n",
    "negativelist=list(filter(lambda x:x<0,a))\n",
    "print(\"Positive Numbers:\\t\",positivelist)\n",
    "print(\"Negative Numbers:\\t\",negativelist)"
   ]
  },
  {
   "cell_type": "code",
   "execution_count": null,
   "id": "d7d8edf5",
   "metadata": {},
   "outputs": [],
   "source": []
  }
 ],
 "metadata": {
  "kernelspec": {
   "display_name": "Python 3 (ipykernel)",
   "language": "python",
   "name": "python3"
  },
  "language_info": {
   "codemirror_mode": {
    "name": "ipython",
    "version": 3
   },
   "file_extension": ".py",
   "mimetype": "text/x-python",
   "name": "python",
   "nbconvert_exporter": "python",
   "pygments_lexer": "ipython3",
   "version": "3.9.13"
  }
 },
 "nbformat": 4,
 "nbformat_minor": 5
}
