{
 "cells": [
  {
   "cell_type": "code",
   "execution_count": 1,
   "id": "fdb973e9-0ea3-444b-9de3-62203a93de82",
   "metadata": {},
   "outputs": [
    {
     "data": {
      "text/plain": [
       "'daTA sCIENCE mastERS'"
      ]
     },
     "execution_count": 1,
     "metadata": {},
     "output_type": "execute_result"
    }
   ],
   "source": [
    "name=\"DAta Science MASTers\"\n",
    "name.swapcase()"
   ]
  },
  {
   "cell_type": "code",
   "execution_count": 2,
   "id": "58c3f191-f2d7-4ddb-8ef0-a9d233b15d44",
   "metadata": {},
   "outputs": [
    {
     "data": {
      "text/plain": [
       "'Data Science Masters'"
      ]
     },
     "execution_count": 2,
     "metadata": {},
     "output_type": "execute_result"
    }
   ],
   "source": [
    "name.title()"
   ]
  },
  {
   "cell_type": "code",
   "execution_count": 3,
   "id": "2e3793f0-ae43-4ec3-92e0-771b3eb87614",
   "metadata": {},
   "outputs": [
    {
     "data": {
      "text/plain": [
       "'data science masters'"
      ]
     },
     "execution_count": 3,
     "metadata": {},
     "output_type": "execute_result"
    }
   ],
   "source": [
    "name.lower()"
   ]
  },
  {
   "cell_type": "code",
   "execution_count": 4,
   "id": "9df56011-e424-4bce-a7e9-37b67449b528",
   "metadata": {},
   "outputs": [
    {
     "data": {
      "text/plain": [
       "'DAta Science MASTers'"
      ]
     },
     "execution_count": 4,
     "metadata": {},
     "output_type": "execute_result"
    }
   ],
   "source": [
    "name.format()"
   ]
  },
  {
   "cell_type": "code",
   "execution_count": 5,
   "id": "80899e35-adf5-49fa-982e-3cacc5c75172",
   "metadata": {},
   "outputs": [
    {
     "data": {
      "text/plain": [
       "'Data science masters'"
      ]
     },
     "execution_count": 5,
     "metadata": {},
     "output_type": "execute_result"
    }
   ],
   "source": [
    "name.capitalize()"
   ]
  },
  {
   "cell_type": "code",
   "execution_count": 7,
   "id": "7b534c74-100a-448e-997c-6f0f8968ae41",
   "metadata": {},
   "outputs": [
    {
     "data": {
      "text/plain": [
       "<reversed at 0x7f896a2a8160>"
      ]
     },
     "execution_count": 7,
     "metadata": {},
     "output_type": "execute_result"
    }
   ],
   "source": [
    "reversed(name)"
   ]
  },
  {
   "cell_type": "code",
   "execution_count": 8,
   "id": "a3a68106-f991-4f73-918e-94ee8531f74a",
   "metadata": {},
   "outputs": [
    {
     "data": {
      "text/plain": [
       "'sreTSAM ecneicS atAD'"
      ]
     },
     "execution_count": 8,
     "metadata": {},
     "output_type": "execute_result"
    }
   ],
   "source": [
    "\"\".join(reversed(name))"
   ]
  },
  {
   "cell_type": "code",
   "execution_count": 10,
   "id": "4b736311-f5b5-4764-85b5-34455ed3fa2a",
   "metadata": {},
   "outputs": [
    {
     "data": {
      "text/plain": [
       "'AKrishbKrishhKrishi'"
      ]
     },
     "execution_count": 10,
     "metadata": {},
     "output_type": "execute_result"
    }
   ],
   "source": [
    "\"Krish\".join(\"Abhi\")"
   ]
  },
  {
   "cell_type": "code",
   "execution_count": 11,
   "id": "50486432-89c4-4ee1-82f2-b8af7bc1080a",
   "metadata": {},
   "outputs": [
    {
     "data": {
      "text/plain": [
       "'Help'"
      ]
     },
     "execution_count": 11,
     "metadata": {},
     "output_type": "execute_result"
    }
   ],
   "source": [
    "\"\".join(\"Help\")"
   ]
  },
  {
   "cell_type": "code",
   "execution_count": 13,
   "id": "e7c0fb45-7f93-41bc-a45f-7b4641e27b27",
   "metadata": {},
   "outputs": [
    {
     "data": {
      "text/plain": [
       "\"['s', 'r', 'e', 'T', 'S', 'A', 'M', ' ', 'e', 'c', 'n', 'e', 'i', 'c', 'S', ' ', 'a', 't', 'A', 'D']\""
      ]
     },
     "execution_count": 13,
     "metadata": {},
     "output_type": "execute_result"
    }
   ],
   "source": [
    "str(list(reversed(name)))"
   ]
  },
  {
   "cell_type": "code",
   "execution_count": 14,
   "id": "e514430c-4629-495a-b235-c0b4b3fd9e9f",
   "metadata": {},
   "outputs": [],
   "source": [
    "stringu=\" HEHE \""
   ]
  },
  {
   "cell_type": "code",
   "execution_count": 15,
   "id": "85d3b221-b61f-496f-8484-0632f9341b07",
   "metadata": {},
   "outputs": [
    {
     "data": {
      "text/plain": [
       "'HEHE'"
      ]
     },
     "execution_count": 15,
     "metadata": {},
     "output_type": "execute_result"
    }
   ],
   "source": [
    "stringu.strip()"
   ]
  },
  {
   "cell_type": "code",
   "execution_count": 16,
   "id": "1551ad58-4435-4e83-9aa4-70a0c3276d7c",
   "metadata": {},
   "outputs": [
    {
     "data": {
      "text/plain": [
       "'HEHE '"
      ]
     },
     "execution_count": 16,
     "metadata": {},
     "output_type": "execute_result"
    }
   ],
   "source": [
    "stringu.lstrip()"
   ]
  },
  {
   "cell_type": "code",
   "execution_count": 17,
   "id": "f50f0691-ab44-46c7-b34e-cfd33dd51166",
   "metadata": {},
   "outputs": [
    {
     "data": {
      "text/plain": [
       "' HEHE'"
      ]
     },
     "execution_count": 17,
     "metadata": {},
     "output_type": "execute_result"
    }
   ],
   "source": [
    "stringu.rstrip()"
   ]
  },
  {
   "cell_type": "code",
   "execution_count": 32,
   "id": "9bae426f-eb74-40e9-b73c-e7501de2370c",
   "metadata": {},
   "outputs": [],
   "source": [
    "str1=\"Greeting, Abhinav and welcome Abhinav and hoping to worl with Abhinav\""
   ]
  },
  {
   "cell_type": "code",
   "execution_count": 33,
   "id": "541471f3-cf6e-45d3-9c41-56c3a44facf8",
   "metadata": {},
   "outputs": [
    {
     "data": {
      "text/plain": [
       "'Greeting, Shruti and welcome Shruti and hoping to worl with Abhinav'"
      ]
     },
     "execution_count": 33,
     "metadata": {},
     "output_type": "execute_result"
    }
   ],
   "source": [
    "str1.replace(\"Abhinav\",\"Shruti\",2)"
   ]
  },
  {
   "cell_type": "code",
   "execution_count": 34,
   "id": "c3b3bd24-d01c-48f2-9267-121f9cd7d831",
   "metadata": {},
   "outputs": [
    {
     "name": "stdout",
     "output_type": "stream",
     "text": [
      "Greeting, Abhinav and welcome Abhinav and hoping to worl with Abhinav\n"
     ]
    }
   ],
   "source": [
    "print(str1)"
   ]
  },
  {
   "cell_type": "code",
   "execution_count": 36,
   "id": "7ac291d4-d00b-4dae-a14c-b27e1ea6753e",
   "metadata": {},
   "outputs": [
    {
     "data": {
      "text/plain": [
       "'Greeting,   Abhinav   and   welcome   Abhinav   and   hoping   to   worl   with   Abhinav'"
      ]
     },
     "execution_count": 36,
     "metadata": {},
     "output_type": "execute_result"
    }
   ],
   "source": [
    "str1.replace(\" \",\"   \")"
   ]
  },
  {
   "cell_type": "code",
   "execution_count": 37,
   "id": "8f8382ba-7e78-4767-bf6c-8c62f4fb4bd4",
   "metadata": {},
   "outputs": [
    {
     "data": {
      "text/plain": [
       "'Welcome to Pwskills.Welcome to Data Science Masters'"
      ]
     },
     "execution_count": 37,
     "metadata": {},
     "output_type": "execute_result"
    }
   ],
   "source": [
    "str1=\"Welcome to Pwskills.Welcome to Dat cience Masters\"\n",
    "str1.replace(\"Dat\",\"Data\").replace(\"cience\",\"Science\")"
   ]
  },
  {
   "cell_type": "code",
   "execution_count": 38,
   "id": "c2d25cb9-a7e8-4af7-bb05-23ddfaeb68f0",
   "metadata": {},
   "outputs": [
    {
     "data": {
      "text/plain": [
       "False"
      ]
     },
     "execution_count": 38,
     "metadata": {},
     "output_type": "execute_result"
    }
   ],
   "source": [
    "str1.isupper()"
   ]
  },
  {
   "cell_type": "code",
   "execution_count": 39,
   "id": "521d9631-7416-4e11-853f-78ab2eec1499",
   "metadata": {},
   "outputs": [
    {
     "data": {
      "text/plain": [
       "True"
      ]
     },
     "execution_count": 39,
     "metadata": {},
     "output_type": "execute_result"
    }
   ],
   "source": [
    "str2=\"ABHINAV\"\n",
    "str2.isupper()"
   ]
  },
  {
   "cell_type": "code",
   "execution_count": 40,
   "id": "a0b1f389-b75a-44ca-bdc7-96587fcf1799",
   "metadata": {},
   "outputs": [
    {
     "data": {
      "text/plain": [
       "False"
      ]
     },
     "execution_count": 40,
     "metadata": {},
     "output_type": "execute_result"
    }
   ],
   "source": [
    "str1.islower()"
   ]
  },
  {
   "cell_type": "code",
   "execution_count": 41,
   "id": "522ebb37-4650-4c03-99c3-c9796311c1ff",
   "metadata": {},
   "outputs": [
    {
     "data": {
      "text/plain": [
       "False"
      ]
     },
     "execution_count": 41,
     "metadata": {},
     "output_type": "execute_result"
    }
   ],
   "source": [
    "str1.isspace()"
   ]
  },
  {
   "cell_type": "code",
   "execution_count": 42,
   "id": "42f5974d-b71d-425a-a0f1-0bd73a0b82a4",
   "metadata": {},
   "outputs": [
    {
     "data": {
      "text/plain": [
       "False"
      ]
     },
     "execution_count": 42,
     "metadata": {},
     "output_type": "execute_result"
    }
   ],
   "source": [
    "str1.istitle()"
   ]
  },
  {
   "cell_type": "code",
   "execution_count": 43,
   "id": "cabe3890-d2e1-4eec-afde-ebb1d10f66fa",
   "metadata": {},
   "outputs": [
    {
     "data": {
      "text/plain": [
       "False"
      ]
     },
     "execution_count": 43,
     "metadata": {},
     "output_type": "execute_result"
    }
   ],
   "source": [
    "str2.istitle()"
   ]
  },
  {
   "cell_type": "code",
   "execution_count": 44,
   "id": "bf0a5e9b-7a17-44b6-88f6-4ef78bc9edd1",
   "metadata": {},
   "outputs": [
    {
     "data": {
      "text/plain": [
       "True"
      ]
     },
     "execution_count": 44,
     "metadata": {},
     "output_type": "execute_result"
    }
   ],
   "source": [
    "str3=\"Abhi\"\n",
    "str3.istitle()"
   ]
  },
  {
   "cell_type": "code",
   "execution_count": 45,
   "id": "6919c734-1882-4528-b058-05e9fe86cc62",
   "metadata": {},
   "outputs": [
    {
     "data": {
      "text/plain": [
       "True"
      ]
     },
     "execution_count": 45,
     "metadata": {},
     "output_type": "execute_result"
    }
   ],
   "source": [
    "str3.endswith(\"i\")"
   ]
  },
  {
   "cell_type": "code",
   "execution_count": 47,
   "id": "fbccc62c-4ff8-4b26-a391-5bf831152855",
   "metadata": {},
   "outputs": [
    {
     "data": {
      "text/plain": [
       "False"
      ]
     },
     "execution_count": 47,
     "metadata": {},
     "output_type": "execute_result"
    }
   ],
   "source": [
    "str3.endswith(\"h\")"
   ]
  },
  {
   "cell_type": "code",
   "execution_count": 48,
   "id": "fddf3265-6312-48bd-919b-7ac79721242b",
   "metadata": {},
   "outputs": [
    {
     "data": {
      "text/plain": [
       "True"
      ]
     },
     "execution_count": 48,
     "metadata": {},
     "output_type": "execute_result"
    }
   ],
   "source": [
    "str3.startswith(\"A\")"
   ]
  },
  {
   "cell_type": "code",
   "execution_count": 49,
   "id": "6c9e07c2-1d9c-4230-83f3-9c46219eb2ac",
   "metadata": {},
   "outputs": [
    {
     "data": {
      "text/plain": [
       "True"
      ]
     },
     "execution_count": 49,
     "metadata": {},
     "output_type": "execute_result"
    }
   ],
   "source": [
    "a=\"as456\"\n",
    "a.isalnum()"
   ]
  },
  {
   "cell_type": "code",
   "execution_count": 50,
   "id": "15b4597d-b7ad-4955-a773-3bb84f332a59",
   "metadata": {},
   "outputs": [
    {
     "data": {
      "text/plain": [
       "True"
      ]
     },
     "execution_count": 50,
     "metadata": {},
     "output_type": "execute_result"
    }
   ],
   "source": [
    "a.isascii()"
   ]
  },
  {
   "cell_type": "code",
   "execution_count": 51,
   "id": "f7d6f86e-ce87-486d-9425-681ab406c2de",
   "metadata": {},
   "outputs": [
    {
     "data": {
      "text/plain": [
       "False"
      ]
     },
     "execution_count": 51,
     "metadata": {},
     "output_type": "execute_result"
    }
   ],
   "source": [
    "a.isdecimal()"
   ]
  },
  {
   "cell_type": "code",
   "execution_count": 54,
   "id": "b27ae01d-cae0-4775-9086-3fb3f6b80d1b",
   "metadata": {},
   "outputs": [
    {
     "name": "stdout",
     "output_type": "stream",
     "text": [
      "5\n"
     ]
    }
   ],
   "source": [
    "count=0\n",
    "for i in a:\n",
    "    count=count+1\n",
    "print(count)"
   ]
  },
  {
   "cell_type": "code",
   "execution_count": 60,
   "id": "bd25d117-17ca-46a1-b966-bbd2556f73ed",
   "metadata": {},
   "outputs": [
    {
     "name": "stdout",
     "output_type": "stream",
     "text": [
      "a 0\n",
      "s 1\n",
      "4 2\n",
      "5 3\n",
      "6 4\n"
     ]
    }
   ],
   "source": [
    "for i in range(len(a)):\n",
    "    print(a[i],i)"
   ]
  },
  {
   "cell_type": "code",
   "execution_count": 67,
   "id": "9bebf625-7460-438c-b97d-03483fcd8ca5",
   "metadata": {},
   "outputs": [
    {
     "name": "stdout",
     "output_type": "stream",
     "text": [
      "6\n",
      "5\n",
      "4\n",
      "s\n",
      "a\n"
     ]
    }
   ],
   "source": [
    "for i in range(4,-1,-1):\n",
    "    print(a[i])"
   ]
  },
  {
   "cell_type": "code",
   "execution_count": 69,
   "id": "2c1a8476-f3e2-402c-a689-0e2854234999",
   "metadata": {},
   "outputs": [
    {
     "ename": "IndexError",
     "evalue": "string index out of range",
     "output_type": "error",
     "traceback": [
      "\u001b[0;31m---------------------------------------------------------------------------\u001b[0m",
      "\u001b[0;31mIndexError\u001b[0m                                Traceback (most recent call last)",
      "Cell \u001b[0;32mIn[69], line 3\u001b[0m\n\u001b[1;32m      1\u001b[0m ch\u001b[38;5;241m=\u001b[39m\u001b[38;5;28mlen\u001b[39m(a)\n\u001b[1;32m      2\u001b[0m \u001b[38;5;28;01mwhile\u001b[39;00m ch\u001b[38;5;241m>\u001b[39m\u001b[38;5;241m=\u001b[39m\u001b[38;5;241m0\u001b[39m:\n\u001b[0;32m----> 3\u001b[0m     \u001b[38;5;28mprint\u001b[39m(\u001b[43ma\u001b[49m\u001b[43m[\u001b[49m\u001b[43mch\u001b[49m\u001b[43m]\u001b[49m)\n\u001b[1;32m      4\u001b[0m     ch\u001b[38;5;241m=\u001b[39mch\u001b[38;5;241m-\u001b[39m\u001b[38;5;241m1\u001b[39m\n",
      "\u001b[0;31mIndexError\u001b[0m: string index out of range"
     ]
    }
   ],
   "source": [
    "ch=len(a)\n",
    "while ch>=0:\n",
    "    print(a[ch])\n",
    "    ch=ch-1"
   ]
  },
  {
   "cell_type": "code",
   "execution_count": 73,
   "id": "23f13a07-490f-4cce-8316-28389c0d2e6b",
   "metadata": {},
   "outputs": [
    {
     "name": "stdout",
     "output_type": "stream",
     "text": [
      "p is not a vowel\n",
      "w is not a vowel\n",
      "s is not a vowel\n",
      "k is not a vowel\n",
      "i is a vowel\n",
      "l is not a vowel\n",
      "l is not a vowel\n",
      "s is not a vowel\n"
     ]
    }
   ],
   "source": [
    "name=\"pwskills\"\n",
    "vowel=\"aeiou\"\n",
    "for ch in name:\n",
    "    if ch in vowel:\n",
    "        print(\"{} is a vowel\".format(ch))\n",
    "    else:\n",
    "        print(\"{} is not a vowel\".format(ch))"
   ]
  },
  {
   "cell_type": "markdown",
   "id": "994051e7-0123-48c4-b2af-bd77e968a0aa",
   "metadata": {},
   "source": [
    "## Lists"
   ]
  },
  {
   "cell_type": "code",
   "execution_count": 79,
   "id": "ac7d4a03-aca9-4410-b4b4-b98386a5699a",
   "metadata": {},
   "outputs": [
    {
     "data": {
      "text/plain": [
       "['W',\n",
       " 'e',\n",
       " 'l',\n",
       " 'c',\n",
       " 'o',\n",
       " 'm',\n",
       " 'e',\n",
       " ' ',\n",
       " 't',\n",
       " 'o',\n",
       " ' ',\n",
       " 'P',\n",
       " 'w',\n",
       " 's',\n",
       " 'k',\n",
       " 'i',\n",
       " 'l',\n",
       " 'l',\n",
       " 's',\n",
       " '.',\n",
       " 'W',\n",
       " 'e',\n",
       " 'l',\n",
       " 'c',\n",
       " 'o',\n",
       " 'm',\n",
       " 'e',\n",
       " ' ',\n",
       " 't',\n",
       " 'o',\n",
       " ' ',\n",
       " 'D',\n",
       " 'a',\n",
       " 't',\n",
       " ' ',\n",
       " 'c',\n",
       " 'i',\n",
       " 'e',\n",
       " 'n',\n",
       " 'c',\n",
       " 'e',\n",
       " ' ',\n",
       " 'M',\n",
       " 'a',\n",
       " 's',\n",
       " 't',\n",
       " 'e',\n",
       " 'r',\n",
       " 's']"
      ]
     },
     "execution_count": 79,
     "metadata": {},
     "output_type": "execute_result"
    }
   ],
   "source": [
    "list(str1)"
   ]
  },
  {
   "cell_type": "code",
   "execution_count": 83,
   "id": "a16a9874-58d8-40f5-875e-0eb7499ed535",
   "metadata": {},
   "outputs": [
    {
     "data": {
      "text/plain": [
       "['Welcome to Pwskills', 'Welcome to Dat cience Masters']"
      ]
     },
     "execution_count": 83,
     "metadata": {},
     "output_type": "execute_result"
    }
   ],
   "source": [
    "str1.split(\".\")"
   ]
  },
  {
   "cell_type": "code",
   "execution_count": 89,
   "id": "af953fc1-5189-4070-9a93-0f46336b653f",
   "metadata": {},
   "outputs": [],
   "source": [
    "lst1=[\"ABHINAV\",\"Shruti\",\"Calix\"]\n",
    "lst2=lst1+[[\"obaid\",\"vedant\"]]"
   ]
  },
  {
   "cell_type": "code",
   "execution_count": 90,
   "id": "5060acf4-4d59-4175-ac11-ca4bebab14b4",
   "metadata": {},
   "outputs": [
    {
     "data": {
      "text/plain": [
       "['ABHINAV', 'Shruti', 'Calix', ['obaid', 'vedant']]"
      ]
     },
     "execution_count": 90,
     "metadata": {},
     "output_type": "execute_result"
    }
   ],
   "source": [
    "lst2"
   ]
  },
  {
   "cell_type": "code",
   "execution_count": 91,
   "id": "4c40fd2c-2aa1-4cfa-b678-81fbc22d0f53",
   "metadata": {},
   "outputs": [
    {
     "data": {
      "text/plain": [
       "['obaid', 'vedant']"
      ]
     },
     "execution_count": 91,
     "metadata": {},
     "output_type": "execute_result"
    }
   ],
   "source": [
    "lst2[-1]"
   ]
  },
  {
   "cell_type": "code",
   "execution_count": 93,
   "id": "83b84d85-ab0f-4446-888f-fe796453d8d8",
   "metadata": {},
   "outputs": [
    {
     "data": {
      "text/plain": [
       "'obaid'"
      ]
     },
     "execution_count": 93,
     "metadata": {},
     "output_type": "execute_result"
    }
   ],
   "source": [
    "lst2[-1][0]"
   ]
  },
  {
   "cell_type": "code",
   "execution_count": 96,
   "id": "f14aad06-6940-4f71-83a4-7465eded4e1b",
   "metadata": {},
   "outputs": [
    {
     "data": {
      "text/plain": [
       "['ABHINAV',\n",
       " 'Shruti',\n",
       " 'Calix',\n",
       " ['obaid', 'vedant'],\n",
       " 'ABHINAV',\n",
       " 'Shruti',\n",
       " 'Calix',\n",
       " ['obaid', 'vedant'],\n",
       " 'ABHINAV',\n",
       " 'Shruti',\n",
       " 'Calix',\n",
       " ['obaid', 'vedant'],\n",
       " 'ABHINAV',\n",
       " 'Shruti',\n",
       " 'Calix',\n",
       " ['obaid', 'vedant'],\n",
       " 'ABHINAV',\n",
       " 'Shruti',\n",
       " 'Calix',\n",
       " ['obaid', 'vedant']]"
      ]
     },
     "execution_count": 96,
     "metadata": {},
     "output_type": "execute_result"
    }
   ],
   "source": [
    "lst2*5"
   ]
  },
  {
   "cell_type": "code",
   "execution_count": 103,
   "id": "f679214f-5e40-4bfb-bc25-cb71ba7f64cd",
   "metadata": {},
   "outputs": [
    {
     "name": "stdout",
     "output_type": "stream",
     "text": [
      "ABHINAV\n",
      "Shruti\n",
      "Found Shruti\n"
     ]
    }
   ],
   "source": [
    "for i in lst2:\n",
    "    print(i)\n",
    "    if i==\"Shruti\":\n",
    "        print(\"Found Shruti\")\n",
    "        break"
   ]
  },
  {
   "cell_type": "code",
   "execution_count": 105,
   "id": "b85d1a74-5290-4885-a6a2-9399339b8f89",
   "metadata": {},
   "outputs": [
    {
     "data": {
      "text/plain": [
       "True"
      ]
     },
     "execution_count": 105,
     "metadata": {},
     "output_type": "execute_result"
    }
   ],
   "source": [
    "\"Calix\" in lst2"
   ]
  },
  {
   "cell_type": "code",
   "execution_count": 106,
   "id": "6a71c1f5-4804-4e37-973d-65751ce37a04",
   "metadata": {},
   "outputs": [
    {
     "data": {
      "text/plain": [
       "False"
      ]
     },
     "execution_count": 106,
     "metadata": {},
     "output_type": "execute_result"
    }
   ],
   "source": [
    "4 in lst2"
   ]
  },
  {
   "cell_type": "code",
   "execution_count": 107,
   "id": "15068353-149e-4940-b30a-937751057245",
   "metadata": {},
   "outputs": [],
   "source": [
    "lst3=[\"zebra\",\"monkey\",\"donkey\"]\n",
    "lst4=[5,6,4,89,79]"
   ]
  },
  {
   "cell_type": "code",
   "execution_count": 108,
   "id": "24b6604f-8a38-4072-8f68-00b4504d3b2d",
   "metadata": {
    "tags": []
   },
   "outputs": [
    {
     "name": "stdout",
     "output_type": "stream",
     "text": [
      "zebra\n"
     ]
    }
   ],
   "source": [
    "print(max(lst3))\n",
    "#prints xebra based on asciii character value"
   ]
  },
  {
   "cell_type": "code",
   "execution_count": 111,
   "id": "683e4f08-09a2-42d9-8e08-86edd7903852",
   "metadata": {},
   "outputs": [
    {
     "name": "stdout",
     "output_type": "stream",
     "text": [
      "donkey\n",
      "4\n"
     ]
    }
   ],
   "source": [
    "print(min(lst3))\n",
    "print(min(lst4))"
   ]
  },
  {
   "cell_type": "code",
   "execution_count": 114,
   "id": "6664febe-e874-41c8-951e-8b0a6ad030be",
   "metadata": {},
   "outputs": [],
   "source": [
    "lst3.append(\"Helllo\")"
   ]
  },
  {
   "cell_type": "code",
   "execution_count": 115,
   "id": "b8d4d1bf-0da6-48a9-a01f-12168286ca7a",
   "metadata": {},
   "outputs": [
    {
     "data": {
      "text/plain": [
       "['zebra', 'monkey', 'donkey', 'Helllo1', 'Helllo']"
      ]
     },
     "execution_count": 115,
     "metadata": {},
     "output_type": "execute_result"
    }
   ],
   "source": [
    "lst3"
   ]
  },
  {
   "cell_type": "code",
   "execution_count": 116,
   "id": "eaabde8d-e8e9-4fd6-9555-a1a8cd971cb3",
   "metadata": {},
   "outputs": [],
   "source": [
    "lst3.append([\"help\",\"Samosa\",\"Biriyani\"])"
   ]
  },
  {
   "cell_type": "code",
   "execution_count": 117,
   "id": "b549f1c2-2058-481e-9910-9b49914461be",
   "metadata": {},
   "outputs": [
    {
     "data": {
      "text/plain": [
       "['zebra',\n",
       " 'monkey',\n",
       " 'donkey',\n",
       " 'Helllo1',\n",
       " 'Helllo',\n",
       " ['help', 'Samosa', 'Biriyani']]"
      ]
     },
     "execution_count": 117,
     "metadata": {},
     "output_type": "execute_result"
    }
   ],
   "source": [
    "lst3"
   ]
  },
  {
   "cell_type": "code",
   "execution_count": 118,
   "id": "e1484898-85b1-4ab6-85b6-0b365e66e829",
   "metadata": {},
   "outputs": [
    {
     "data": {
      "text/plain": [
       "'Helllo1'"
      ]
     },
     "execution_count": 118,
     "metadata": {},
     "output_type": "execute_result"
    }
   ],
   "source": [
    "lst3.pop(3)"
   ]
  },
  {
   "cell_type": "code",
   "execution_count": 119,
   "id": "5eb6c805-d057-46ca-a9d2-7aa8dff4c4e2",
   "metadata": {},
   "outputs": [
    {
     "data": {
      "text/plain": [
       "['zebra', 'monkey', 'donkey', 'Helllo', ['help', 'Samosa', 'Biriyani']]"
      ]
     },
     "execution_count": 119,
     "metadata": {},
     "output_type": "execute_result"
    }
   ],
   "source": [
    "lst3"
   ]
  },
  {
   "cell_type": "code",
   "execution_count": 120,
   "id": "eddbc3d0-049c-4e62-8d18-da5bf857b142",
   "metadata": {},
   "outputs": [
    {
     "name": "stdout",
     "output_type": "stream",
     "text": [
      "Helllo\n"
     ]
    }
   ],
   "source": [
    "removed_element=lst3.pop(3)\n",
    "print(removed_element)"
   ]
  },
  {
   "cell_type": "code",
   "execution_count": 121,
   "id": "4e572050-2fda-4b57-bed8-b1d0890705b5",
   "metadata": {},
   "outputs": [
    {
     "data": {
      "text/plain": [
       "[5, 6, 4, 89, 79]"
      ]
     },
     "execution_count": 121,
     "metadata": {},
     "output_type": "execute_result"
    }
   ],
   "source": [
    "lst4"
   ]
  },
  {
   "cell_type": "code",
   "execution_count": 122,
   "id": "7e7b5c34-44b2-434f-a896-67db6ff659d8",
   "metadata": {},
   "outputs": [
    {
     "data": {
      "text/plain": [
       "['ABHINAV', 'Shruti', 'Calix', ['obaid', 'vedant']]"
      ]
     },
     "execution_count": 122,
     "metadata": {},
     "output_type": "execute_result"
    }
   ],
   "source": [
    "lst2"
   ]
  },
  {
   "cell_type": "code",
   "execution_count": 123,
   "id": "71324793-4c68-40c7-88cc-53c5b13c6254",
   "metadata": {},
   "outputs": [
    {
     "data": {
      "text/plain": [
       "['ABHINAV', 'Shruti', 'Calix']"
      ]
     },
     "execution_count": 123,
     "metadata": {},
     "output_type": "execute_result"
    }
   ],
   "source": [
    "lst1"
   ]
  },
  {
   "cell_type": "code",
   "execution_count": 124,
   "id": "2d0b0ce3-c50a-48d8-ac9d-cd386d403f42",
   "metadata": {},
   "outputs": [],
   "source": [
    "lst1.reverse()"
   ]
  },
  {
   "cell_type": "code",
   "execution_count": 125,
   "id": "fc0e5577-f829-44d3-b4ed-88e72684dc95",
   "metadata": {},
   "outputs": [
    {
     "data": {
      "text/plain": [
       "['Calix', 'Shruti', 'ABHINAV']"
      ]
     },
     "execution_count": 125,
     "metadata": {},
     "output_type": "execute_result"
    }
   ],
   "source": [
    "lst1"
   ]
  },
  {
   "cell_type": "code",
   "execution_count": 126,
   "id": "47229b67-1b73-4ee5-9b79-fe7187b5b952",
   "metadata": {},
   "outputs": [],
   "source": [
    "lst1.sort()"
   ]
  },
  {
   "cell_type": "code",
   "execution_count": 127,
   "id": "f5fde87e-99eb-45f6-a544-9dc6854629c8",
   "metadata": {},
   "outputs": [
    {
     "data": {
      "text/plain": [
       "['ABHINAV', 'Calix', 'Shruti']"
      ]
     },
     "execution_count": 127,
     "metadata": {},
     "output_type": "execute_result"
    }
   ],
   "source": [
    "lst1"
   ]
  },
  {
   "cell_type": "code",
   "execution_count": 132,
   "id": "8f299201-6acc-4aa9-968f-914238de47e7",
   "metadata": {},
   "outputs": [],
   "source": [
    "lst4.sort()"
   ]
  },
  {
   "cell_type": "code",
   "execution_count": 133,
   "id": "81c44d5d-b733-458f-ba14-b91891d76166",
   "metadata": {},
   "outputs": [
    {
     "data": {
      "text/plain": [
       "[4, 5, 6, 79, 89]"
      ]
     },
     "execution_count": 133,
     "metadata": {},
     "output_type": "execute_result"
    }
   ],
   "source": [
    "lst4"
   ]
  },
  {
   "cell_type": "code",
   "execution_count": 135,
   "id": "45d619c0-b5d0-4d46-aa7e-167dc3ce5e79",
   "metadata": {},
   "outputs": [],
   "source": [
    "lst2.extend([\"Abhi\",\"Gollu\"])"
   ]
  },
  {
   "cell_type": "code",
   "execution_count": 136,
   "id": "182b7721-08aa-4245-a52e-16af49a1ec03",
   "metadata": {},
   "outputs": [
    {
     "data": {
      "text/plain": [
       "['ABHINAV', 'Calix', 'Shruti', ['obaid', 'vedant'], 'Abhi', 'Gollu']"
      ]
     },
     "execution_count": 136,
     "metadata": {},
     "output_type": "execute_result"
    }
   ],
   "source": [
    "lst2"
   ]
  },
  {
   "cell_type": "code",
   "execution_count": 137,
   "id": "f8a90fc6-f92e-4066-a54f-6d627c341ab9",
   "metadata": {},
   "outputs": [],
   "source": [
    "lst1.sort(reverse=True)"
   ]
  },
  {
   "cell_type": "code",
   "execution_count": 138,
   "id": "6b549c65-d8e8-4a34-bc07-73ceec4b6949",
   "metadata": {},
   "outputs": [
    {
     "data": {
      "text/plain": [
       "['Shruti', 'Calix', 'ABHINAV']"
      ]
     },
     "execution_count": 138,
     "metadata": {},
     "output_type": "execute_result"
    }
   ],
   "source": [
    "lst1"
   ]
  },
  {
   "cell_type": "code",
   "execution_count": 140,
   "id": "c923a8be-4a4d-4f61-bd54-d1d1718f94d0",
   "metadata": {},
   "outputs": [
    {
     "data": {
      "text/plain": [
       "[0, 1, 2, 3, 4, 5, 6, 7, 8, 9, 10, 11, 12, 13, 14, 15, 16, 17, 18, 19]"
      ]
     },
     "execution_count": 140,
     "metadata": {},
     "output_type": "execute_result"
    }
   ],
   "source": [
    "[i for i in range (20)]"
   ]
  },
  {
   "cell_type": "code",
   "execution_count": 142,
   "id": "58e6d4da-b7c1-495b-b72c-623739ed7a59",
   "metadata": {},
   "outputs": [
    {
     "data": {
      "text/plain": [
       "[0, '', 2, '', 4, '', 6, '', 8, '', 10, '', 12, '', 14, '', 16, '', 18, '']"
      ]
     },
     "execution_count": 142,
     "metadata": {},
     "output_type": "execute_result"
    }
   ],
   "source": [
    "[i if i%2==0 else \"\" for i in range(20)]"
   ]
  },
  {
   "cell_type": "code",
   "execution_count": 149,
   "id": "cc9fd080-1801-41df-85aa-2b5ca671b342",
   "metadata": {},
   "outputs": [
    {
     "name": "stdout",
     "output_type": "stream",
     "text": [
      "[2, 4, 6, 8]\n",
      "[1, 3, 5, 7]\n",
      "20\n",
      "16\n"
     ]
    }
   ],
   "source": [
    "v1=[]\n",
    "v2=[]\n",
    "lst=[1,2,3,4,5,6,7,8]\n",
    "for i in lst:\n",
    "    if i%2==0:\n",
    "        v1.append(i)\n",
    "    else:\n",
    "        v2.append(i)\n",
    "print(v1)\n",
    "print(v2)\n",
    "print(sum(v1))\n",
    "print(sum(v2))"
   ]
  },
  {
   "cell_type": "code",
   "execution_count": 152,
   "id": "c5a0c1f9-b3e3-4d31-b52a-d3c3883173ad",
   "metadata": {},
   "outputs": [
    {
     "name": "stdout",
     "output_type": "stream",
     "text": [
      "20\n"
     ]
    }
   ],
   "source": [
    "even=sum([num for num in lst if num%2==0])\n",
    "print(even)"
   ]
  },
  {
   "cell_type": "code",
   "execution_count": 153,
   "id": "a8333ac5-185b-4b7b-99fb-bf3090ae6ecd",
   "metadata": {},
   "outputs": [
    {
     "name": "stdout",
     "output_type": "stream",
     "text": [
      "[2, 4]\n"
     ]
    }
   ],
   "source": [
    "number=[-1,2,-5,4,-9]\n",
    "po=[num for num in number if num>=0]\n",
    "print(po)"
   ]
  },
  {
   "cell_type": "code",
   "execution_count": 157,
   "id": "a32e3fbd-54e5-48e0-8fc3-c52ecccba1d3",
   "metadata": {},
   "outputs": [
    {
     "name": "stdout",
     "output_type": "stream",
     "text": [
      "[32.0, 50.0, 68.0, 86.0, 104.0, 122.0]\n"
     ]
    }
   ],
   "source": [
    "c=[0,10,20,30,40,50]\n",
    "f=[(9/5)*num+32 for num in c ]\n",
    "print(f)"
   ]
  },
  {
   "cell_type": "code",
   "execution_count": 160,
   "id": "b1ee0e0c-0d20-43b7-9a01-fde79f018ba3",
   "metadata": {},
   "outputs": [
    {
     "name": "stdout",
     "output_type": "stream",
     "text": [
      "1 is odd\n",
      "2 is even\n",
      "3 is odd\n",
      "4 is even\n",
      "5 is odd\n",
      "6 is even\n",
      "7 is odd\n",
      "8 is even\n",
      "9 is odd\n"
     ]
    }
   ],
   "source": [
    "numb=[1,2,3,4,5,6,7,8,9]\n",
    "for i in numb:\n",
    "    if i%2!=0:\n",
    "        print(\"{} is odd\".format(i))\n",
    "    else:\n",
    "        print(\"{} is even\".format(i))"
   ]
  },
  {
   "cell_type": "code",
   "execution_count": 163,
   "id": "60db6821-ab91-4328-b9e0-f0be0c93c2f4",
   "metadata": {},
   "outputs": [
    {
     "data": {
      "text/plain": [
       "[1, 3, 5, 7, 9]"
      ]
     },
     "execution_count": 163,
     "metadata": {},
     "output_type": "execute_result"
    }
   ],
   "source": [
    "[i for i in numb if i%2!=0]"
   ]
  },
  {
   "cell_type": "code",
   "execution_count": null,
   "id": "4b891849-dc3f-4a77-8dd0-ed9bfdf34b14",
   "metadata": {},
   "outputs": [],
   "source": []
  }
 ],
 "metadata": {
  "kernelspec": {
   "display_name": "Python 3 (ipykernel)",
   "language": "python",
   "name": "python3"
  },
  "language_info": {
   "codemirror_mode": {
    "name": "ipython",
    "version": 3
   },
   "file_extension": ".py",
   "mimetype": "text/x-python",
   "name": "python",
   "nbconvert_exporter": "python",
   "pygments_lexer": "ipython3",
   "version": "3.10.8"
  }
 },
 "nbformat": 4,
 "nbformat_minor": 5
}
